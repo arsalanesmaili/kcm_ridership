{
 "cells": [
  {
   "cell_type": "code",
   "execution_count": 2,
   "id": "32b7cb77",
   "metadata": {},
   "outputs": [],
   "source": [
    "import pandas as pd\n",
    "import os"
   ]
  },
  {
   "cell_type": "code",
   "execution_count": 3,
   "id": "888007f5",
   "metadata": {},
   "outputs": [
    {
     "data": {
      "text/plain": "'/Users/shakibanaderian/Desktop/Research/ORCA card/kcm_ridership/arsalan'"
     },
     "execution_count": 3,
     "metadata": {},
     "output_type": "execute_result"
    }
   ],
   "source": [
    "os.getcwd()"
   ]
  },
  {
   "cell_type": "code",
   "execution_count": 4,
   "id": "44782159",
   "metadata": {},
   "outputs": [
    {
     "ename": "FileNotFoundError",
     "evalue": "[Errno 2] No such file or directory: 'C:/Users/arsalan/UW/og_fhwa_kcm_transit_2021start - General/Analysis on ORCA data'",
     "output_type": "error",
     "traceback": [
      "\u001B[0;31m---------------------------------------------------------------------------\u001B[0m",
      "\u001B[0;31mFileNotFoundError\u001B[0m                         Traceback (most recent call last)",
      "\u001B[0;32m/var/folders/fh/zynvgz3502n7wqtzvnrpjnj40000gn/T/ipykernel_46148/1205746524.py\u001B[0m in \u001B[0;36m<module>\u001B[0;34m\u001B[0m\n\u001B[0;32m----> 1\u001B[0;31m \u001B[0mos\u001B[0m\u001B[0;34m.\u001B[0m\u001B[0mchdir\u001B[0m\u001B[0;34m(\u001B[0m\u001B[0;34m'C:/Users/arsalan/UW/og_fhwa_kcm_transit_2021start - General/Analysis on ORCA data'\u001B[0m\u001B[0;34m)\u001B[0m\u001B[0;34m\u001B[0m\u001B[0;34m\u001B[0m\u001B[0m\n\u001B[0m",
      "\u001B[0;31mFileNotFoundError\u001B[0m: [Errno 2] No such file or directory: 'C:/Users/arsalan/UW/og_fhwa_kcm_transit_2021start - General/Analysis on ORCA data'"
     ]
    }
   ],
   "source": [
    "os.chdir('C:/Users/arsalan/UW/og_fhwa_kcm_transit_2021start - General/Analysis on ORCA data')"
   ]
  },
  {
   "cell_type": "code",
   "execution_count": 1,
   "id": "ed2786b0",
   "metadata": {},
   "outputs": [
    {
     "ename": "NameError",
     "evalue": "name 'pd' is not defined",
     "output_type": "error",
     "traceback": [
      "\u001B[0;31m---------------------------------------------------------------------------\u001B[0m",
      "\u001B[0;31mNameError\u001B[0m                                 Traceback (most recent call last)",
      "\u001B[0;32m/var/folders/fh/zynvgz3502n7wqtzvnrpjnj40000gn/T/ipykernel_46148/2292770942.py\u001B[0m in \u001B[0;36m<module>\u001B[0;34m\u001B[0m\n\u001B[0;32m----> 1\u001B[0;31m \u001B[0mORCA_2023\u001B[0m \u001B[0;34m=\u001B[0m \u001B[0mpd\u001B[0m\u001B[0;34m.\u001B[0m\u001B[0mread_csv\u001B[0m\u001B[0;34m(\u001B[0m\u001B[0;34m'2023-04_orca_boardings.csv'\u001B[0m\u001B[0;34m)\u001B[0m\u001B[0;34m\u001B[0m\u001B[0;34m\u001B[0m\u001B[0m\n\u001B[0m",
      "\u001B[0;31mNameError\u001B[0m: name 'pd' is not defined"
     ]
    }
   ],
   "source": [
    "ORCA_2023 = pd.read_csv('2023-04_orca_boardings.csv')"
   ]
  },
  {
   "cell_type": "code",
   "execution_count": 106,
   "id": "f1314226",
   "metadata": {},
   "outputs": [
    {
     "data": {
      "text/plain": "      txn_id                boarding_guid  txn_type_id  card_id  \\\n0  200000000   146580sc-70-67-643077ef45e           66    84105   \n1  200000010   1283408o-70-19-643077f0ad2           66  3096144   \n2  200000012  16043092-70-147-643077f01f4           66   461903   \n3  200000016   1588004h-70-48-643066c649e           84   499699   \n4  200000018   153140d8-70-59-643077f08e0           66    23183   \n\n   passenger_type_id  passenger_count  product_id business_date  device_id  \\\n0                  1                1         NaN    2023-04-07    14658.0   \n1                  1                1         NaN    2023-04-07    12834.0   \n2                  1                1         NaN    2023-04-07    16043.0   \n3                  1                1         NaN    2023-04-07    14672.0   \n4                  1                1      1014.0    2023-04-07    15314.0   \n\n    device_dtm_pacific  ...  participant_group_id     stop_id stop_code  \\\n0  2023-04-07 13:07:11  ...                   NaN  96438052.0       344   \n1  2023-04-07 13:07:12  ...                   NaN  96398820.0      2220   \n2  2023-04-07 13:07:12  ...                   NaN  96395266.0     10225   \n3  2023-04-07 13:07:12  ...                   NaN         NaN      4074   \n4  2023-04-07 13:07:12  ...               28328.0  96397360.0     17140   \n\n   ticket_internal_nbr  osfa_cents  ceffv_cents  total_journey_fare_cents  \\\n0                  501         200          200                       400   \n1                  307         275          275                       275   \n2                  307         275          275                       275   \n3                  200         325          325                       875   \n4                  307         275          275                       275   \n\n  linked_journey_fare_cents  epurse_equivalent_cents       load_start_dtm  \n0                       200                      100  2023-04-08 09:58:31  \n1                       275                      275  2023-04-08 09:58:31  \n2                       275                      275  2023-04-08 09:58:31  \n3                       325                      121  2023-04-08 09:58:31  \n4                       275                      275  2023-04-08 09:58:31  \n\n[5 rows x 32 columns]",
      "text/html": "<div>\n<style scoped>\n    .dataframe tbody tr th:only-of-type {\n        vertical-align: middle;\n    }\n\n    .dataframe tbody tr th {\n        vertical-align: top;\n    }\n\n    .dataframe thead th {\n        text-align: right;\n    }\n</style>\n<table border=\"1\" class=\"dataframe\">\n  <thead>\n    <tr style=\"text-align: right;\">\n      <th></th>\n      <th>txn_id</th>\n      <th>boarding_guid</th>\n      <th>txn_type_id</th>\n      <th>card_id</th>\n      <th>passenger_type_id</th>\n      <th>passenger_count</th>\n      <th>product_id</th>\n      <th>business_date</th>\n      <th>device_id</th>\n      <th>device_dtm_pacific</th>\n      <th>...</th>\n      <th>participant_group_id</th>\n      <th>stop_id</th>\n      <th>stop_code</th>\n      <th>ticket_internal_nbr</th>\n      <th>osfa_cents</th>\n      <th>ceffv_cents</th>\n      <th>total_journey_fare_cents</th>\n      <th>linked_journey_fare_cents</th>\n      <th>epurse_equivalent_cents</th>\n      <th>load_start_dtm</th>\n    </tr>\n  </thead>\n  <tbody>\n    <tr>\n      <th>0</th>\n      <td>200000000</td>\n      <td>146580sc-70-67-643077ef45e</td>\n      <td>66</td>\n      <td>84105</td>\n      <td>1</td>\n      <td>1</td>\n      <td>NaN</td>\n      <td>2023-04-07</td>\n      <td>14658.0</td>\n      <td>2023-04-07 13:07:11</td>\n      <td>...</td>\n      <td>NaN</td>\n      <td>96438052.0</td>\n      <td>344</td>\n      <td>501</td>\n      <td>200</td>\n      <td>200</td>\n      <td>400</td>\n      <td>200</td>\n      <td>100</td>\n      <td>2023-04-08 09:58:31</td>\n    </tr>\n    <tr>\n      <th>1</th>\n      <td>200000010</td>\n      <td>1283408o-70-19-643077f0ad2</td>\n      <td>66</td>\n      <td>3096144</td>\n      <td>1</td>\n      <td>1</td>\n      <td>NaN</td>\n      <td>2023-04-07</td>\n      <td>12834.0</td>\n      <td>2023-04-07 13:07:12</td>\n      <td>...</td>\n      <td>NaN</td>\n      <td>96398820.0</td>\n      <td>2220</td>\n      <td>307</td>\n      <td>275</td>\n      <td>275</td>\n      <td>275</td>\n      <td>275</td>\n      <td>275</td>\n      <td>2023-04-08 09:58:31</td>\n    </tr>\n    <tr>\n      <th>2</th>\n      <td>200000012</td>\n      <td>16043092-70-147-643077f01f4</td>\n      <td>66</td>\n      <td>461903</td>\n      <td>1</td>\n      <td>1</td>\n      <td>NaN</td>\n      <td>2023-04-07</td>\n      <td>16043.0</td>\n      <td>2023-04-07 13:07:12</td>\n      <td>...</td>\n      <td>NaN</td>\n      <td>96395266.0</td>\n      <td>10225</td>\n      <td>307</td>\n      <td>275</td>\n      <td>275</td>\n      <td>275</td>\n      <td>275</td>\n      <td>275</td>\n      <td>2023-04-08 09:58:31</td>\n    </tr>\n    <tr>\n      <th>3</th>\n      <td>200000016</td>\n      <td>1588004h-70-48-643066c649e</td>\n      <td>84</td>\n      <td>499699</td>\n      <td>1</td>\n      <td>1</td>\n      <td>NaN</td>\n      <td>2023-04-07</td>\n      <td>14672.0</td>\n      <td>2023-04-07 13:07:12</td>\n      <td>...</td>\n      <td>NaN</td>\n      <td>NaN</td>\n      <td>4074</td>\n      <td>200</td>\n      <td>325</td>\n      <td>325</td>\n      <td>875</td>\n      <td>325</td>\n      <td>121</td>\n      <td>2023-04-08 09:58:31</td>\n    </tr>\n    <tr>\n      <th>4</th>\n      <td>200000018</td>\n      <td>153140d8-70-59-643077f08e0</td>\n      <td>66</td>\n      <td>23183</td>\n      <td>1</td>\n      <td>1</td>\n      <td>1014.0</td>\n      <td>2023-04-07</td>\n      <td>15314.0</td>\n      <td>2023-04-07 13:07:12</td>\n      <td>...</td>\n      <td>28328.0</td>\n      <td>96397360.0</td>\n      <td>17140</td>\n      <td>307</td>\n      <td>275</td>\n      <td>275</td>\n      <td>275</td>\n      <td>275</td>\n      <td>275</td>\n      <td>2023-04-08 09:58:31</td>\n    </tr>\n  </tbody>\n</table>\n<p>5 rows × 32 columns</p>\n</div>"
     },
     "execution_count": 106,
     "metadata": {},
     "output_type": "execute_result"
    }
   ],
   "source": [
    "ORCA_2023.head()"
   ]
  },
  {
   "cell_type": "code",
   "execution_count": 107,
   "id": "65ee3290",
   "metadata": {},
   "outputs": [
    {
     "data": {
      "text/plain": "(5229140, 32)"
     },
     "execution_count": 107,
     "metadata": {},
     "output_type": "execute_result"
    }
   ],
   "source": [
    "ORCA_2023.shape"
   ]
  },
  {
   "cell_type": "code",
   "execution_count": 108,
   "id": "cfc0cf83",
   "metadata": {},
   "outputs": [
    {
     "data": {
      "text/plain": "349964"
     },
     "execution_count": 108,
     "metadata": {},
     "output_type": "execute_result"
    }
   ],
   "source": [
    "ORCA_2023['card_id'].nunique()"
   ]
  },
  {
   "cell_type": "markdown",
   "id": "6cd525d0",
   "metadata": {},
   "source": [
    "In July, about 397,000 people rode King County Metro transit on an average weekday citywide, about 66,000 of them on BRT lines. More than 66,000 rode Sound Transit Express buses every day throughout their whole network, too. Trains, light rail, and streetcars made up 8 percent of commutes, the survey found (curbed.com, 2017)."
   ]
  },
  {
   "cell_type": "code",
   "execution_count": 109,
   "id": "34a82f0b",
   "metadata": {},
   "outputs": [
    {
     "data": {
      "text/plain": "9057"
     },
     "execution_count": 109,
     "metadata": {},
     "output_type": "execute_result"
    }
   ],
   "source": [
    "ORCA_2023['stop_code'].nunique()"
   ]
  },
  {
   "cell_type": "code",
   "execution_count": 110,
   "id": "35705c0a",
   "metadata": {},
   "outputs": [
    {
     "data": {
      "text/plain": "7838"
     },
     "execution_count": 110,
     "metadata": {},
     "output_type": "execute_result"
    }
   ],
   "source": [
    "ORCA_2023['stop_id'].nunique()"
   ]
  },
  {
   "cell_type": "markdown",
   "id": "465a1977",
   "metadata": {},
   "source": [
    "Based on the analysis on the APC data it should be around 7000 bus stops in King County. Stop_id column has NAN values but is more accurate."
   ]
  },
  {
   "cell_type": "code",
   "execution_count": 111,
   "id": "376e6d21",
   "metadata": {},
   "outputs": [
    {
     "data": {
      "text/plain": "3000"
     },
     "execution_count": 111,
     "metadata": {},
     "output_type": "execute_result"
    }
   ],
   "source": [
    "ORCA_2023['device_id'].nunique()"
   ]
  },
  {
   "cell_type": "code",
   "execution_count": 112,
   "id": "0c9b7162",
   "metadata": {},
   "outputs": [
    {
     "data": {
      "text/plain": "30"
     },
     "execution_count": 112,
     "metadata": {},
     "output_type": "execute_result"
    }
   ],
   "source": [
    "ORCA_2023['business_date'].nunique()"
   ]
  },
  {
   "cell_type": "code",
   "execution_count": 113,
   "id": "b9a192d4",
   "metadata": {},
   "outputs": [
    {
     "name": "stdout",
     "output_type": "stream",
     "text": [
      "        card_id  Number_of_Buses_Used\n",
      "0             1                     7\n",
      "1             2                    15\n",
      "2             4                    15\n",
      "3             5                     8\n",
      "4             6                     3\n",
      "...         ...                   ...\n",
      "349959  3577246                     3\n",
      "349960  3577863                     1\n",
      "349961  3577981                     2\n",
      "349962  3578120                     1\n",
      "349963  3578298                     1\n",
      "\n",
      "[349964 rows x 2 columns]\n"
     ]
    }
   ],
   "source": [
    "# Group by 'card_id' and count unique 'stop_id' values within each group\n",
    "bus_usage_count = ORCA_2023.groupby('card_id')['stop_code'].nunique()\n",
    "# Create a new DataFrame to display the results\n",
    "bus_usage_df = pd.DataFrame({'card_id': bus_usage_count.index, 'Number_of_Buses_Used': bus_usage_count.values})\n",
    "\n",
    "# Display the resulting DataFrame\n",
    "print(bus_usage_df)"
   ]
  },
  {
   "cell_type": "markdown",
   "id": "4d68ce1c",
   "metadata": {},
   "source": [
    "In this code:\n",
    "\n",
    "We use the groupby method to group the DataFrame by the \"card_id\" column.\n",
    "Then, we apply the nunique function to count the unique \"stop_id\" values within each group.\n",
    "We create a new DataFrame (bus_usage_df) to display the results, with \"card_id\" and \"Number_of_Buses_Used\" as the column names.\n",
    "Finally, we print the resulting DataFrame, which will show the number of buses each person used.\n",
    "This code will give you a DataFrame where each row represents a unique \"card_id\" along with the corresponding number of buses used by that person.\n"
   ]
  },
  {
   "cell_type": "code",
   "execution_count": 114,
   "id": "f425684c",
   "metadata": {},
   "outputs": [
    {
     "name": "stdout",
     "output_type": "stream",
     "text": [
      "        card_id  Number_of_Stops_Used\n",
      "0             1                    15\n",
      "1             2                    57\n",
      "2             4                    42\n",
      "3             5                    42\n",
      "4             6                    29\n",
      "...         ...                   ...\n",
      "349959  3577246                     3\n",
      "349960  3577863                     1\n",
      "349961  3577981                     2\n",
      "349962  3578120                     1\n",
      "349963  3578298                     1\n",
      "\n",
      "[349964 rows x 2 columns]\n"
     ]
    }
   ],
   "source": [
    "# Group by 'card_id' and count 'stop_id' values within each group\n",
    "bus_stops_count = ORCA_2023.groupby('card_id')['stop_code'].count()\n",
    "\n",
    "# Create a new DataFrame to display the results\n",
    "bus_stops_df = pd.DataFrame({'card_id': bus_stops_count.index, 'Number_of_Stops_Used': bus_stops_count.values})\n",
    "\n",
    "# Display the resulting DataFrame\n",
    "print(bus_stops_df)"
   ]
  },
  {
   "cell_type": "code",
   "execution_count": 115,
   "id": "fc505b5f",
   "metadata": {},
   "outputs": [
    {
     "name": "stdout",
     "output_type": "stream",
     "text": [
      "         card_id business_date  Number_of_Unique_Stops_Used\n",
      "0              1    2023-04-02                            2\n",
      "1              1    2023-04-03                            1\n",
      "2              1    2023-04-04                            2\n",
      "3              1    2023-04-12                            1\n",
      "4              1    2023-04-18                            2\n",
      "...          ...           ...                          ...\n",
      "2272302  3577246    2023-04-29                            3\n",
      "2272303  3577863    2023-04-30                            1\n",
      "2272304  3577981    2023-04-30                            2\n",
      "2272305  3578120    2023-04-29                            1\n",
      "2272306  3578298    2023-04-30                            1\n",
      "\n",
      "[2272307 rows x 3 columns]\n"
     ]
    }
   ],
   "source": [
    "# Group by 'card_id' and 'business_date', then count unique 'stop_id' values within each group\n",
    "unique_bus_stops_count = ORCA_2023.groupby(['card_id', 'business_date'])['stop_code'].nunique().reset_index()\n",
    "\n",
    "# Rename the 'stop_id' column to 'Number_of_Unique_Stops_Used'\n",
    "unique_bus_stops_count.rename(columns={'stop_code': 'Number_of_Unique_Stops_Used'}, inplace=True)\n",
    "\n",
    "# Display the resulting DataFrame\n",
    "print(unique_bus_stops_count)"
   ]
  },
  {
   "cell_type": "code",
   "execution_count": 116,
   "id": "4da2bf62",
   "metadata": {},
   "outputs": [
    {
     "name": "stdout",
     "output_type": "stream",
     "text": [
      "         card_id business_date  Number_of_Stops_Used\n",
      "0              1    2023-04-02                     2\n",
      "1              1    2023-04-03                     1\n",
      "2              1    2023-04-04                     2\n",
      "3              1    2023-04-12                     1\n",
      "4              1    2023-04-18                     2\n",
      "...          ...           ...                   ...\n",
      "2272302  3577246    2023-04-29                     3\n",
      "2272303  3577863    2023-04-30                     1\n",
      "2272304  3577981    2023-04-30                     2\n",
      "2272305  3578120    2023-04-29                     1\n",
      "2272306  3578298    2023-04-30                     1\n",
      "\n",
      "[2272307 rows x 3 columns]\n"
     ]
    }
   ],
   "source": [
    "# Group by 'card_id' and 'business_date', then count 'stop_id' values within each group\n",
    "bus_stops_count = ORCA_2023.groupby(['card_id', 'business_date'])['stop_code'].count().reset_index()\n",
    "\n",
    "# Rename the 'stop_id' column to 'Number_of_Stops_Used'\n",
    "bus_stops_count.rename(columns={'stop_code': 'Number_of_Stops_Used'}, inplace=True)\n",
    "\n",
    "# Display the resulting DataFrame\n",
    "print(bus_stops_count)"
   ]
  },
  {
   "cell_type": "code",
   "execution_count": 117,
   "id": "d4060d4f",
   "metadata": {},
   "outputs": [
    {
     "name": "stdout",
     "output_type": "stream",
     "text": [
      "        card_id  Number_of_Days_Used\n",
      "0             1                   10\n",
      "1             2                   27\n",
      "2             4                   17\n",
      "3             5                   20\n",
      "4             6                   15\n",
      "...         ...                  ...\n",
      "349959  3577246                    1\n",
      "349960  3577863                    1\n",
      "349961  3577981                    1\n",
      "349962  3578120                    1\n",
      "349963  3578298                    1\n",
      "\n",
      "[349964 rows x 2 columns]\n"
     ]
    }
   ],
   "source": [
    "# Group by 'card_id' and count unique 'business_date' values within each group\n",
    "bus_days_count = ORCA_2023.groupby('card_id')['business_date'].nunique().reset_index()\n",
    "\n",
    "# Rename the 'business_date' column to 'Number_of_Days_Used'\n",
    "bus_days_count.rename(columns={'business_date': 'Number_of_Days_Used'}, inplace=True)\n",
    "\n",
    "# Display the resulting DataFrame\n",
    "print(bus_days_count)"
   ]
  },
  {
   "cell_type": "code",
   "execution_count": 118,
   "id": "7af9e3dc",
   "metadata": {},
   "outputs": [
    {
     "name": "stdout",
     "output_type": "stream",
     "text": [
      "        card_id  Total_Stops_Used_Per_Month\n",
      "0             1                          15\n",
      "1             2                          57\n",
      "2             4                          42\n",
      "3             5                          42\n",
      "4             6                          29\n",
      "...         ...                         ...\n",
      "349959  3577246                           3\n",
      "349960  3577863                           1\n",
      "349961  3577981                           2\n",
      "349962  3578120                           1\n",
      "349963  3578298                           1\n",
      "\n",
      "[349964 rows x 2 columns]\n"
     ]
    }
   ],
   "source": [
    "# Group by 'business_date' and calculate the sum of 'Number_of_Stops_Used' for each date\n",
    "daily_stops_sum = bus_stops_count.groupby('card_id')['Number_of_Stops_Used'].sum().reset_index()\n",
    "\n",
    "# Rename the 'Number_of_Stops_Used' column to 'Total_Stops_Used_Per_Day'\n",
    "daily_stops_sum.rename(columns={'Number_of_Stops_Used': 'Total_Stops_Used_Per_Month'}, inplace=True)\n",
    "\n",
    "# Display the resulting DataFrame with the total stops used per day\n",
    "print(daily_stops_sum)"
   ]
  },
  {
   "cell_type": "code",
   "execution_count": 119,
   "id": "24b0fc70",
   "metadata": {},
   "outputs": [
    {
     "name": "stdout",
     "output_type": "stream",
     "text": [
      "        card_id  Average_Stops_Per_Day_Per_Month\n",
      "0             1                         1.500000\n",
      "1             2                         2.111111\n",
      "2             4                         2.470588\n",
      "3             5                         2.100000\n",
      "4             6                         1.933333\n",
      "...         ...                              ...\n",
      "349959  3577246                         3.000000\n",
      "349960  3577863                         1.000000\n",
      "349961  3577981                         2.000000\n",
      "349962  3578120                         1.000000\n",
      "349963  3578298                         1.000000\n",
      "\n",
      "[349964 rows x 2 columns]\n"
     ]
    }
   ],
   "source": [
    "# Merge the 'daily_stops_sum' DataFrame with 'bus_days_count' on 'card_id' using an inner join\n",
    "merged_data = pd.merge(daily_stops_sum, bus_days_count, on='card_id', how='inner')\n",
    "\n",
    "# Calculate the average number of bus stops in each month for each user\n",
    "merged_data['Average_Stops_Per_Day_Per_Month'] = merged_data['Total_Stops_Used_Per_Month'] / merged_data['Number_of_Days_Used']\n",
    "\n",
    "# Display the resulting DataFrame\n",
    "print(merged_data[['card_id', 'Average_Stops_Per_Day_Per_Month']])"
   ]
  },
  {
   "cell_type": "code",
   "execution_count": 120,
   "id": "a65e8b84",
   "metadata": {},
   "outputs": [
    {
     "name": "stdout",
     "output_type": "stream",
     "text": [
      "         card_id stop_code  Stop_Frequency\n",
      "0              1      1110               1\n",
      "1              1      1120               1\n",
      "2              1      1180               4\n",
      "3              1      2680               1\n",
      "4              1      3034               1\n",
      "...          ...       ...             ...\n",
      "1881735  3577863      1108               1\n",
      "1881736  3577981       501               1\n",
      "1881737  3577981    990001               1\n",
      "1881738  3578120      2727               1\n",
      "1881739  3578298     99903               1\n",
      "\n",
      "[1881740 rows x 3 columns]\n"
     ]
    }
   ],
   "source": [
    "# Group by 'card_id' and 'stop_id', then count the occurrences of each 'stop_id'\n",
    "stop_usage_count = ORCA_2023.groupby(['card_id', 'stop_code']).size().reset_index(name='Stop_Frequency')\n",
    "\n",
    "# Display the resulting DataFrame\n",
    "print(stop_usage_count)"
   ]
  },
  {
   "cell_type": "code",
   "execution_count": 121,
   "id": "424f6b13",
   "metadata": {},
   "outputs": [
    {
     "name": "stdout",
     "output_type": "stream",
     "text": [
      "         card_id stop_code  Stop_Frequency  Total_Stops_Used\n",
      "0              1      1110               1                15\n",
      "1              1      1120               1                15\n",
      "2              1      1180               4                15\n",
      "3              1      2680               1                15\n",
      "4              1      3034               1                15\n",
      "...          ...       ...             ...               ...\n",
      "1881735  3577863      1108               1                 1\n",
      "1881736  3577981       501               1                 2\n",
      "1881737  3577981    990001               1                 2\n",
      "1881738  3578120      2727               1                 1\n",
      "1881739  3578298     99903               1                 1\n",
      "\n",
      "[1881740 rows x 4 columns]\n"
     ]
    }
   ],
   "source": [
    "# Calculate the total number of stops used for each card_id\n",
    "total_stops_used = ORCA_2023.groupby('card_id')['stop_code'].count().reset_index()\n",
    "total_stops_used.rename(columns={'stop_code': 'Total_Stops_Used'}, inplace=True)\n",
    "\n",
    "# Merge the total stops used with the stop_usage_count DataFrame\n",
    "stop_usage_count = pd.merge(stop_usage_count, total_stops_used, on='card_id')\n",
    "\n",
    "# Display the resulting DataFrame\n",
    "print(stop_usage_count)"
   ]
  },
  {
   "cell_type": "code",
   "execution_count": 47,
   "id": "b35d6414",
   "metadata": {},
   "outputs": [],
   "source": [
    "# Save the stop_usage_count DataFrame to a CSV file\n",
    "stop_usage_count.to_csv('stop_usage_data.csv', index=False)"
   ]
  },
  {
   "cell_type": "code",
   "execution_count": 48,
   "id": "62a5b6f5",
   "metadata": {},
   "outputs": [
    {
     "name": "stdout",
     "output_type": "stream",
     "text": [
      "         card_id     stop_id  Stop_Frequency  Total_Stops_Used  \\\n",
      "0              1  96395628.0               1                15   \n",
      "1              1  96395668.0               1                15   \n",
      "2              1  96395824.0               4                15   \n",
      "3              1  96400144.0               1                15   \n",
      "4              1  96401300.0               1                15   \n",
      "...          ...         ...             ...               ...   \n",
      "1660915  3577863  96440440.0               1                 1   \n",
      "1660916  3577981  96440452.0               1                 2   \n",
      "1660917  3577981  96440504.0               1                 2   \n",
      "1660918  3578120  96389210.0               1                 1   \n",
      "1660919  3578298  96440572.0               1                 1   \n",
      "\n",
      "         Total_Stops_Used_unique  \n",
      "0                              7  \n",
      "1                              7  \n",
      "2                              7  \n",
      "3                              7  \n",
      "4                              7  \n",
      "...                          ...  \n",
      "1660915                        1  \n",
      "1660916                        2  \n",
      "1660917                        2  \n",
      "1660918                        1  \n",
      "1660919                        1  \n",
      "\n",
      "[1660920 rows x 5 columns]\n"
     ]
    }
   ],
   "source": [
    "total_stops_used = ORCA_2023.groupby('card_id')['stop_id'].nunique().reset_index()\n",
    "total_stops_used.rename(columns={'stop_id': 'Total_Stops_Used_unique'}, inplace=True)\n",
    "\n",
    "# Merge the total stops used with the stop_usage_count DataFrame\n",
    "stop_usage_count = pd.merge(stop_usage_count, total_stops_used, on='card_id')\n",
    "\n",
    "# Display the resulting DataFrame\n",
    "print(stop_usage_count)"
   ]
  },
  {
   "cell_type": "code",
   "execution_count": 50,
   "id": "1e4edc2b",
   "metadata": {},
   "outputs": [],
   "source": [
    "# Save the stop_usage_count DataFrame to a CSV file\n",
    "stop_usage_count.to_csv('stop_usage_data.csv', index=False)"
   ]
  },
  {
   "cell_type": "markdown",
   "id": "acd67bce",
   "metadata": {},
   "source": [
    "CHANGING THE COORDINATION SYSTEM:"
   ]
  },
  {
   "cell_type": "code",
   "execution_count": 51,
   "id": "b71bc6ca",
   "metadata": {},
   "outputs": [],
   "source": [
    "import pandas as pd\n",
    "import pyproj"
   ]
  },
  {
   "cell_type": "code",
   "execution_count": 52,
   "id": "662e0106",
   "metadata": {},
   "outputs": [],
   "source": [
    "# Set the State Plane coordinate system for Washington State (EPSG:2926)\n",
    "source_crs = pyproj.CRS.from_epsg(2926)"
   ]
  },
  {
   "cell_type": "code",
   "execution_count": 53,
   "id": "1e3aeccc",
   "metadata": {},
   "outputs": [],
   "source": [
    "# Set the target coordinate system to WGS84 (EPSG:4326)\n",
    "target_crs = pyproj.CRS.from_epsg(4326)"
   ]
  },
  {
   "cell_type": "code",
   "execution_count": 54,
   "id": "4ef14542",
   "metadata": {},
   "outputs": [],
   "source": [
    "# Create a transformer to convert from source to target CRS\n",
    "transformer = pyproj.Transformer.from_crs(source_crs, target_crs)"
   ]
  },
  {
   "cell_type": "code",
   "execution_count": 55,
   "id": "a0982e21",
   "metadata": {},
   "outputs": [],
   "source": [
    "# Apply the transformation to the coordinates in the data frame\n",
    "ORCA_2023['Latitude'], ORCA_2023['Longitude'] = transformer.transform(ORCA_2023['device_lat'].values, ORCA_2023['device_lng'].values)"
   ]
  },
  {
   "cell_type": "code",
   "execution_count": 56,
   "id": "0104157e",
   "metadata": {},
   "outputs": [],
   "source": [
    "ORCA_2023.to_csv(\"2023-04_orca_boardings_new_coordinates.csv\", index=False)"
   ]
  },
  {
   "cell_type": "markdown",
   "id": "d553ccc8",
   "metadata": {},
   "source": [
    "The above projection did not work as it is not using the same coordinates as APC project. The values should just be devided by 1000000"
   ]
  },
  {
   "cell_type": "code",
   "execution_count": 58,
   "id": "9ff73847",
   "metadata": {},
   "outputs": [
    {
     "name": "stdout",
     "output_type": "stream",
     "text": [
      "            txn_id                boarding_guid  txn_type_id  card_id  \\\n",
      "0        200000000   146580sc-70-67-643077ef45e           66    84105   \n",
      "1        200000010   1283408o-70-19-643077f0ad2           66  3096144   \n",
      "2        200000012  16043092-70-147-643077f01f4           66   461903   \n",
      "3        200000016   1588004h-70-48-643066c649e           84   499699   \n",
      "4        200000018   153140d8-70-59-643077f08e0           66    23183   \n",
      "...            ...                          ...          ...      ...   \n",
      "5229135  215502026  1309503p-70-239-6447f515956           84   290829   \n",
      "5229136  215502058   1299609v-70-31-644800ca6a2           66    82178   \n",
      "5229137  215502186  1647608i-70-130-644806681a6           84   116508   \n",
      "5229138  215502298  13065013-70-108-64480a0f28e           84   279499   \n",
      "5229139  215502306    1299609y-70-1-64482403312           85  2962746   \n",
      "\n",
      "         passenger_type_id  passenger_count  product_id business_date  \\\n",
      "0                        1                1         NaN    2023-04-07   \n",
      "1                        1                1         NaN    2023-04-07   \n",
      "2                        1                1         NaN    2023-04-07   \n",
      "3                        1                1         NaN    2023-04-07   \n",
      "4                        1                1      1014.0    2023-04-07   \n",
      "...                    ...              ...         ...           ...   \n",
      "5229135                  1                1         NaN    2023-04-25   \n",
      "5229136                  1                1         NaN    2023-04-25   \n",
      "5229137                  1                1         NaN    2023-04-25   \n",
      "5229138                  4                1         3.0    2023-04-25   \n",
      "5229139                  5                1       236.0    2023-04-25   \n",
      "\n",
      "         device_id   device_dtm_pacific  device_lat  device_lng  \\\n",
      "0          14658.0  2023-04-07 13:07:11    0.000047 -122.446707   \n",
      "1          12834.0  2023-04-07 13:07:12    0.000048 -122.348403   \n",
      "2          16043.0  2023-04-07 13:07:12    0.000048 -122.334375   \n",
      "3          14672.0  2023-04-07 13:07:12    0.000047 -122.232008   \n",
      "4          15314.0  2023-04-07 13:07:12    0.000048 -122.326883   \n",
      "...            ...                  ...         ...         ...   \n",
      "5229135    12996.0  2023-04-25 09:28:54    0.000048 -122.335754   \n",
      "5229136    12996.0  2023-04-25 09:33:14    0.000048 -122.335754   \n",
      "5229137    12996.0  2023-04-25 10:03:09    0.000048 -122.335754   \n",
      "5229138    12996.0  2023-04-25 11:04:50    0.000048 -122.335754   \n",
      "5229139    12996.0  2023-04-25 12:03:31    0.000048 -122.335754   \n",
      "\n",
      "                                           device_location  \\\n",
      "0        0101000020E61000003CF9F4D8969C5EC082C476F700A1...   \n",
      "1        0101000020E610000003B5183C4C965EC0B1C398F4F7CE...   \n",
      "2        0101000020E61000006666666666955EC00F0BB5A679CF...   \n",
      "3        0101000020E6100000431A1538D98E5EC04F594DD713A7...   \n",
      "4        0101000020E610000093A7ACA6EB945EC075ADBD4F55D7...   \n",
      "...                                                    ...   \n",
      "5229135  0101000020E6100000136058FE7C955EC03C50A73CBACD...   \n",
      "5229136  0101000020E6100000136058FE7C955EC03C50A73CBACD...   \n",
      "5229137  0101000020E6100000136058FE7C955EC03C50A73CBACD...   \n",
      "5229138  0101000020E6100000136058FE7C955EC03C50A73CBACD...   \n",
      "5229139  0101000020E6100000136058FE7C955EC03C50A73CBACD...   \n",
      "\n",
      "         mounting_plate_number  source_agency_id  service_agency_id  \\\n",
      "0                          1.0                 6                  6   \n",
      "1                          1.0                 4                  4   \n",
      "2                          1.0                 4                  4   \n",
      "3                          1.0                 6                  7   \n",
      "4                          1.0                 4                  4   \n",
      "...                        ...               ...                ...   \n",
      "5229135                    1.0                 7                  7   \n",
      "5229136                    1.0                 7                  7   \n",
      "5229137                    1.0                 7                  7   \n",
      "5229138                    1.0                 7                  7   \n",
      "5229139                    1.0                 7                  7   \n",
      "\n",
      "         device_mode_id route_number  direction_id  coach_number  \\\n",
      "0                    30            1           4.0       10154.0   \n",
      "1                    30          674           4.0           NaN   \n",
      "2                    30           70           5.0        4501.0   \n",
      "3                    30          578           5.0        9723.0   \n",
      "4                    30           20           5.0        7216.0   \n",
      "...                 ...          ...           ...           ...   \n",
      "5229135              11       100479           4.0           NaN   \n",
      "5229136              11       100479           4.0           NaN   \n",
      "5229137              11       100479           4.0           NaN   \n",
      "5229138              11       100479           4.0           NaN   \n",
      "5229139              11       100479           4.0           NaN   \n",
      "\n",
      "         agency_gtfs_route_id  organization_id  participant_group_id  \\\n",
      "0                         NaN              NaN                   NaN   \n",
      "1                         NaN              NaN                   NaN   \n",
      "2                         NaN              NaN                   NaN   \n",
      "3                         NaN              NaN                   NaN   \n",
      "4                         NaN            334.0               28328.0   \n",
      "...                       ...              ...                   ...   \n",
      "5229135                   NaN              NaN                   NaN   \n",
      "5229136                   NaN              NaN                   NaN   \n",
      "5229137                   NaN              NaN                   NaN   \n",
      "5229138                   NaN              NaN                   NaN   \n",
      "5229139                   NaN          18498.0               28444.0   \n",
      "\n",
      "            stop_id stop_code  ticket_internal_nbr  osfa_cents  ceffv_cents  \\\n",
      "0        96438052.0       344                  501         200          200   \n",
      "1        96398820.0      2220                  307         275          275   \n",
      "2        96395266.0     10225                  307         275          275   \n",
      "3               NaN      4074                  200         325          325   \n",
      "4        96397360.0     17140                  307         275          275   \n",
      "...             ...       ...                  ...         ...          ...   \n",
      "5229135  96440448.0       455                  218         300          225   \n",
      "5229136  96440448.0       455                  218         300          250   \n",
      "5229137  96440448.0       455                  218         300          225   \n",
      "5229138  96440448.0       455                  215         100          100   \n",
      "5229139  96440448.0       455                  236         100          100   \n",
      "\n",
      "         total_journey_fare_cents  linked_journey_fare_cents  \\\n",
      "0                             400                        200   \n",
      "1                             275                        275   \n",
      "2                             275                        275   \n",
      "3                             875                        325   \n",
      "4                             275                        275   \n",
      "...                           ...                        ...   \n",
      "5229135                       450                        225   \n",
      "5229136                       250                        250   \n",
      "5229137                       800                        300   \n",
      "5229138                       200                        100   \n",
      "5229139                       100                        100   \n",
      "\n",
      "         epurse_equivalent_cents       load_start_dtm   Latitude  Longitude  \n",
      "0                            100  2023-04-08 09:58:31 -71.769136 -96.857442  \n",
      "1                            275  2023-04-08 09:58:31 -71.771883 -96.665120  \n",
      "2                            275  2023-04-08 09:58:31 -71.769921 -96.660933  \n",
      "3                            121  2023-04-08 09:58:31 -71.738368 -96.799978  \n",
      "4                            275  2023-04-08 09:58:31 -71.771840 -96.629546  \n",
      "...                          ...                  ...        ...        ...  \n",
      "5229135                      113  2023-05-03 08:58:16 -71.769451 -96.667869  \n",
      "5229136                      250  2023-05-03 08:58:16 -71.769451 -96.667869  \n",
      "5229137                       84  2023-05-03 08:58:16 -71.769451 -96.667869  \n",
      "5229138                       50  2023-05-03 08:58:16 -71.769451 -96.667869  \n",
      "5229139                      100  2023-05-03 08:58:16 -71.769451 -96.667869  \n",
      "\n",
      "[5229140 rows x 34 columns]\n"
     ]
    }
   ],
   "source": [
    "# Convert the 'device_lat' column to the desired format\n",
    "ORCA_2023['device_lat'] = ORCA_2023['device_lat'] / 1000000\n",
    "ORCA_2023['device_lng'] = ORCA_2023['device_lng'] / 1000000\n",
    "# Display the DataFrame with the updated 'device_lat' values\n",
    "print(ORCA_2023)"
   ]
  },
  {
   "cell_type": "markdown",
   "id": "e5a35aee",
   "metadata": {},
   "source": [
    "Adding locations to 'stop_usage_data.csv'"
   ]
  },
  {
   "cell_type": "code",
   "execution_count": 63,
   "id": "a9897fdc",
   "metadata": {},
   "outputs": [
    {
     "ename": "MemoryError",
     "evalue": "Unable to allocate 258. GiB for an array with shape (34660750933,) and data type int64",
     "output_type": "error",
     "traceback": [
      "\u001B[1;31m---------------------------------------------------------------------------\u001B[0m",
      "\u001B[1;31mMemoryError\u001B[0m                               Traceback (most recent call last)",
      "\u001B[1;32m~\\AppData\\Local\\Temp\\ipykernel_16092\\4246432224.py\u001B[0m in \u001B[0;36m<module>\u001B[1;34m\u001B[0m\n\u001B[0;32m      1\u001B[0m \u001B[1;31m# Merge the 'device_lat' and 'device_lng' columns from 'ORCA_2023' into 'stop_usage_count' by 'stop_id'\u001B[0m\u001B[1;33m\u001B[0m\u001B[1;33m\u001B[0m\u001B[0m\n\u001B[1;32m----> 2\u001B[1;33m \u001B[0mstop_usage_count_with_location\u001B[0m \u001B[1;33m=\u001B[0m \u001B[0mpd\u001B[0m\u001B[1;33m.\u001B[0m\u001B[0mmerge\u001B[0m\u001B[1;33m(\u001B[0m\u001B[0mstop_usage_count\u001B[0m\u001B[1;33m,\u001B[0m \u001B[0mORCA_2023\u001B[0m\u001B[1;33m[\u001B[0m\u001B[1;33m[\u001B[0m\u001B[1;34m'stop_id'\u001B[0m\u001B[1;33m,\u001B[0m \u001B[1;34m'device_lat'\u001B[0m\u001B[1;33m,\u001B[0m \u001B[1;34m'device_lng'\u001B[0m\u001B[1;33m]\u001B[0m\u001B[1;33m]\u001B[0m\u001B[1;33m,\u001B[0m \u001B[0mon\u001B[0m\u001B[1;33m=\u001B[0m\u001B[1;34m'stop_id'\u001B[0m\u001B[1;33m,\u001B[0m \u001B[0mhow\u001B[0m\u001B[1;33m=\u001B[0m\u001B[1;34m'left'\u001B[0m\u001B[1;33m)\u001B[0m\u001B[1;33m\u001B[0m\u001B[1;33m\u001B[0m\u001B[0m\n\u001B[0m\u001B[0;32m      3\u001B[0m \u001B[1;33m\u001B[0m\u001B[0m\n\u001B[0;32m      4\u001B[0m \u001B[1;31m# Display the resulting DataFrame\u001B[0m\u001B[1;33m\u001B[0m\u001B[1;33m\u001B[0m\u001B[0m\n\u001B[0;32m      5\u001B[0m \u001B[0mprint\u001B[0m\u001B[1;33m(\u001B[0m\u001B[0mstop_usage_count_with_location\u001B[0m\u001B[1;33m)\u001B[0m\u001B[1;33m\u001B[0m\u001B[1;33m\u001B[0m\u001B[0m\n",
      "\u001B[1;32m~\\AppData\\Roaming\\Python\\Python39\\site-packages\\pandas\\core\\reshape\\merge.py\u001B[0m in \u001B[0;36mmerge\u001B[1;34m(left, right, how, on, left_on, right_on, left_index, right_index, sort, suffixes, copy, indicator, validate)\u001B[0m\n\u001B[0;32m    160\u001B[0m         \u001B[0mvalidate\u001B[0m\u001B[1;33m=\u001B[0m\u001B[0mvalidate\u001B[0m\u001B[1;33m,\u001B[0m\u001B[1;33m\u001B[0m\u001B[1;33m\u001B[0m\u001B[0m\n\u001B[0;32m    161\u001B[0m     )\n\u001B[1;32m--> 162\u001B[1;33m     \u001B[1;32mreturn\u001B[0m \u001B[0mop\u001B[0m\u001B[1;33m.\u001B[0m\u001B[0mget_result\u001B[0m\u001B[1;33m(\u001B[0m\u001B[0mcopy\u001B[0m\u001B[1;33m=\u001B[0m\u001B[0mcopy\u001B[0m\u001B[1;33m)\u001B[0m\u001B[1;33m\u001B[0m\u001B[1;33m\u001B[0m\u001B[0m\n\u001B[0m\u001B[0;32m    163\u001B[0m \u001B[1;33m\u001B[0m\u001B[0m\n\u001B[0;32m    164\u001B[0m \u001B[1;33m\u001B[0m\u001B[0m\n",
      "\u001B[1;32m~\\AppData\\Roaming\\Python\\Python39\\site-packages\\pandas\\core\\reshape\\merge.py\u001B[0m in \u001B[0;36mget_result\u001B[1;34m(self, copy)\u001B[0m\n\u001B[0;32m    807\u001B[0m             \u001B[0mself\u001B[0m\u001B[1;33m.\u001B[0m\u001B[0mleft\u001B[0m\u001B[1;33m,\u001B[0m \u001B[0mself\u001B[0m\u001B[1;33m.\u001B[0m\u001B[0mright\u001B[0m \u001B[1;33m=\u001B[0m \u001B[0mself\u001B[0m\u001B[1;33m.\u001B[0m\u001B[0m_indicator_pre_merge\u001B[0m\u001B[1;33m(\u001B[0m\u001B[0mself\u001B[0m\u001B[1;33m.\u001B[0m\u001B[0mleft\u001B[0m\u001B[1;33m,\u001B[0m \u001B[0mself\u001B[0m\u001B[1;33m.\u001B[0m\u001B[0mright\u001B[0m\u001B[1;33m)\u001B[0m\u001B[1;33m\u001B[0m\u001B[1;33m\u001B[0m\u001B[0m\n\u001B[0;32m    808\u001B[0m \u001B[1;33m\u001B[0m\u001B[0m\n\u001B[1;32m--> 809\u001B[1;33m         \u001B[0mjoin_index\u001B[0m\u001B[1;33m,\u001B[0m \u001B[0mleft_indexer\u001B[0m\u001B[1;33m,\u001B[0m \u001B[0mright_indexer\u001B[0m \u001B[1;33m=\u001B[0m \u001B[0mself\u001B[0m\u001B[1;33m.\u001B[0m\u001B[0m_get_join_info\u001B[0m\u001B[1;33m(\u001B[0m\u001B[1;33m)\u001B[0m\u001B[1;33m\u001B[0m\u001B[1;33m\u001B[0m\u001B[0m\n\u001B[0m\u001B[0;32m    810\u001B[0m \u001B[1;33m\u001B[0m\u001B[0m\n\u001B[0;32m    811\u001B[0m         result = self._reindex_and_concat(\n",
      "\u001B[1;32m~\\AppData\\Roaming\\Python\\Python39\\site-packages\\pandas\\core\\reshape\\merge.py\u001B[0m in \u001B[0;36m_get_join_info\u001B[1;34m(self)\u001B[0m\n\u001B[0;32m   1063\u001B[0m             )\n\u001B[0;32m   1064\u001B[0m         \u001B[1;32melse\u001B[0m\u001B[1;33m:\u001B[0m\u001B[1;33m\u001B[0m\u001B[1;33m\u001B[0m\u001B[0m\n\u001B[1;32m-> 1065\u001B[1;33m             \u001B[1;33m(\u001B[0m\u001B[0mleft_indexer\u001B[0m\u001B[1;33m,\u001B[0m \u001B[0mright_indexer\u001B[0m\u001B[1;33m)\u001B[0m \u001B[1;33m=\u001B[0m \u001B[0mself\u001B[0m\u001B[1;33m.\u001B[0m\u001B[0m_get_join_indexers\u001B[0m\u001B[1;33m(\u001B[0m\u001B[1;33m)\u001B[0m\u001B[1;33m\u001B[0m\u001B[1;33m\u001B[0m\u001B[0m\n\u001B[0m\u001B[0;32m   1066\u001B[0m \u001B[1;33m\u001B[0m\u001B[0m\n\u001B[0;32m   1067\u001B[0m             \u001B[1;32mif\u001B[0m \u001B[0mself\u001B[0m\u001B[1;33m.\u001B[0m\u001B[0mright_index\u001B[0m\u001B[1;33m:\u001B[0m\u001B[1;33m\u001B[0m\u001B[1;33m\u001B[0m\u001B[0m\n",
      "\u001B[1;32m~\\AppData\\Roaming\\Python\\Python39\\site-packages\\pandas\\core\\reshape\\merge.py\u001B[0m in \u001B[0;36m_get_join_indexers\u001B[1;34m(self)\u001B[0m\n\u001B[0;32m   1036\u001B[0m     \u001B[1;32mdef\u001B[0m \u001B[0m_get_join_indexers\u001B[0m\u001B[1;33m(\u001B[0m\u001B[0mself\u001B[0m\u001B[1;33m)\u001B[0m \u001B[1;33m->\u001B[0m \u001B[0mtuple\u001B[0m\u001B[1;33m[\u001B[0m\u001B[0mnpt\u001B[0m\u001B[1;33m.\u001B[0m\u001B[0mNDArray\u001B[0m\u001B[1;33m[\u001B[0m\u001B[0mnp\u001B[0m\u001B[1;33m.\u001B[0m\u001B[0mintp\u001B[0m\u001B[1;33m]\u001B[0m\u001B[1;33m,\u001B[0m \u001B[0mnpt\u001B[0m\u001B[1;33m.\u001B[0m\u001B[0mNDArray\u001B[0m\u001B[1;33m[\u001B[0m\u001B[0mnp\u001B[0m\u001B[1;33m.\u001B[0m\u001B[0mintp\u001B[0m\u001B[1;33m]\u001B[0m\u001B[1;33m]\u001B[0m\u001B[1;33m:\u001B[0m\u001B[1;33m\u001B[0m\u001B[1;33m\u001B[0m\u001B[0m\n\u001B[0;32m   1037\u001B[0m         \u001B[1;34m\"\"\"return the join indexers\"\"\"\u001B[0m\u001B[1;33m\u001B[0m\u001B[1;33m\u001B[0m\u001B[0m\n\u001B[1;32m-> 1038\u001B[1;33m         return get_join_indexers(\n\u001B[0m\u001B[0;32m   1039\u001B[0m             \u001B[0mself\u001B[0m\u001B[1;33m.\u001B[0m\u001B[0mleft_join_keys\u001B[0m\u001B[1;33m,\u001B[0m \u001B[0mself\u001B[0m\u001B[1;33m.\u001B[0m\u001B[0mright_join_keys\u001B[0m\u001B[1;33m,\u001B[0m \u001B[0msort\u001B[0m\u001B[1;33m=\u001B[0m\u001B[0mself\u001B[0m\u001B[1;33m.\u001B[0m\u001B[0msort\u001B[0m\u001B[1;33m,\u001B[0m \u001B[0mhow\u001B[0m\u001B[1;33m=\u001B[0m\u001B[0mself\u001B[0m\u001B[1;33m.\u001B[0m\u001B[0mhow\u001B[0m\u001B[1;33m\u001B[0m\u001B[1;33m\u001B[0m\u001B[0m\n\u001B[0;32m   1040\u001B[0m         )\n",
      "\u001B[1;32m~\\AppData\\Roaming\\Python\\Python39\\site-packages\\pandas\\core\\reshape\\merge.py\u001B[0m in \u001B[0;36mget_join_indexers\u001B[1;34m(left_keys, right_keys, sort, how, **kwargs)\u001B[0m\n\u001B[0;32m   1688\u001B[0m \u001B[1;33m\u001B[0m\u001B[0m\n\u001B[0;32m   1689\u001B[0m     \u001B[1;31m# error: Cannot call function of unknown type\u001B[0m\u001B[1;33m\u001B[0m\u001B[1;33m\u001B[0m\u001B[0m\n\u001B[1;32m-> 1690\u001B[1;33m     \u001B[1;32mreturn\u001B[0m \u001B[0mjoin_func\u001B[0m\u001B[1;33m(\u001B[0m\u001B[0mlkey\u001B[0m\u001B[1;33m,\u001B[0m \u001B[0mrkey\u001B[0m\u001B[1;33m,\u001B[0m \u001B[0mcount\u001B[0m\u001B[1;33m,\u001B[0m \u001B[1;33m**\u001B[0m\u001B[0mkwargs\u001B[0m\u001B[1;33m)\u001B[0m  \u001B[1;31m# type: ignore[operator]\u001B[0m\u001B[1;33m\u001B[0m\u001B[1;33m\u001B[0m\u001B[0m\n\u001B[0m\u001B[0;32m   1691\u001B[0m \u001B[1;33m\u001B[0m\u001B[0m\n\u001B[0;32m   1692\u001B[0m \u001B[1;33m\u001B[0m\u001B[0m\n",
      "\u001B[1;32m~\\AppData\\Roaming\\Python\\Python39\\site-packages\\pandas\\_libs\\join.pyx\u001B[0m in \u001B[0;36mpandas._libs.join.left_outer_join\u001B[1;34m()\u001B[0m\n",
      "\u001B[1;31mMemoryError\u001B[0m: Unable to allocate 258. GiB for an array with shape (34660750933,) and data type int64"
     ]
    }
   ],
   "source": [
    "# Merge the 'device_lat' and 'device_lng' columns from 'ORCA_2023' into 'stop_usage_count' by 'stop_id'\n",
    "stop_usage_count_with_location = pd.merge(stop_usage_count, ORCA_2023[['stop_id', 'device_lat', 'device_lng']], on='stop_id', how='left')\n",
    "\n",
    "# Display the resulting DataFrame\n",
    "print(stop_usage_count_with_location)"
   ]
  },
  {
   "cell_type": "code",
   "execution_count": 64,
   "id": "a9ae9475",
   "metadata": {},
   "outputs": [
    {
     "ename": "KeyboardInterrupt",
     "evalue": "",
     "output_type": "error",
     "traceback": [
      "\u001B[1;31m---------------------------------------------------------------------------\u001B[0m",
      "\u001B[1;31mMemoryError\u001B[0m                               Traceback (most recent call last)",
      "\u001B[1;32mC:\\ProgramData\\Anaconda3\\lib\\site-packages\\sqlalchemy\\engine\\cursor.py\u001B[0m in \u001B[0;36mfetchall\u001B[1;34m(self, result, dbapi_cursor)\u001B[0m\n\u001B[0;32m    976\u001B[0m         \u001B[1;32mtry\u001B[0m\u001B[1;33m:\u001B[0m\u001B[1;33m\u001B[0m\u001B[1;33m\u001B[0m\u001B[0m\n\u001B[1;32m--> 977\u001B[1;33m             \u001B[0mrows\u001B[0m \u001B[1;33m=\u001B[0m \u001B[0mdbapi_cursor\u001B[0m\u001B[1;33m.\u001B[0m\u001B[0mfetchall\u001B[0m\u001B[1;33m(\u001B[0m\u001B[1;33m)\u001B[0m\u001B[1;33m\u001B[0m\u001B[1;33m\u001B[0m\u001B[0m\n\u001B[0m\u001B[0;32m    978\u001B[0m             \u001B[0mresult\u001B[0m\u001B[1;33m.\u001B[0m\u001B[0m_soft_close\u001B[0m\u001B[1;33m(\u001B[0m\u001B[1;33m)\u001B[0m\u001B[1;33m\u001B[0m\u001B[1;33m\u001B[0m\u001B[0m\n",
      "\u001B[1;31mMemoryError\u001B[0m: ",
      "\nDuring handling of the above exception, another exception occurred:\n",
      "\u001B[1;31mKeyboardInterrupt\u001B[0m                         Traceback (most recent call last)",
      "\u001B[1;32m~\\AppData\\Local\\Temp\\ipykernel_16092\\2724912425.py\u001B[0m in \u001B[0;36m<module>\u001B[1;34m\u001B[0m\n\u001B[0;32m     19\u001B[0m \u001B[1;33m\u001B[0m\u001B[0m\n\u001B[0;32m     20\u001B[0m \u001B[1;31m# Execute the SQL query and fetch the result into a DataFrame\u001B[0m\u001B[1;33m\u001B[0m\u001B[1;33m\u001B[0m\u001B[0m\n\u001B[1;32m---> 21\u001B[1;33m \u001B[0mmerged_data\u001B[0m \u001B[1;33m=\u001B[0m \u001B[0mpd\u001B[0m\u001B[1;33m.\u001B[0m\u001B[0mread_sql_query\u001B[0m\u001B[1;33m(\u001B[0m\u001B[0mquery\u001B[0m\u001B[1;33m,\u001B[0m \u001B[0mdb_engine\u001B[0m\u001B[1;33m)\u001B[0m\u001B[1;33m\u001B[0m\u001B[1;33m\u001B[0m\u001B[0m\n\u001B[0m\u001B[0;32m     22\u001B[0m \u001B[1;33m\u001B[0m\u001B[0m\n\u001B[0;32m     23\u001B[0m \u001B[1;31m# Close the database connection\u001B[0m\u001B[1;33m\u001B[0m\u001B[1;33m\u001B[0m\u001B[0m\n",
      "\u001B[1;32m~\\AppData\\Roaming\\Python\\Python39\\site-packages\\pandas\\io\\sql.py\u001B[0m in \u001B[0;36mread_sql_query\u001B[1;34m(sql, con, index_col, coerce_float, params, parse_dates, chunksize, dtype, dtype_backend)\u001B[0m\n\u001B[0;32m    467\u001B[0m \u001B[1;33m\u001B[0m\u001B[0m\n\u001B[0;32m    468\u001B[0m     \u001B[1;32mwith\u001B[0m \u001B[0mpandasSQL_builder\u001B[0m\u001B[1;33m(\u001B[0m\u001B[0mcon\u001B[0m\u001B[1;33m)\u001B[0m \u001B[1;32mas\u001B[0m \u001B[0mpandas_sql\u001B[0m\u001B[1;33m:\u001B[0m\u001B[1;33m\u001B[0m\u001B[1;33m\u001B[0m\u001B[0m\n\u001B[1;32m--> 469\u001B[1;33m         return pandas_sql.read_query(\n\u001B[0m\u001B[0;32m    470\u001B[0m             \u001B[0msql\u001B[0m\u001B[1;33m,\u001B[0m\u001B[1;33m\u001B[0m\u001B[1;33m\u001B[0m\u001B[0m\n\u001B[0;32m    471\u001B[0m             \u001B[0mindex_col\u001B[0m\u001B[1;33m=\u001B[0m\u001B[0mindex_col\u001B[0m\u001B[1;33m,\u001B[0m\u001B[1;33m\u001B[0m\u001B[1;33m\u001B[0m\u001B[0m\n",
      "\u001B[1;32m~\\AppData\\Roaming\\Python\\Python39\\site-packages\\pandas\\io\\sql.py\u001B[0m in \u001B[0;36mread_query\u001B[1;34m(self, sql, index_col, coerce_float, parse_dates, params, chunksize, dtype, dtype_backend)\u001B[0m\n\u001B[0;32m   1753\u001B[0m             )\n\u001B[0;32m   1754\u001B[0m         \u001B[1;32melse\u001B[0m\u001B[1;33m:\u001B[0m\u001B[1;33m\u001B[0m\u001B[1;33m\u001B[0m\u001B[0m\n\u001B[1;32m-> 1755\u001B[1;33m             \u001B[0mdata\u001B[0m \u001B[1;33m=\u001B[0m \u001B[0mresult\u001B[0m\u001B[1;33m.\u001B[0m\u001B[0mfetchall\u001B[0m\u001B[1;33m(\u001B[0m\u001B[1;33m)\u001B[0m\u001B[1;33m\u001B[0m\u001B[1;33m\u001B[0m\u001B[0m\n\u001B[0m\u001B[0;32m   1756\u001B[0m             frame = _wrap_result(\n\u001B[0;32m   1757\u001B[0m                 \u001B[0mdata\u001B[0m\u001B[1;33m,\u001B[0m\u001B[1;33m\u001B[0m\u001B[1;33m\u001B[0m\u001B[0m\n",
      "\u001B[1;32mC:\\ProgramData\\Anaconda3\\lib\\site-packages\\sqlalchemy\\engine\\result.py\u001B[0m in \u001B[0;36mfetchall\u001B[1;34m(self)\u001B[0m\n\u001B[0;32m   1022\u001B[0m         \u001B[1;34m\"\"\"A synonym for the :meth:`_engine.Result.all` method.\"\"\"\u001B[0m\u001B[1;33m\u001B[0m\u001B[1;33m\u001B[0m\u001B[0m\n\u001B[0;32m   1023\u001B[0m \u001B[1;33m\u001B[0m\u001B[0m\n\u001B[1;32m-> 1024\u001B[1;33m         \u001B[1;32mreturn\u001B[0m \u001B[0mself\u001B[0m\u001B[1;33m.\u001B[0m\u001B[0m_allrows\u001B[0m\u001B[1;33m(\u001B[0m\u001B[1;33m)\u001B[0m\u001B[1;33m\u001B[0m\u001B[1;33m\u001B[0m\u001B[0m\n\u001B[0m\u001B[0;32m   1025\u001B[0m \u001B[1;33m\u001B[0m\u001B[0m\n\u001B[0;32m   1026\u001B[0m     \u001B[1;32mdef\u001B[0m \u001B[0mfetchone\u001B[0m\u001B[1;33m(\u001B[0m\u001B[0mself\u001B[0m\u001B[1;33m)\u001B[0m\u001B[1;33m:\u001B[0m\u001B[1;33m\u001B[0m\u001B[1;33m\u001B[0m\u001B[0m\n",
      "\u001B[1;32mC:\\ProgramData\\Anaconda3\\lib\\site-packages\\sqlalchemy\\engine\\result.py\u001B[0m in \u001B[0;36m_allrows\u001B[1;34m(self)\u001B[0m\n\u001B[0;32m    399\u001B[0m         \u001B[0mmake_row\u001B[0m \u001B[1;33m=\u001B[0m \u001B[0mself\u001B[0m\u001B[1;33m.\u001B[0m\u001B[0m_row_getter\u001B[0m\u001B[1;33m\u001B[0m\u001B[1;33m\u001B[0m\u001B[0m\n\u001B[0;32m    400\u001B[0m \u001B[1;33m\u001B[0m\u001B[0m\n\u001B[1;32m--> 401\u001B[1;33m         \u001B[0mrows\u001B[0m \u001B[1;33m=\u001B[0m \u001B[0mself\u001B[0m\u001B[1;33m.\u001B[0m\u001B[0m_fetchall_impl\u001B[0m\u001B[1;33m(\u001B[0m\u001B[1;33m)\u001B[0m\u001B[1;33m\u001B[0m\u001B[1;33m\u001B[0m\u001B[0m\n\u001B[0m\u001B[0;32m    402\u001B[0m         \u001B[1;32mif\u001B[0m \u001B[0mmake_row\u001B[0m\u001B[1;33m:\u001B[0m\u001B[1;33m\u001B[0m\u001B[1;33m\u001B[0m\u001B[0m\n\u001B[0;32m    403\u001B[0m             \u001B[0mmade_rows\u001B[0m \u001B[1;33m=\u001B[0m \u001B[1;33m[\u001B[0m\u001B[0mmake_row\u001B[0m\u001B[1;33m(\u001B[0m\u001B[0mrow\u001B[0m\u001B[1;33m)\u001B[0m \u001B[1;32mfor\u001B[0m \u001B[0mrow\u001B[0m \u001B[1;32min\u001B[0m \u001B[0mrows\u001B[0m\u001B[1;33m]\u001B[0m\u001B[1;33m\u001B[0m\u001B[1;33m\u001B[0m\u001B[0m\n",
      "\u001B[1;32mC:\\ProgramData\\Anaconda3\\lib\\site-packages\\sqlalchemy\\engine\\cursor.py\u001B[0m in \u001B[0;36m_fetchall_impl\u001B[1;34m(self)\u001B[0m\n\u001B[0;32m   1802\u001B[0m \u001B[1;33m\u001B[0m\u001B[0m\n\u001B[0;32m   1803\u001B[0m     \u001B[1;32mdef\u001B[0m \u001B[0m_fetchall_impl\u001B[0m\u001B[1;33m(\u001B[0m\u001B[0mself\u001B[0m\u001B[1;33m)\u001B[0m\u001B[1;33m:\u001B[0m\u001B[1;33m\u001B[0m\u001B[1;33m\u001B[0m\u001B[0m\n\u001B[1;32m-> 1804\u001B[1;33m         \u001B[1;32mreturn\u001B[0m \u001B[0mself\u001B[0m\u001B[1;33m.\u001B[0m\u001B[0mcursor_strategy\u001B[0m\u001B[1;33m.\u001B[0m\u001B[0mfetchall\u001B[0m\u001B[1;33m(\u001B[0m\u001B[0mself\u001B[0m\u001B[1;33m,\u001B[0m \u001B[0mself\u001B[0m\u001B[1;33m.\u001B[0m\u001B[0mcursor\u001B[0m\u001B[1;33m)\u001B[0m\u001B[1;33m\u001B[0m\u001B[1;33m\u001B[0m\u001B[0m\n\u001B[0m\u001B[0;32m   1805\u001B[0m \u001B[1;33m\u001B[0m\u001B[0m\n\u001B[0;32m   1806\u001B[0m     \u001B[1;32mdef\u001B[0m \u001B[0m_fetchmany_impl\u001B[0m\u001B[1;33m(\u001B[0m\u001B[0mself\u001B[0m\u001B[1;33m,\u001B[0m \u001B[0msize\u001B[0m\u001B[1;33m=\u001B[0m\u001B[1;32mNone\u001B[0m\u001B[1;33m)\u001B[0m\u001B[1;33m:\u001B[0m\u001B[1;33m\u001B[0m\u001B[1;33m\u001B[0m\u001B[0m\n",
      "\u001B[1;32mC:\\ProgramData\\Anaconda3\\lib\\site-packages\\sqlalchemy\\engine\\cursor.py\u001B[0m in \u001B[0;36mfetchall\u001B[1;34m(self, result, dbapi_cursor)\u001B[0m\n\u001B[0;32m    975\u001B[0m     \u001B[1;32mdef\u001B[0m \u001B[0mfetchall\u001B[0m\u001B[1;33m(\u001B[0m\u001B[0mself\u001B[0m\u001B[1;33m,\u001B[0m \u001B[0mresult\u001B[0m\u001B[1;33m,\u001B[0m \u001B[0mdbapi_cursor\u001B[0m\u001B[1;33m)\u001B[0m\u001B[1;33m:\u001B[0m\u001B[1;33m\u001B[0m\u001B[1;33m\u001B[0m\u001B[0m\n\u001B[0;32m    976\u001B[0m         \u001B[1;32mtry\u001B[0m\u001B[1;33m:\u001B[0m\u001B[1;33m\u001B[0m\u001B[1;33m\u001B[0m\u001B[0m\n\u001B[1;32m--> 977\u001B[1;33m             \u001B[0mrows\u001B[0m \u001B[1;33m=\u001B[0m \u001B[0mdbapi_cursor\u001B[0m\u001B[1;33m.\u001B[0m\u001B[0mfetchall\u001B[0m\u001B[1;33m(\u001B[0m\u001B[1;33m)\u001B[0m\u001B[1;33m\u001B[0m\u001B[1;33m\u001B[0m\u001B[0m\n\u001B[0m\u001B[0;32m    978\u001B[0m             \u001B[0mresult\u001B[0m\u001B[1;33m.\u001B[0m\u001B[0m_soft_close\u001B[0m\u001B[1;33m(\u001B[0m\u001B[1;33m)\u001B[0m\u001B[1;33m\u001B[0m\u001B[1;33m\u001B[0m\u001B[0m\n\u001B[0;32m    979\u001B[0m             \u001B[1;32mreturn\u001B[0m \u001B[0mrows\u001B[0m\u001B[1;33m\u001B[0m\u001B[1;33m\u001B[0m\u001B[0m\n",
      "\u001B[1;31mKeyboardInterrupt\u001B[0m: "
     ]
    }
   ],
   "source": [
    "from sqlalchemy import create_engine\n",
    "\n",
    "# Assuming 'stop_usage_count' and 'ORCA_2023' are your DataFrames\n",
    "\n",
    "# Create a SQLite database and connect to it\n",
    "db_engine = create_engine('sqlite:///mydatabase.db')\n",
    "\n",
    "# Write DataFrames to the database\n",
    "stop_usage_count.to_sql('stop_usage_count_table', db_engine, if_exists='replace', index=False)\n",
    "ORCA_2023.to_sql('ORCA_2023_table', db_engine, if_exists='replace', index=False)\n",
    "\n",
    "# Perform the merge in the database using SQL\n",
    "query = \"\"\"\n",
    "SELECT a.*, b.device_lat, b.device_lng\n",
    "FROM stop_usage_count_table AS a\n",
    "LEFT JOIN ORCA_2023_table AS b\n",
    "ON a.stop_id = b.stop_id;\n",
    "\"\"\"\n",
    "\n",
    "# Execute the SQL query and fetch the result into a DataFrame\n",
    "merged_data = pd.read_sql_query(query, db_engine)\n",
    "\n",
    "# Close the database connection\n",
    "db_engine.dispose()\n",
    "\n",
    "# Display the resulting DataFrame\n",
    "print(merged_data)"
   ]
  },
  {
   "cell_type": "code",
   "execution_count": 2,
   "id": "a93fe15f",
   "metadata": {},
   "outputs": [],
   "source": [
    "#!pip install folium\n",
    "import folium\n",
    "import pandas as pd\n",
    "import datetime\n",
    "from datetime import timedelta\n"
   ]
  },
  {
   "cell_type": "code",
   "execution_count": 3,
   "outputs": [
    {
     "name": "stderr",
     "output_type": "stream",
     "text": [
      "/var/folders/fh/zynvgz3502n7wqtzvnrpjnj40000gn/T/ipykernel_51536/2433198100.py:1: DtypeWarning: Columns (17) have mixed types. Specify dtype option on import or set low_memory=False.\n",
      "  df_23 = pd.read_csv('2023-04_orca_boardings.csv')\n"
     ]
    }
   ],
   "source": [
    "df_23 = pd.read_csv('2023-04_orca_boardings.csv')\n"
   ],
   "metadata": {
    "collapsed": false
   }
  },
  {
   "cell_type": "code",
   "execution_count": 4,
   "outputs": [
    {
     "data": {
      "text/plain": "            txn_id                boarding_guid  txn_type_id  card_id  \\\n0        200000000   146580sc-70-67-643077ef45e           66    84105   \n1        200000010   1283408o-70-19-643077f0ad2           66  3096144   \n2        200000012  16043092-70-147-643077f01f4           66   461903   \n3        200000016   1588004h-70-48-643066c649e           84   499699   \n4        200000018   153140d8-70-59-643077f08e0           66    23183   \n...            ...                          ...          ...      ...   \n5229135  215502026  1309503p-70-239-6447f515956           84   290829   \n5229136  215502058   1299609v-70-31-644800ca6a2           66    82178   \n5229137  215502186  1647608i-70-130-644806681a6           84   116508   \n5229138  215502298  13065013-70-108-64480a0f28e           84   279499   \n5229139  215502306    1299609y-70-1-64482403312           85  2962746   \n\n         passenger_type_id  passenger_count  product_id business_date  \\\n0                        1                1         NaN    2023-04-07   \n1                        1                1         NaN    2023-04-07   \n2                        1                1         NaN    2023-04-07   \n3                        1                1         NaN    2023-04-07   \n4                        1                1      1014.0    2023-04-07   \n...                    ...              ...         ...           ...   \n5229135                  1                1         NaN    2023-04-25   \n5229136                  1                1         NaN    2023-04-25   \n5229137                  1                1         NaN    2023-04-25   \n5229138                  4                1         3.0    2023-04-25   \n5229139                  5                1       236.0    2023-04-25   \n\n         device_id   device_dtm_pacific  ...  participant_group_id  \\\n0          14658.0  2023-04-07 13:07:11  ...                   NaN   \n1          12834.0  2023-04-07 13:07:12  ...                   NaN   \n2          16043.0  2023-04-07 13:07:12  ...                   NaN   \n3          14672.0  2023-04-07 13:07:12  ...                   NaN   \n4          15314.0  2023-04-07 13:07:12  ...               28328.0   \n...            ...                  ...  ...                   ...   \n5229135    12996.0  2023-04-25 09:28:54  ...                   NaN   \n5229136    12996.0  2023-04-25 09:33:14  ...                   NaN   \n5229137    12996.0  2023-04-25 10:03:09  ...                   NaN   \n5229138    12996.0  2023-04-25 11:04:50  ...                   NaN   \n5229139    12996.0  2023-04-25 12:03:31  ...               28444.0   \n\n            stop_id stop_code  ticket_internal_nbr  osfa_cents  ceffv_cents  \\\n0        96438052.0       344                  501         200          200   \n1        96398820.0      2220                  307         275          275   \n2        96395266.0     10225                  307         275          275   \n3               NaN      4074                  200         325          325   \n4        96397360.0     17140                  307         275          275   \n...             ...       ...                  ...         ...          ...   \n5229135  96440448.0       455                  218         300          225   \n5229136  96440448.0       455                  218         300          250   \n5229137  96440448.0       455                  218         300          225   \n5229138  96440448.0       455                  215         100          100   \n5229139  96440448.0       455                  236         100          100   \n\n         total_journey_fare_cents linked_journey_fare_cents  \\\n0                             400                       200   \n1                             275                       275   \n2                             275                       275   \n3                             875                       325   \n4                             275                       275   \n...                           ...                       ...   \n5229135                       450                       225   \n5229136                       250                       250   \n5229137                       800                       300   \n5229138                       200                       100   \n5229139                       100                       100   \n\n         epurse_equivalent_cents       load_start_dtm  \n0                            100  2023-04-08 09:58:31  \n1                            275  2023-04-08 09:58:31  \n2                            275  2023-04-08 09:58:31  \n3                            121  2023-04-08 09:58:31  \n4                            275  2023-04-08 09:58:31  \n...                          ...                  ...  \n5229135                      113  2023-05-03 08:58:16  \n5229136                      250  2023-05-03 08:58:16  \n5229137                       84  2023-05-03 08:58:16  \n5229138                       50  2023-05-03 08:58:16  \n5229139                      100  2023-05-03 08:58:16  \n\n[5229140 rows x 32 columns]",
      "text/html": "<div>\n<style scoped>\n    .dataframe tbody tr th:only-of-type {\n        vertical-align: middle;\n    }\n\n    .dataframe tbody tr th {\n        vertical-align: top;\n    }\n\n    .dataframe thead th {\n        text-align: right;\n    }\n</style>\n<table border=\"1\" class=\"dataframe\">\n  <thead>\n    <tr style=\"text-align: right;\">\n      <th></th>\n      <th>txn_id</th>\n      <th>boarding_guid</th>\n      <th>txn_type_id</th>\n      <th>card_id</th>\n      <th>passenger_type_id</th>\n      <th>passenger_count</th>\n      <th>product_id</th>\n      <th>business_date</th>\n      <th>device_id</th>\n      <th>device_dtm_pacific</th>\n      <th>...</th>\n      <th>participant_group_id</th>\n      <th>stop_id</th>\n      <th>stop_code</th>\n      <th>ticket_internal_nbr</th>\n      <th>osfa_cents</th>\n      <th>ceffv_cents</th>\n      <th>total_journey_fare_cents</th>\n      <th>linked_journey_fare_cents</th>\n      <th>epurse_equivalent_cents</th>\n      <th>load_start_dtm</th>\n    </tr>\n  </thead>\n  <tbody>\n    <tr>\n      <th>0</th>\n      <td>200000000</td>\n      <td>146580sc-70-67-643077ef45e</td>\n      <td>66</td>\n      <td>84105</td>\n      <td>1</td>\n      <td>1</td>\n      <td>NaN</td>\n      <td>2023-04-07</td>\n      <td>14658.0</td>\n      <td>2023-04-07 13:07:11</td>\n      <td>...</td>\n      <td>NaN</td>\n      <td>96438052.0</td>\n      <td>344</td>\n      <td>501</td>\n      <td>200</td>\n      <td>200</td>\n      <td>400</td>\n      <td>200</td>\n      <td>100</td>\n      <td>2023-04-08 09:58:31</td>\n    </tr>\n    <tr>\n      <th>1</th>\n      <td>200000010</td>\n      <td>1283408o-70-19-643077f0ad2</td>\n      <td>66</td>\n      <td>3096144</td>\n      <td>1</td>\n      <td>1</td>\n      <td>NaN</td>\n      <td>2023-04-07</td>\n      <td>12834.0</td>\n      <td>2023-04-07 13:07:12</td>\n      <td>...</td>\n      <td>NaN</td>\n      <td>96398820.0</td>\n      <td>2220</td>\n      <td>307</td>\n      <td>275</td>\n      <td>275</td>\n      <td>275</td>\n      <td>275</td>\n      <td>275</td>\n      <td>2023-04-08 09:58:31</td>\n    </tr>\n    <tr>\n      <th>2</th>\n      <td>200000012</td>\n      <td>16043092-70-147-643077f01f4</td>\n      <td>66</td>\n      <td>461903</td>\n      <td>1</td>\n      <td>1</td>\n      <td>NaN</td>\n      <td>2023-04-07</td>\n      <td>16043.0</td>\n      <td>2023-04-07 13:07:12</td>\n      <td>...</td>\n      <td>NaN</td>\n      <td>96395266.0</td>\n      <td>10225</td>\n      <td>307</td>\n      <td>275</td>\n      <td>275</td>\n      <td>275</td>\n      <td>275</td>\n      <td>275</td>\n      <td>2023-04-08 09:58:31</td>\n    </tr>\n    <tr>\n      <th>3</th>\n      <td>200000016</td>\n      <td>1588004h-70-48-643066c649e</td>\n      <td>84</td>\n      <td>499699</td>\n      <td>1</td>\n      <td>1</td>\n      <td>NaN</td>\n      <td>2023-04-07</td>\n      <td>14672.0</td>\n      <td>2023-04-07 13:07:12</td>\n      <td>...</td>\n      <td>NaN</td>\n      <td>NaN</td>\n      <td>4074</td>\n      <td>200</td>\n      <td>325</td>\n      <td>325</td>\n      <td>875</td>\n      <td>325</td>\n      <td>121</td>\n      <td>2023-04-08 09:58:31</td>\n    </tr>\n    <tr>\n      <th>4</th>\n      <td>200000018</td>\n      <td>153140d8-70-59-643077f08e0</td>\n      <td>66</td>\n      <td>23183</td>\n      <td>1</td>\n      <td>1</td>\n      <td>1014.0</td>\n      <td>2023-04-07</td>\n      <td>15314.0</td>\n      <td>2023-04-07 13:07:12</td>\n      <td>...</td>\n      <td>28328.0</td>\n      <td>96397360.0</td>\n      <td>17140</td>\n      <td>307</td>\n      <td>275</td>\n      <td>275</td>\n      <td>275</td>\n      <td>275</td>\n      <td>275</td>\n      <td>2023-04-08 09:58:31</td>\n    </tr>\n    <tr>\n      <th>...</th>\n      <td>...</td>\n      <td>...</td>\n      <td>...</td>\n      <td>...</td>\n      <td>...</td>\n      <td>...</td>\n      <td>...</td>\n      <td>...</td>\n      <td>...</td>\n      <td>...</td>\n      <td>...</td>\n      <td>...</td>\n      <td>...</td>\n      <td>...</td>\n      <td>...</td>\n      <td>...</td>\n      <td>...</td>\n      <td>...</td>\n      <td>...</td>\n      <td>...</td>\n      <td>...</td>\n    </tr>\n    <tr>\n      <th>5229135</th>\n      <td>215502026</td>\n      <td>1309503p-70-239-6447f515956</td>\n      <td>84</td>\n      <td>290829</td>\n      <td>1</td>\n      <td>1</td>\n      <td>NaN</td>\n      <td>2023-04-25</td>\n      <td>12996.0</td>\n      <td>2023-04-25 09:28:54</td>\n      <td>...</td>\n      <td>NaN</td>\n      <td>96440448.0</td>\n      <td>455</td>\n      <td>218</td>\n      <td>300</td>\n      <td>225</td>\n      <td>450</td>\n      <td>225</td>\n      <td>113</td>\n      <td>2023-05-03 08:58:16</td>\n    </tr>\n    <tr>\n      <th>5229136</th>\n      <td>215502058</td>\n      <td>1299609v-70-31-644800ca6a2</td>\n      <td>66</td>\n      <td>82178</td>\n      <td>1</td>\n      <td>1</td>\n      <td>NaN</td>\n      <td>2023-04-25</td>\n      <td>12996.0</td>\n      <td>2023-04-25 09:33:14</td>\n      <td>...</td>\n      <td>NaN</td>\n      <td>96440448.0</td>\n      <td>455</td>\n      <td>218</td>\n      <td>300</td>\n      <td>250</td>\n      <td>250</td>\n      <td>250</td>\n      <td>250</td>\n      <td>2023-05-03 08:58:16</td>\n    </tr>\n    <tr>\n      <th>5229137</th>\n      <td>215502186</td>\n      <td>1647608i-70-130-644806681a6</td>\n      <td>84</td>\n      <td>116508</td>\n      <td>1</td>\n      <td>1</td>\n      <td>NaN</td>\n      <td>2023-04-25</td>\n      <td>12996.0</td>\n      <td>2023-04-25 10:03:09</td>\n      <td>...</td>\n      <td>NaN</td>\n      <td>96440448.0</td>\n      <td>455</td>\n      <td>218</td>\n      <td>300</td>\n      <td>225</td>\n      <td>800</td>\n      <td>300</td>\n      <td>84</td>\n      <td>2023-05-03 08:58:16</td>\n    </tr>\n    <tr>\n      <th>5229138</th>\n      <td>215502298</td>\n      <td>13065013-70-108-64480a0f28e</td>\n      <td>84</td>\n      <td>279499</td>\n      <td>4</td>\n      <td>1</td>\n      <td>3.0</td>\n      <td>2023-04-25</td>\n      <td>12996.0</td>\n      <td>2023-04-25 11:04:50</td>\n      <td>...</td>\n      <td>NaN</td>\n      <td>96440448.0</td>\n      <td>455</td>\n      <td>215</td>\n      <td>100</td>\n      <td>100</td>\n      <td>200</td>\n      <td>100</td>\n      <td>50</td>\n      <td>2023-05-03 08:58:16</td>\n    </tr>\n    <tr>\n      <th>5229139</th>\n      <td>215502306</td>\n      <td>1299609y-70-1-64482403312</td>\n      <td>85</td>\n      <td>2962746</td>\n      <td>5</td>\n      <td>1</td>\n      <td>236.0</td>\n      <td>2023-04-25</td>\n      <td>12996.0</td>\n      <td>2023-04-25 12:03:31</td>\n      <td>...</td>\n      <td>28444.0</td>\n      <td>96440448.0</td>\n      <td>455</td>\n      <td>236</td>\n      <td>100</td>\n      <td>100</td>\n      <td>100</td>\n      <td>100</td>\n      <td>100</td>\n      <td>2023-05-03 08:58:16</td>\n    </tr>\n  </tbody>\n</table>\n<p>5229140 rows × 32 columns</p>\n</div>"
     },
     "execution_count": 4,
     "metadata": {},
     "output_type": "execute_result"
    }
   ],
   "source": [
    "df_23"
   ],
   "metadata": {
    "collapsed": false
   }
  },
  {
   "cell_type": "code",
   "execution_count": 5,
   "outputs": [
    {
     "data": {
      "text/plain": "            txn_id                boarding_guid  txn_type_id  card_id  \\\n0        200000000   146580sc-70-67-643077ef45e           66    84105   \n1        200000010   1283408o-70-19-643077f0ad2           66  3096144   \n2        200000012  16043092-70-147-643077f01f4           66   461903   \n3        200000016   1588004h-70-48-643066c649e           84   499699   \n4        200000018   153140d8-70-59-643077f08e0           66    23183   \n...            ...                          ...          ...      ...   \n5229135  215502026  1309503p-70-239-6447f515956           84   290829   \n5229136  215502058   1299609v-70-31-644800ca6a2           66    82178   \n5229137  215502186  1647608i-70-130-644806681a6           84   116508   \n5229138  215502298  13065013-70-108-64480a0f28e           84   279499   \n5229139  215502306    1299609y-70-1-64482403312           85  2962746   \n\n         passenger_type_id  passenger_count  product_id business_date  \\\n0                        1                1         NaN    2023-04-07   \n1                        1                1         NaN    2023-04-07   \n2                        1                1         NaN    2023-04-07   \n3                        1                1         NaN    2023-04-07   \n4                        1                1      1014.0    2023-04-07   \n...                    ...              ...         ...           ...   \n5229135                  1                1         NaN    2023-04-25   \n5229136                  1                1         NaN    2023-04-25   \n5229137                  1                1         NaN    2023-04-25   \n5229138                  4                1         3.0    2023-04-25   \n5229139                  5                1       236.0    2023-04-25   \n\n         device_id   device_dtm_pacific  ...  participant_group_id  \\\n0          14658.0  2023-04-07 13:07:11  ...                   NaN   \n1          12834.0  2023-04-07 13:07:12  ...                   NaN   \n2          16043.0  2023-04-07 13:07:12  ...                   NaN   \n3          14672.0  2023-04-07 13:07:12  ...                   NaN   \n4          15314.0  2023-04-07 13:07:12  ...               28328.0   \n...            ...                  ...  ...                   ...   \n5229135    12996.0  2023-04-25 09:28:54  ...                   NaN   \n5229136    12996.0  2023-04-25 09:33:14  ...                   NaN   \n5229137    12996.0  2023-04-25 10:03:09  ...                   NaN   \n5229138    12996.0  2023-04-25 11:04:50  ...                   NaN   \n5229139    12996.0  2023-04-25 12:03:31  ...               28444.0   \n\n            stop_id stop_code  ticket_internal_nbr  osfa_cents  ceffv_cents  \\\n0        96438052.0       344                  501         200          200   \n1        96398820.0      2220                  307         275          275   \n2        96395266.0     10225                  307         275          275   \n3               NaN      4074                  200         325          325   \n4        96397360.0     17140                  307         275          275   \n...             ...       ...                  ...         ...          ...   \n5229135  96440448.0       455                  218         300          225   \n5229136  96440448.0       455                  218         300          250   \n5229137  96440448.0       455                  218         300          225   \n5229138  96440448.0       455                  215         100          100   \n5229139  96440448.0       455                  236         100          100   \n\n         total_journey_fare_cents linked_journey_fare_cents  \\\n0                             400                       200   \n1                             275                       275   \n2                             275                       275   \n3                             875                       325   \n4                             275                       275   \n...                           ...                       ...   \n5229135                       450                       225   \n5229136                       250                       250   \n5229137                       800                       300   \n5229138                       200                       100   \n5229139                       100                       100   \n\n         epurse_equivalent_cents       load_start_dtm  \n0                            100  2023-04-08 09:58:31  \n1                            275  2023-04-08 09:58:31  \n2                            275  2023-04-08 09:58:31  \n3                            121  2023-04-08 09:58:31  \n4                            275  2023-04-08 09:58:31  \n...                          ...                  ...  \n5229135                      113  2023-05-03 08:58:16  \n5229136                      250  2023-05-03 08:58:16  \n5229137                       84  2023-05-03 08:58:16  \n5229138                       50  2023-05-03 08:58:16  \n5229139                      100  2023-05-03 08:58:16  \n\n[5229140 rows x 32 columns]",
      "text/html": "<div>\n<style scoped>\n    .dataframe tbody tr th:only-of-type {\n        vertical-align: middle;\n    }\n\n    .dataframe tbody tr th {\n        vertical-align: top;\n    }\n\n    .dataframe thead th {\n        text-align: right;\n    }\n</style>\n<table border=\"1\" class=\"dataframe\">\n  <thead>\n    <tr style=\"text-align: right;\">\n      <th></th>\n      <th>txn_id</th>\n      <th>boarding_guid</th>\n      <th>txn_type_id</th>\n      <th>card_id</th>\n      <th>passenger_type_id</th>\n      <th>passenger_count</th>\n      <th>product_id</th>\n      <th>business_date</th>\n      <th>device_id</th>\n      <th>device_dtm_pacific</th>\n      <th>...</th>\n      <th>participant_group_id</th>\n      <th>stop_id</th>\n      <th>stop_code</th>\n      <th>ticket_internal_nbr</th>\n      <th>osfa_cents</th>\n      <th>ceffv_cents</th>\n      <th>total_journey_fare_cents</th>\n      <th>linked_journey_fare_cents</th>\n      <th>epurse_equivalent_cents</th>\n      <th>load_start_dtm</th>\n    </tr>\n  </thead>\n  <tbody>\n    <tr>\n      <th>0</th>\n      <td>200000000</td>\n      <td>146580sc-70-67-643077ef45e</td>\n      <td>66</td>\n      <td>84105</td>\n      <td>1</td>\n      <td>1</td>\n      <td>NaN</td>\n      <td>2023-04-07</td>\n      <td>14658.0</td>\n      <td>2023-04-07 13:07:11</td>\n      <td>...</td>\n      <td>NaN</td>\n      <td>96438052.0</td>\n      <td>344</td>\n      <td>501</td>\n      <td>200</td>\n      <td>200</td>\n      <td>400</td>\n      <td>200</td>\n      <td>100</td>\n      <td>2023-04-08 09:58:31</td>\n    </tr>\n    <tr>\n      <th>1</th>\n      <td>200000010</td>\n      <td>1283408o-70-19-643077f0ad2</td>\n      <td>66</td>\n      <td>3096144</td>\n      <td>1</td>\n      <td>1</td>\n      <td>NaN</td>\n      <td>2023-04-07</td>\n      <td>12834.0</td>\n      <td>2023-04-07 13:07:12</td>\n      <td>...</td>\n      <td>NaN</td>\n      <td>96398820.0</td>\n      <td>2220</td>\n      <td>307</td>\n      <td>275</td>\n      <td>275</td>\n      <td>275</td>\n      <td>275</td>\n      <td>275</td>\n      <td>2023-04-08 09:58:31</td>\n    </tr>\n    <tr>\n      <th>2</th>\n      <td>200000012</td>\n      <td>16043092-70-147-643077f01f4</td>\n      <td>66</td>\n      <td>461903</td>\n      <td>1</td>\n      <td>1</td>\n      <td>NaN</td>\n      <td>2023-04-07</td>\n      <td>16043.0</td>\n      <td>2023-04-07 13:07:12</td>\n      <td>...</td>\n      <td>NaN</td>\n      <td>96395266.0</td>\n      <td>10225</td>\n      <td>307</td>\n      <td>275</td>\n      <td>275</td>\n      <td>275</td>\n      <td>275</td>\n      <td>275</td>\n      <td>2023-04-08 09:58:31</td>\n    </tr>\n    <tr>\n      <th>3</th>\n      <td>200000016</td>\n      <td>1588004h-70-48-643066c649e</td>\n      <td>84</td>\n      <td>499699</td>\n      <td>1</td>\n      <td>1</td>\n      <td>NaN</td>\n      <td>2023-04-07</td>\n      <td>14672.0</td>\n      <td>2023-04-07 13:07:12</td>\n      <td>...</td>\n      <td>NaN</td>\n      <td>NaN</td>\n      <td>4074</td>\n      <td>200</td>\n      <td>325</td>\n      <td>325</td>\n      <td>875</td>\n      <td>325</td>\n      <td>121</td>\n      <td>2023-04-08 09:58:31</td>\n    </tr>\n    <tr>\n      <th>4</th>\n      <td>200000018</td>\n      <td>153140d8-70-59-643077f08e0</td>\n      <td>66</td>\n      <td>23183</td>\n      <td>1</td>\n      <td>1</td>\n      <td>1014.0</td>\n      <td>2023-04-07</td>\n      <td>15314.0</td>\n      <td>2023-04-07 13:07:12</td>\n      <td>...</td>\n      <td>28328.0</td>\n      <td>96397360.0</td>\n      <td>17140</td>\n      <td>307</td>\n      <td>275</td>\n      <td>275</td>\n      <td>275</td>\n      <td>275</td>\n      <td>275</td>\n      <td>2023-04-08 09:58:31</td>\n    </tr>\n    <tr>\n      <th>...</th>\n      <td>...</td>\n      <td>...</td>\n      <td>...</td>\n      <td>...</td>\n      <td>...</td>\n      <td>...</td>\n      <td>...</td>\n      <td>...</td>\n      <td>...</td>\n      <td>...</td>\n      <td>...</td>\n      <td>...</td>\n      <td>...</td>\n      <td>...</td>\n      <td>...</td>\n      <td>...</td>\n      <td>...</td>\n      <td>...</td>\n      <td>...</td>\n      <td>...</td>\n      <td>...</td>\n    </tr>\n    <tr>\n      <th>5229135</th>\n      <td>215502026</td>\n      <td>1309503p-70-239-6447f515956</td>\n      <td>84</td>\n      <td>290829</td>\n      <td>1</td>\n      <td>1</td>\n      <td>NaN</td>\n      <td>2023-04-25</td>\n      <td>12996.0</td>\n      <td>2023-04-25 09:28:54</td>\n      <td>...</td>\n      <td>NaN</td>\n      <td>96440448.0</td>\n      <td>455</td>\n      <td>218</td>\n      <td>300</td>\n      <td>225</td>\n      <td>450</td>\n      <td>225</td>\n      <td>113</td>\n      <td>2023-05-03 08:58:16</td>\n    </tr>\n    <tr>\n      <th>5229136</th>\n      <td>215502058</td>\n      <td>1299609v-70-31-644800ca6a2</td>\n      <td>66</td>\n      <td>82178</td>\n      <td>1</td>\n      <td>1</td>\n      <td>NaN</td>\n      <td>2023-04-25</td>\n      <td>12996.0</td>\n      <td>2023-04-25 09:33:14</td>\n      <td>...</td>\n      <td>NaN</td>\n      <td>96440448.0</td>\n      <td>455</td>\n      <td>218</td>\n      <td>300</td>\n      <td>250</td>\n      <td>250</td>\n      <td>250</td>\n      <td>250</td>\n      <td>2023-05-03 08:58:16</td>\n    </tr>\n    <tr>\n      <th>5229137</th>\n      <td>215502186</td>\n      <td>1647608i-70-130-644806681a6</td>\n      <td>84</td>\n      <td>116508</td>\n      <td>1</td>\n      <td>1</td>\n      <td>NaN</td>\n      <td>2023-04-25</td>\n      <td>12996.0</td>\n      <td>2023-04-25 10:03:09</td>\n      <td>...</td>\n      <td>NaN</td>\n      <td>96440448.0</td>\n      <td>455</td>\n      <td>218</td>\n      <td>300</td>\n      <td>225</td>\n      <td>800</td>\n      <td>300</td>\n      <td>84</td>\n      <td>2023-05-03 08:58:16</td>\n    </tr>\n    <tr>\n      <th>5229138</th>\n      <td>215502298</td>\n      <td>13065013-70-108-64480a0f28e</td>\n      <td>84</td>\n      <td>279499</td>\n      <td>4</td>\n      <td>1</td>\n      <td>3.0</td>\n      <td>2023-04-25</td>\n      <td>12996.0</td>\n      <td>2023-04-25 11:04:50</td>\n      <td>...</td>\n      <td>NaN</td>\n      <td>96440448.0</td>\n      <td>455</td>\n      <td>215</td>\n      <td>100</td>\n      <td>100</td>\n      <td>200</td>\n      <td>100</td>\n      <td>50</td>\n      <td>2023-05-03 08:58:16</td>\n    </tr>\n    <tr>\n      <th>5229139</th>\n      <td>215502306</td>\n      <td>1299609y-70-1-64482403312</td>\n      <td>85</td>\n      <td>2962746</td>\n      <td>5</td>\n      <td>1</td>\n      <td>236.0</td>\n      <td>2023-04-25</td>\n      <td>12996.0</td>\n      <td>2023-04-25 12:03:31</td>\n      <td>...</td>\n      <td>28444.0</td>\n      <td>96440448.0</td>\n      <td>455</td>\n      <td>236</td>\n      <td>100</td>\n      <td>100</td>\n      <td>100</td>\n      <td>100</td>\n      <td>100</td>\n      <td>2023-05-03 08:58:16</td>\n    </tr>\n  </tbody>\n</table>\n<p>5229140 rows × 32 columns</p>\n</div>"
     },
     "execution_count": 5,
     "metadata": {},
     "output_type": "execute_result"
    }
   ],
   "source": [
    "df_23['device_lat'] = df_23['device_lat'] / 1000000\n",
    "df_23['device_lng'] = df_23['device_lng'] / 1000000\n",
    "df_23"
   ],
   "metadata": {
    "collapsed": false
   }
  },
  {
   "cell_type": "code",
   "execution_count": 6,
   "outputs": [],
   "source": [
    "df_23['device_dtm_pacific'] = pd.to_datetime(df_23['device_dtm_pacific'])\n",
    "df_23['business_date'] = pd.to_datetime(df_23['business_date'])\n",
    "df_23['time_of_day'] = df_23['device_dtm_pacific'].dt.time\n",
    "df_23 = df_23.sort_values(by=['card_id','business_date','time_of_day'], ascending=[True,True,True])"
   ],
   "metadata": {
    "collapsed": false
   }
  },
  {
   "cell_type": "code",
   "execution_count": 7,
   "outputs": [],
   "source": [
    "df_23=df_23[['card_id','business_date','time_of_day','device_lat','device_lng','stop_code','route_number']]\n"
   ],
   "metadata": {
    "collapsed": false
   }
  },
  {
   "cell_type": "code",
   "execution_count": 8,
   "outputs": [
    {
     "data": {
      "text/plain": "         card_id business_date time_of_day  device_lat  device_lng stop_code  \\\n439379         1    2023-04-02    19:24:54   47.611710 -122.324195      3034   \n447746         1    2023-04-02    22:44:02   47.626855 -122.356853      2680   \n679314         1    2023-04-03    23:54:55   47.611960 -122.335771      1110   \n801361         1    2023-04-04    14:09:12   47.701158 -122.355461      5730   \n809699         1    2023-04-04    14:46:02   47.609986 -122.337038      1180   \n...          ...           ...         ...         ...         ...       ...   \n2410688  3577863    2023-04-30    08:59:06   47.611450 -122.337532      1108   \n2415592  3577981    2023-04-30    10:56:32   47.659875 -122.314194    990001   \n5216060  3577981    2023-04-30    16:25:07   47.602139 -122.331055       501   \n5187245  3578120    2023-04-29    21:50:46   47.809686 -122.382485      2727   \n2441357  3578298    2023-04-30    18:48:30   47.445053 -122.296692     99903   \n\n        route_number  \n439379             2  \n447746             2  \n679314            11  \n801361             5  \n809699            10  \n...              ...  \n2410688       100479  \n2415592       100479  \n5216060       100479  \n5187245          196  \n2441357       100479  \n\n[5229140 rows x 7 columns]",
      "text/html": "<div>\n<style scoped>\n    .dataframe tbody tr th:only-of-type {\n        vertical-align: middle;\n    }\n\n    .dataframe tbody tr th {\n        vertical-align: top;\n    }\n\n    .dataframe thead th {\n        text-align: right;\n    }\n</style>\n<table border=\"1\" class=\"dataframe\">\n  <thead>\n    <tr style=\"text-align: right;\">\n      <th></th>\n      <th>card_id</th>\n      <th>business_date</th>\n      <th>time_of_day</th>\n      <th>device_lat</th>\n      <th>device_lng</th>\n      <th>stop_code</th>\n      <th>route_number</th>\n    </tr>\n  </thead>\n  <tbody>\n    <tr>\n      <th>439379</th>\n      <td>1</td>\n      <td>2023-04-02</td>\n      <td>19:24:54</td>\n      <td>47.611710</td>\n      <td>-122.324195</td>\n      <td>3034</td>\n      <td>2</td>\n    </tr>\n    <tr>\n      <th>447746</th>\n      <td>1</td>\n      <td>2023-04-02</td>\n      <td>22:44:02</td>\n      <td>47.626855</td>\n      <td>-122.356853</td>\n      <td>2680</td>\n      <td>2</td>\n    </tr>\n    <tr>\n      <th>679314</th>\n      <td>1</td>\n      <td>2023-04-03</td>\n      <td>23:54:55</td>\n      <td>47.611960</td>\n      <td>-122.335771</td>\n      <td>1110</td>\n      <td>11</td>\n    </tr>\n    <tr>\n      <th>801361</th>\n      <td>1</td>\n      <td>2023-04-04</td>\n      <td>14:09:12</td>\n      <td>47.701158</td>\n      <td>-122.355461</td>\n      <td>5730</td>\n      <td>5</td>\n    </tr>\n    <tr>\n      <th>809699</th>\n      <td>1</td>\n      <td>2023-04-04</td>\n      <td>14:46:02</td>\n      <td>47.609986</td>\n      <td>-122.337038</td>\n      <td>1180</td>\n      <td>10</td>\n    </tr>\n    <tr>\n      <th>...</th>\n      <td>...</td>\n      <td>...</td>\n      <td>...</td>\n      <td>...</td>\n      <td>...</td>\n      <td>...</td>\n      <td>...</td>\n    </tr>\n    <tr>\n      <th>2410688</th>\n      <td>3577863</td>\n      <td>2023-04-30</td>\n      <td>08:59:06</td>\n      <td>47.611450</td>\n      <td>-122.337532</td>\n      <td>1108</td>\n      <td>100479</td>\n    </tr>\n    <tr>\n      <th>2415592</th>\n      <td>3577981</td>\n      <td>2023-04-30</td>\n      <td>10:56:32</td>\n      <td>47.659875</td>\n      <td>-122.314194</td>\n      <td>990001</td>\n      <td>100479</td>\n    </tr>\n    <tr>\n      <th>5216060</th>\n      <td>3577981</td>\n      <td>2023-04-30</td>\n      <td>16:25:07</td>\n      <td>47.602139</td>\n      <td>-122.331055</td>\n      <td>501</td>\n      <td>100479</td>\n    </tr>\n    <tr>\n      <th>5187245</th>\n      <td>3578120</td>\n      <td>2023-04-29</td>\n      <td>21:50:46</td>\n      <td>47.809686</td>\n      <td>-122.382485</td>\n      <td>2727</td>\n      <td>196</td>\n    </tr>\n    <tr>\n      <th>2441357</th>\n      <td>3578298</td>\n      <td>2023-04-30</td>\n      <td>18:48:30</td>\n      <td>47.445053</td>\n      <td>-122.296692</td>\n      <td>99903</td>\n      <td>100479</td>\n    </tr>\n  </tbody>\n</table>\n<p>5229140 rows × 7 columns</p>\n</div>"
     },
     "execution_count": 8,
     "metadata": {},
     "output_type": "execute_result"
    }
   ],
   "source": [
    "df_23"
   ],
   "metadata": {
    "collapsed": false
   }
  },
  {
   "cell_type": "code",
   "execution_count": 9,
   "outputs": [
    {
     "data": {
      "text/plain": "5229140"
     },
     "execution_count": 9,
     "metadata": {},
     "output_type": "execute_result"
    }
   ],
   "source": [
    "df_23.to_csv('df_23.csv', index=False)\n",
    "num_rows = df_23.shape[0]\n",
    "num_rows"
   ],
   "metadata": {
    "collapsed": false
   }
  },
  {
   "cell_type": "code",
   "execution_count": null,
   "outputs": [
    {
     "name": "stdout",
     "output_type": "stream",
     "text": [
      "5014206\n"
     ]
    },
    {
     "name": "stderr",
     "output_type": "stream",
     "text": [
      "/var/folders/fh/zynvgz3502n7wqtzvnrpjnj40000gn/T/ipykernel_51536/3881401927.py:24: FutureWarning: Comparison of Timestamp with datetime.date is deprecated in order to match the standard library behavior. In a future version these will be considered non-comparable. Use 'ts == pd.Timestamp(date)' or 'ts.date() == date' instead.\n",
      "  if(df_23.iloc[i]['business_date'].date()==date and (i>0)):\n",
      "/var/folders/fh/zynvgz3502n7wqtzvnrpjnj40000gn/T/ipykernel_51536/3881401927.py:24: FutureWarning: Comparison of Timestamp with datetime.date is deprecated in order to match the standard library behavior. In a future version these will be considered non-comparable. Use 'ts == pd.Timestamp(date)' or 'ts.date() == date' instead.\n",
      "  if(df_23.iloc[i]['business_date'].date()==date and (i>0)):\n",
      "/var/folders/fh/zynvgz3502n7wqtzvnrpjnj40000gn/T/ipykernel_51536/3881401927.py:24: FutureWarning: Comparison of Timestamp with datetime.date is deprecated in order to match the standard library behavior. In a future version these will be considered non-comparable. Use 'ts == pd.Timestamp(date)' or 'ts.date() == date' instead.\n",
      "  if(df_23.iloc[i]['business_date'].date()==date and (i>0)):\n"
     ]
    }
   ],
   "source": [
    "import random\n",
    "def random_color():\n",
    "    return \"#{:02x}{:02x}{:02x}\".format(random.randint(0, 200), random.randint(0, 200), random.randint(0, 200))\n",
    "\n",
    "\n",
    "df_23 = df_23.dropna(subset=['device_lat','device_lng'])\n",
    "num_rows = df_23.shape[0]\n",
    "print(num_rows)\n",
    "date = df_23.iloc[0]['business_date'].date()\n",
    "card=df_23.iloc[0]['card_id']\n",
    "co=random_color()\n",
    "\n",
    "lat=df_23.iloc[0]['device_lat']\n",
    "lng=df_23.iloc[0]['device_lng']\n",
    "m = folium.Map(location=[lat, lng], zoom_start=12)\n",
    "# for i in range(204900,num_rows):\n",
    "line_repeat = {}\n",
    "lines_drawn = set()\n",
    "markers_drawn=set()\n",
    "for i in range(num_rows):\n",
    "    lat=df_23.iloc[i]['device_lat']\n",
    "    lng=df_23.iloc[i]['device_lng']\n",
    "    if(df_23.iloc[i]['card_id']==card):\n",
    "        if(df_23.iloc[i]['business_date'].date()==date and (i>0)):\n",
    "            marker1=(lat, lng)\n",
    "            if marker1 not in markers_drawn:\n",
    "                folium.Marker([lat, lng], tooltip=f\"Stop ID: {df_23.iloc[i]['stop_code']}\").add_to(m)\n",
    "                markers_drawn.add(marker1)\n",
    "            marker2=(df_23.iloc[i-1]['device_lat'], df_23.iloc[i-1]['device_lng'])\n",
    "            if marker2 not in markers_drawn:\n",
    "                folium.Marker([lat, lng], tooltip=f\"Stop ID: {df_23.iloc[i]['stop_code']}\").add_to(m)\n",
    "                markers_drawn.add(marker2)\n",
    "            folium.Marker([df_23.iloc[i-1]['device_lat'], df_23.iloc[i-1]['device_lng']], tooltip=f\"Stop ID: {df_23.iloc[i-1]['stop_code']}\").add_to(m)\n",
    "            line = (marker1, marker2)\n",
    "            if line not in lines_drawn:\n",
    "                line_repeat[line]=0\n",
    "                linee=folium.PolyLine(\n",
    "                    locations=[[lat, lng], [df_23.iloc[i-1]['device_lat'], df_23.iloc[i-1]['device_lng']]],\n",
    "                    color=co,\n",
    "                    weight=2,\n",
    "                    tooltip=f'Route number: {df_23.iloc[i][\"route_number\"]}'\n",
    "                )\n",
    "                linee.add_to(m)\n",
    "                lines_drawn.add(line)\n",
    "                m.save(f'map{card}.html')\n",
    "            else:\n",
    "                line_repeat[line] += 1\n",
    "        else:\n",
    "            date = df_23.iloc[i+1]['business_date']\n",
    "    else:\n",
    "        card=df_23.iloc[i]['card_id']\n",
    "        co=random_color()\n",
    "        m = folium.Map(location=[lat, lng], zoom_start=12)\n",
    "\n",
    "\n"
   ],
   "metadata": {
    "collapsed": false,
    "pycharm": {
     "is_executing": true
    }
   }
  },
  {
   "cell_type": "code",
   "execution_count": 122,
   "outputs": [
    {
     "data": {
      "text/plain": "         card_id stop_code  Stop_Frequency  Total_Stops_Used\n0              1      1110               1                15\n1              1      1120               1                15\n2              1      1180               4                15\n3              1      2680               1                15\n4              1      3034               1                15\n...          ...       ...             ...               ...\n1881735  3577863      1108               1                 1\n1881736  3577981       501               1                 2\n1881737  3577981    990001               1                 2\n1881738  3578120      2727               1                 1\n1881739  3578298     99903               1                 1\n\n[1881740 rows x 4 columns]",
      "text/html": "<div>\n<style scoped>\n    .dataframe tbody tr th:only-of-type {\n        vertical-align: middle;\n    }\n\n    .dataframe tbody tr th {\n        vertical-align: top;\n    }\n\n    .dataframe thead th {\n        text-align: right;\n    }\n</style>\n<table border=\"1\" class=\"dataframe\">\n  <thead>\n    <tr style=\"text-align: right;\">\n      <th></th>\n      <th>card_id</th>\n      <th>stop_code</th>\n      <th>Stop_Frequency</th>\n      <th>Total_Stops_Used</th>\n    </tr>\n  </thead>\n  <tbody>\n    <tr>\n      <th>0</th>\n      <td>1</td>\n      <td>1110</td>\n      <td>1</td>\n      <td>15</td>\n    </tr>\n    <tr>\n      <th>1</th>\n      <td>1</td>\n      <td>1120</td>\n      <td>1</td>\n      <td>15</td>\n    </tr>\n    <tr>\n      <th>2</th>\n      <td>1</td>\n      <td>1180</td>\n      <td>4</td>\n      <td>15</td>\n    </tr>\n    <tr>\n      <th>3</th>\n      <td>1</td>\n      <td>2680</td>\n      <td>1</td>\n      <td>15</td>\n    </tr>\n    <tr>\n      <th>4</th>\n      <td>1</td>\n      <td>3034</td>\n      <td>1</td>\n      <td>15</td>\n    </tr>\n    <tr>\n      <th>...</th>\n      <td>...</td>\n      <td>...</td>\n      <td>...</td>\n      <td>...</td>\n    </tr>\n    <tr>\n      <th>1881735</th>\n      <td>3577863</td>\n      <td>1108</td>\n      <td>1</td>\n      <td>1</td>\n    </tr>\n    <tr>\n      <th>1881736</th>\n      <td>3577981</td>\n      <td>501</td>\n      <td>1</td>\n      <td>2</td>\n    </tr>\n    <tr>\n      <th>1881737</th>\n      <td>3577981</td>\n      <td>990001</td>\n      <td>1</td>\n      <td>2</td>\n    </tr>\n    <tr>\n      <th>1881738</th>\n      <td>3578120</td>\n      <td>2727</td>\n      <td>1</td>\n      <td>1</td>\n    </tr>\n    <tr>\n      <th>1881739</th>\n      <td>3578298</td>\n      <td>99903</td>\n      <td>1</td>\n      <td>1</td>\n    </tr>\n  </tbody>\n</table>\n<p>1881740 rows × 4 columns</p>\n</div>"
     },
     "execution_count": 122,
     "metadata": {},
     "output_type": "execute_result"
    }
   ],
   "source": [
    "stop_usage_count\n"
   ],
   "metadata": {
    "collapsed": false
   }
  },
  {
   "cell_type": "code",
   "execution_count": 123,
   "outputs": [],
   "source": [
    "stop_usage_count.to_csv('stop_usage_data.csv', index=False)"
   ],
   "metadata": {
    "collapsed": false
   }
  },
  {
   "cell_type": "code",
   "execution_count": null,
   "outputs": [],
   "source": [
    "date"
   ],
   "metadata": {
    "collapsed": false
   }
  },
  {
   "cell_type": "code",
   "execution_count": 168,
   "outputs": [],
   "source": [
    "df_232=df_23.sort_values(by=['card_id','business_date'], ascending=[True,True])"
   ],
   "metadata": {
    "collapsed": false
   }
  },
  {
   "cell_type": "code",
   "execution_count": 171,
   "outputs": [
    {
     "data": {
      "text/plain": "         card_id business_date time_of_day  device_lat  device_lng stop_code  \\\n293046        41    2023-04-01    14:12:56   47.542303 -122.062425     64555   \n297980        41    2023-04-01    14:43:16   47.599155 -122.313368     11960   \n311072        41    2023-04-01    16:00:42   47.599138 -122.297455     11890   \n354006        41    2023-04-01    21:48:45   47.620293 -122.296148     43706   \n592936        41    2023-04-03    15:54:11   47.599368 -122.297691     11890   \n675744        41    2023-04-03    22:06:13   47.620588 -122.296156     43706   \n829240        41    2023-04-04    15:54:00   47.599333 -122.297533     11890   \n1583971       41    2023-04-05    20:30:34   47.599348 -122.297770     11890   \n2637641       41    2023-04-09    16:15:21   47.599153 -122.297456     11890   \n2650086       41    2023-04-09    19:44:58   47.620223 -122.296158     43706   \n2876946       41    2023-04-11    15:26:02   47.599165 -122.297461     11890   \n2936622       41    2023-04-11    21:45:02   47.620593 -122.296103     43706   \n2998523       41    2023-04-12    11:33:55   47.601730 -122.294948     27320   \n3000931       41    2023-04-12    11:56:49   47.604178 -122.333173       481   \n3072489       41    2023-04-12    18:27:30   47.552398 -122.387000     19830   \n3075533       41    2023-04-12    18:49:42   47.605130 -122.333543       480   \n3314011       41    2023-04-14    15:58:38   47.599373 -122.297720     11890   \n3414670       41    2023-04-15    15:58:01   47.599308 -122.297491     11890   \n3446614       41    2023-04-15    22:38:06   47.620456 -122.296148     43706   \n3592943       41    2023-04-17    16:00:09   47.599243 -122.297441     11890   \n3639907       41    2023-04-17    21:57:53   47.620323 -122.296180     43706   \n1420223       41    2023-04-18    21:41:52   47.620320 -122.296193     43706   \n3740147       41    2023-04-18    15:54:03   47.599380 -122.297628     11890   \n1483302       41    2023-04-19    18:05:01   47.624095 -122.356723      2672   \n3887566       41    2023-04-19    15:25:17   47.599341 -122.293568     11870   \n1933612       41    2023-04-21    15:10:00   47.599308 -122.292895     11870   \n1934816       41    2023-04-21    15:28:57   47.601683 -122.294816     27320   \n4170162       41    2023-04-21    15:20:08   47.599178 -122.313930     11960   \n4175894       41    2023-04-21    15:50:57   47.604583 -122.333125       481   \n4270683       41    2023-04-22    15:16:49   47.552213 -122.387030     19830   \n4275195       41    2023-04-22    15:55:43   47.618476 -122.338170      2255   \n4308424       41    2023-04-22    22:13:03   47.620491 -122.296116     43706   \n2006572       41    2023-04-23    13:52:49   47.604713 -122.333083       481   \n2019517       41    2023-04-23    21:54:46   47.605105 -122.333551       480   \n4335614       41    2023-04-23    13:22:21   47.599275 -122.293081     11870   \n4336783       41    2023-04-23    13:38:12   47.599243 -122.317453      3600   \n4367657       41    2023-04-23    21:21:39   47.551900 -122.387043     19830   \n4514484       41    2023-04-24    21:39:13   47.620336 -122.296196     43706   \n4620146       41    2023-04-25    15:57:58   47.599251 -122.297493     11890   \n4675253       41    2023-04-25    21:43:30   47.620348 -122.296143     43706   \n2184436       41    2023-04-26    12:12:35   47.599741 -122.302143     12550   \n2186757       41    2023-04-26    12:49:37   47.612458 -122.302781     35860   \n2191448       41    2023-04-26    14:04:10   47.601641 -122.295006     27320   \n2192915       41    2023-04-26    14:24:00   47.600420 -122.330290       515   \n5037373       41    2023-04-28    12:34:26   47.548123 -122.376313     22730   \n5040222       41    2023-04-28    12:58:38   47.599211 -122.328498      1471   \n5067703       41    2023-04-28    15:57:27   47.599276 -122.297450     11890   \n5113742       41    2023-04-28    22:07:15   47.619910 -122.296173     43706   \n2381158       41    2023-04-29    15:44:10   47.599378 -122.297891     11890   \n2402608       41    2023-04-29    21:50:37   47.618670 -122.307395     13270   \n\n        route_number  \n293046           554  \n297980            14  \n311072             8  \n354006             8  \n592936             8  \n675744             8  \n829240             8  \n1583971            8  \n2637641            8  \n2650086            8  \n2876946            8  \n2936622            8  \n2998523           27  \n3000931          673  \n3072489          673  \n3075533           14  \n3314011            8  \n3414670            8  \n3446614            8  \n3592943            8  \n3639907            8  \n1420223            8  \n3740147            8  \n1483302            1  \n3887566           14  \n1933612           14  \n1934816           27  \n4170162           14  \n4175894          673  \n4270683          673  \n4275195            8  \n4308424            8  \n2006572          673  \n2019517            4  \n4335614           14  \n4336783            7  \n4367657          673  \n4514484            8  \n4620146            8  \n4675253            8  \n2184436           48  \n2186757           48  \n2191448           27  \n2192915           21  \n5037373           21  \n5040222           14  \n5067703            8  \n5113742            8  \n2381158            8  \n2402608           12  ",
      "text/html": "<div>\n<style scoped>\n    .dataframe tbody tr th:only-of-type {\n        vertical-align: middle;\n    }\n\n    .dataframe tbody tr th {\n        vertical-align: top;\n    }\n\n    .dataframe thead th {\n        text-align: right;\n    }\n</style>\n<table border=\"1\" class=\"dataframe\">\n  <thead>\n    <tr style=\"text-align: right;\">\n      <th></th>\n      <th>card_id</th>\n      <th>business_date</th>\n      <th>time_of_day</th>\n      <th>device_lat</th>\n      <th>device_lng</th>\n      <th>stop_code</th>\n      <th>route_number</th>\n    </tr>\n  </thead>\n  <tbody>\n    <tr>\n      <th>293046</th>\n      <td>41</td>\n      <td>2023-04-01</td>\n      <td>14:12:56</td>\n      <td>47.542303</td>\n      <td>-122.062425</td>\n      <td>64555</td>\n      <td>554</td>\n    </tr>\n    <tr>\n      <th>297980</th>\n      <td>41</td>\n      <td>2023-04-01</td>\n      <td>14:43:16</td>\n      <td>47.599155</td>\n      <td>-122.313368</td>\n      <td>11960</td>\n      <td>14</td>\n    </tr>\n    <tr>\n      <th>311072</th>\n      <td>41</td>\n      <td>2023-04-01</td>\n      <td>16:00:42</td>\n      <td>47.599138</td>\n      <td>-122.297455</td>\n      <td>11890</td>\n      <td>8</td>\n    </tr>\n    <tr>\n      <th>354006</th>\n      <td>41</td>\n      <td>2023-04-01</td>\n      <td>21:48:45</td>\n      <td>47.620293</td>\n      <td>-122.296148</td>\n      <td>43706</td>\n      <td>8</td>\n    </tr>\n    <tr>\n      <th>592936</th>\n      <td>41</td>\n      <td>2023-04-03</td>\n      <td>15:54:11</td>\n      <td>47.599368</td>\n      <td>-122.297691</td>\n      <td>11890</td>\n      <td>8</td>\n    </tr>\n    <tr>\n      <th>675744</th>\n      <td>41</td>\n      <td>2023-04-03</td>\n      <td>22:06:13</td>\n      <td>47.620588</td>\n      <td>-122.296156</td>\n      <td>43706</td>\n      <td>8</td>\n    </tr>\n    <tr>\n      <th>829240</th>\n      <td>41</td>\n      <td>2023-04-04</td>\n      <td>15:54:00</td>\n      <td>47.599333</td>\n      <td>-122.297533</td>\n      <td>11890</td>\n      <td>8</td>\n    </tr>\n    <tr>\n      <th>1583971</th>\n      <td>41</td>\n      <td>2023-04-05</td>\n      <td>20:30:34</td>\n      <td>47.599348</td>\n      <td>-122.297770</td>\n      <td>11890</td>\n      <td>8</td>\n    </tr>\n    <tr>\n      <th>2637641</th>\n      <td>41</td>\n      <td>2023-04-09</td>\n      <td>16:15:21</td>\n      <td>47.599153</td>\n      <td>-122.297456</td>\n      <td>11890</td>\n      <td>8</td>\n    </tr>\n    <tr>\n      <th>2650086</th>\n      <td>41</td>\n      <td>2023-04-09</td>\n      <td>19:44:58</td>\n      <td>47.620223</td>\n      <td>-122.296158</td>\n      <td>43706</td>\n      <td>8</td>\n    </tr>\n    <tr>\n      <th>2876946</th>\n      <td>41</td>\n      <td>2023-04-11</td>\n      <td>15:26:02</td>\n      <td>47.599165</td>\n      <td>-122.297461</td>\n      <td>11890</td>\n      <td>8</td>\n    </tr>\n    <tr>\n      <th>2936622</th>\n      <td>41</td>\n      <td>2023-04-11</td>\n      <td>21:45:02</td>\n      <td>47.620593</td>\n      <td>-122.296103</td>\n      <td>43706</td>\n      <td>8</td>\n    </tr>\n    <tr>\n      <th>2998523</th>\n      <td>41</td>\n      <td>2023-04-12</td>\n      <td>11:33:55</td>\n      <td>47.601730</td>\n      <td>-122.294948</td>\n      <td>27320</td>\n      <td>27</td>\n    </tr>\n    <tr>\n      <th>3000931</th>\n      <td>41</td>\n      <td>2023-04-12</td>\n      <td>11:56:49</td>\n      <td>47.604178</td>\n      <td>-122.333173</td>\n      <td>481</td>\n      <td>673</td>\n    </tr>\n    <tr>\n      <th>3072489</th>\n      <td>41</td>\n      <td>2023-04-12</td>\n      <td>18:27:30</td>\n      <td>47.552398</td>\n      <td>-122.387000</td>\n      <td>19830</td>\n      <td>673</td>\n    </tr>\n    <tr>\n      <th>3075533</th>\n      <td>41</td>\n      <td>2023-04-12</td>\n      <td>18:49:42</td>\n      <td>47.605130</td>\n      <td>-122.333543</td>\n      <td>480</td>\n      <td>14</td>\n    </tr>\n    <tr>\n      <th>3314011</th>\n      <td>41</td>\n      <td>2023-04-14</td>\n      <td>15:58:38</td>\n      <td>47.599373</td>\n      <td>-122.297720</td>\n      <td>11890</td>\n      <td>8</td>\n    </tr>\n    <tr>\n      <th>3414670</th>\n      <td>41</td>\n      <td>2023-04-15</td>\n      <td>15:58:01</td>\n      <td>47.599308</td>\n      <td>-122.297491</td>\n      <td>11890</td>\n      <td>8</td>\n    </tr>\n    <tr>\n      <th>3446614</th>\n      <td>41</td>\n      <td>2023-04-15</td>\n      <td>22:38:06</td>\n      <td>47.620456</td>\n      <td>-122.296148</td>\n      <td>43706</td>\n      <td>8</td>\n    </tr>\n    <tr>\n      <th>3592943</th>\n      <td>41</td>\n      <td>2023-04-17</td>\n      <td>16:00:09</td>\n      <td>47.599243</td>\n      <td>-122.297441</td>\n      <td>11890</td>\n      <td>8</td>\n    </tr>\n    <tr>\n      <th>3639907</th>\n      <td>41</td>\n      <td>2023-04-17</td>\n      <td>21:57:53</td>\n      <td>47.620323</td>\n      <td>-122.296180</td>\n      <td>43706</td>\n      <td>8</td>\n    </tr>\n    <tr>\n      <th>1420223</th>\n      <td>41</td>\n      <td>2023-04-18</td>\n      <td>21:41:52</td>\n      <td>47.620320</td>\n      <td>-122.296193</td>\n      <td>43706</td>\n      <td>8</td>\n    </tr>\n    <tr>\n      <th>3740147</th>\n      <td>41</td>\n      <td>2023-04-18</td>\n      <td>15:54:03</td>\n      <td>47.599380</td>\n      <td>-122.297628</td>\n      <td>11890</td>\n      <td>8</td>\n    </tr>\n    <tr>\n      <th>1483302</th>\n      <td>41</td>\n      <td>2023-04-19</td>\n      <td>18:05:01</td>\n      <td>47.624095</td>\n      <td>-122.356723</td>\n      <td>2672</td>\n      <td>1</td>\n    </tr>\n    <tr>\n      <th>3887566</th>\n      <td>41</td>\n      <td>2023-04-19</td>\n      <td>15:25:17</td>\n      <td>47.599341</td>\n      <td>-122.293568</td>\n      <td>11870</td>\n      <td>14</td>\n    </tr>\n    <tr>\n      <th>1933612</th>\n      <td>41</td>\n      <td>2023-04-21</td>\n      <td>15:10:00</td>\n      <td>47.599308</td>\n      <td>-122.292895</td>\n      <td>11870</td>\n      <td>14</td>\n    </tr>\n    <tr>\n      <th>1934816</th>\n      <td>41</td>\n      <td>2023-04-21</td>\n      <td>15:28:57</td>\n      <td>47.601683</td>\n      <td>-122.294816</td>\n      <td>27320</td>\n      <td>27</td>\n    </tr>\n    <tr>\n      <th>4170162</th>\n      <td>41</td>\n      <td>2023-04-21</td>\n      <td>15:20:08</td>\n      <td>47.599178</td>\n      <td>-122.313930</td>\n      <td>11960</td>\n      <td>14</td>\n    </tr>\n    <tr>\n      <th>4175894</th>\n      <td>41</td>\n      <td>2023-04-21</td>\n      <td>15:50:57</td>\n      <td>47.604583</td>\n      <td>-122.333125</td>\n      <td>481</td>\n      <td>673</td>\n    </tr>\n    <tr>\n      <th>4270683</th>\n      <td>41</td>\n      <td>2023-04-22</td>\n      <td>15:16:49</td>\n      <td>47.552213</td>\n      <td>-122.387030</td>\n      <td>19830</td>\n      <td>673</td>\n    </tr>\n    <tr>\n      <th>4275195</th>\n      <td>41</td>\n      <td>2023-04-22</td>\n      <td>15:55:43</td>\n      <td>47.618476</td>\n      <td>-122.338170</td>\n      <td>2255</td>\n      <td>8</td>\n    </tr>\n    <tr>\n      <th>4308424</th>\n      <td>41</td>\n      <td>2023-04-22</td>\n      <td>22:13:03</td>\n      <td>47.620491</td>\n      <td>-122.296116</td>\n      <td>43706</td>\n      <td>8</td>\n    </tr>\n    <tr>\n      <th>2006572</th>\n      <td>41</td>\n      <td>2023-04-23</td>\n      <td>13:52:49</td>\n      <td>47.604713</td>\n      <td>-122.333083</td>\n      <td>481</td>\n      <td>673</td>\n    </tr>\n    <tr>\n      <th>2019517</th>\n      <td>41</td>\n      <td>2023-04-23</td>\n      <td>21:54:46</td>\n      <td>47.605105</td>\n      <td>-122.333551</td>\n      <td>480</td>\n      <td>4</td>\n    </tr>\n    <tr>\n      <th>4335614</th>\n      <td>41</td>\n      <td>2023-04-23</td>\n      <td>13:22:21</td>\n      <td>47.599275</td>\n      <td>-122.293081</td>\n      <td>11870</td>\n      <td>14</td>\n    </tr>\n    <tr>\n      <th>4336783</th>\n      <td>41</td>\n      <td>2023-04-23</td>\n      <td>13:38:12</td>\n      <td>47.599243</td>\n      <td>-122.317453</td>\n      <td>3600</td>\n      <td>7</td>\n    </tr>\n    <tr>\n      <th>4367657</th>\n      <td>41</td>\n      <td>2023-04-23</td>\n      <td>21:21:39</td>\n      <td>47.551900</td>\n      <td>-122.387043</td>\n      <td>19830</td>\n      <td>673</td>\n    </tr>\n    <tr>\n      <th>4514484</th>\n      <td>41</td>\n      <td>2023-04-24</td>\n      <td>21:39:13</td>\n      <td>47.620336</td>\n      <td>-122.296196</td>\n      <td>43706</td>\n      <td>8</td>\n    </tr>\n    <tr>\n      <th>4620146</th>\n      <td>41</td>\n      <td>2023-04-25</td>\n      <td>15:57:58</td>\n      <td>47.599251</td>\n      <td>-122.297493</td>\n      <td>11890</td>\n      <td>8</td>\n    </tr>\n    <tr>\n      <th>4675253</th>\n      <td>41</td>\n      <td>2023-04-25</td>\n      <td>21:43:30</td>\n      <td>47.620348</td>\n      <td>-122.296143</td>\n      <td>43706</td>\n      <td>8</td>\n    </tr>\n    <tr>\n      <th>2184436</th>\n      <td>41</td>\n      <td>2023-04-26</td>\n      <td>12:12:35</td>\n      <td>47.599741</td>\n      <td>-122.302143</td>\n      <td>12550</td>\n      <td>48</td>\n    </tr>\n    <tr>\n      <th>2186757</th>\n      <td>41</td>\n      <td>2023-04-26</td>\n      <td>12:49:37</td>\n      <td>47.612458</td>\n      <td>-122.302781</td>\n      <td>35860</td>\n      <td>48</td>\n    </tr>\n    <tr>\n      <th>2191448</th>\n      <td>41</td>\n      <td>2023-04-26</td>\n      <td>14:04:10</td>\n      <td>47.601641</td>\n      <td>-122.295006</td>\n      <td>27320</td>\n      <td>27</td>\n    </tr>\n    <tr>\n      <th>2192915</th>\n      <td>41</td>\n      <td>2023-04-26</td>\n      <td>14:24:00</td>\n      <td>47.600420</td>\n      <td>-122.330290</td>\n      <td>515</td>\n      <td>21</td>\n    </tr>\n    <tr>\n      <th>5037373</th>\n      <td>41</td>\n      <td>2023-04-28</td>\n      <td>12:34:26</td>\n      <td>47.548123</td>\n      <td>-122.376313</td>\n      <td>22730</td>\n      <td>21</td>\n    </tr>\n    <tr>\n      <th>5040222</th>\n      <td>41</td>\n      <td>2023-04-28</td>\n      <td>12:58:38</td>\n      <td>47.599211</td>\n      <td>-122.328498</td>\n      <td>1471</td>\n      <td>14</td>\n    </tr>\n    <tr>\n      <th>5067703</th>\n      <td>41</td>\n      <td>2023-04-28</td>\n      <td>15:57:27</td>\n      <td>47.599276</td>\n      <td>-122.297450</td>\n      <td>11890</td>\n      <td>8</td>\n    </tr>\n    <tr>\n      <th>5113742</th>\n      <td>41</td>\n      <td>2023-04-28</td>\n      <td>22:07:15</td>\n      <td>47.619910</td>\n      <td>-122.296173</td>\n      <td>43706</td>\n      <td>8</td>\n    </tr>\n    <tr>\n      <th>2381158</th>\n      <td>41</td>\n      <td>2023-04-29</td>\n      <td>15:44:10</td>\n      <td>47.599378</td>\n      <td>-122.297891</td>\n      <td>11890</td>\n      <td>8</td>\n    </tr>\n    <tr>\n      <th>2402608</th>\n      <td>41</td>\n      <td>2023-04-29</td>\n      <td>21:50:37</td>\n      <td>47.618670</td>\n      <td>-122.307395</td>\n      <td>13270</td>\n      <td>12</td>\n    </tr>\n  </tbody>\n</table>\n</div>"
     },
     "execution_count": 171,
     "metadata": {},
     "output_type": "execute_result"
    }
   ],
   "source": [
    "df_232[df_232['card_id']==41]"
   ],
   "metadata": {
    "collapsed": false
   }
  },
  {
   "cell_type": "code",
   "execution_count": 174,
   "outputs": [],
   "source": [
    "trip_count = df_23.groupby('card_id')['business_date'].value_counts().reset_index(name='trip_count')"
   ],
   "metadata": {
    "collapsed": false
   }
  },
  {
   "cell_type": "code",
   "execution_count": 175,
   "outputs": [
    {
     "data": {
      "text/plain": "         card_id business_date  trip_count\n0              1    2023-04-02           2\n1              1    2023-04-04           2\n2              1    2023-04-18           2\n3              1    2023-04-20           2\n4              1    2023-04-24           2\n...          ...           ...         ...\n2194627  3577246    2023-04-29           3\n2194628  3577863    2023-04-30           1\n2194629  3577981    2023-04-30           2\n2194630  3578120    2023-04-29           1\n2194631  3578298    2023-04-30           1\n\n[2194632 rows x 3 columns]",
      "text/html": "<div>\n<style scoped>\n    .dataframe tbody tr th:only-of-type {\n        vertical-align: middle;\n    }\n\n    .dataframe tbody tr th {\n        vertical-align: top;\n    }\n\n    .dataframe thead th {\n        text-align: right;\n    }\n</style>\n<table border=\"1\" class=\"dataframe\">\n  <thead>\n    <tr style=\"text-align: right;\">\n      <th></th>\n      <th>card_id</th>\n      <th>business_date</th>\n      <th>trip_count</th>\n    </tr>\n  </thead>\n  <tbody>\n    <tr>\n      <th>0</th>\n      <td>1</td>\n      <td>2023-04-02</td>\n      <td>2</td>\n    </tr>\n    <tr>\n      <th>1</th>\n      <td>1</td>\n      <td>2023-04-04</td>\n      <td>2</td>\n    </tr>\n    <tr>\n      <th>2</th>\n      <td>1</td>\n      <td>2023-04-18</td>\n      <td>2</td>\n    </tr>\n    <tr>\n      <th>3</th>\n      <td>1</td>\n      <td>2023-04-20</td>\n      <td>2</td>\n    </tr>\n    <tr>\n      <th>4</th>\n      <td>1</td>\n      <td>2023-04-24</td>\n      <td>2</td>\n    </tr>\n    <tr>\n      <th>...</th>\n      <td>...</td>\n      <td>...</td>\n      <td>...</td>\n    </tr>\n    <tr>\n      <th>2194627</th>\n      <td>3577246</td>\n      <td>2023-04-29</td>\n      <td>3</td>\n    </tr>\n    <tr>\n      <th>2194628</th>\n      <td>3577863</td>\n      <td>2023-04-30</td>\n      <td>1</td>\n    </tr>\n    <tr>\n      <th>2194629</th>\n      <td>3577981</td>\n      <td>2023-04-30</td>\n      <td>2</td>\n    </tr>\n    <tr>\n      <th>2194630</th>\n      <td>3578120</td>\n      <td>2023-04-29</td>\n      <td>1</td>\n    </tr>\n    <tr>\n      <th>2194631</th>\n      <td>3578298</td>\n      <td>2023-04-30</td>\n      <td>1</td>\n    </tr>\n  </tbody>\n</table>\n<p>2194632 rows × 3 columns</p>\n</div>"
     },
     "execution_count": 175,
     "metadata": {},
     "output_type": "execute_result"
    }
   ],
   "source": [
    "trip_count"
   ],
   "metadata": {
    "collapsed": false
   }
  },
  {
   "cell_type": "code",
   "execution_count": 178,
   "outputs": [
    {
     "data": {
      "text/plain": "30.075885159789888"
     },
     "execution_count": 178,
     "metadata": {},
     "output_type": "execute_result"
    }
   ],
   "source": [
    "count_of_ones = (trip_count['trip_count'] == 1).sum()\n",
    "count_of_non_ones = (trip_count['trip_count'] != 1).sum()\n",
    "count_of_ones/(count_of_ones+count_of_non_ones)*100\n"
   ],
   "metadata": {
    "collapsed": false
   }
  },
  {
   "cell_type": "code",
   "execution_count": null,
   "outputs": [],
   "source": [],
   "metadata": {
    "collapsed": false
   }
  }
 ],
 "metadata": {
  "kernelspec": {
   "display_name": "Python 3 (ipykernel)",
   "language": "python",
   "name": "python3"
  },
  "language_info": {
   "codemirror_mode": {
    "name": "ipython",
    "version": 3
   },
   "file_extension": ".py",
   "mimetype": "text/x-python",
   "name": "python",
   "nbconvert_exporter": "python",
   "pygments_lexer": "ipython3",
   "version": "3.9.13"
  }
 },
 "nbformat": 4,
 "nbformat_minor": 5
}
