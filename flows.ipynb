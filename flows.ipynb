{
 "cells": [
  {
   "cell_type": "code",
   "execution_count": 35,
   "outputs": [
    {
     "name": "stdout",
     "output_type": "stream",
     "text": [
      "Requirement already satisfied: folium in /Users/shakibanaderian/opt/anaconda3/lib/python3.9/site-packages (0.14.0)\r\n",
      "Requirement already satisfied: numpy in /Users/shakibanaderian/opt/anaconda3/lib/python3.9/site-packages (from folium) (1.21.5)\r\n",
      "Requirement already satisfied: jinja2>=2.9 in /Users/shakibanaderian/opt/anaconda3/lib/python3.9/site-packages (from folium) (2.11.3)\r\n",
      "Requirement already satisfied: branca>=0.6.0 in /Users/shakibanaderian/opt/anaconda3/lib/python3.9/site-packages (from folium) (0.6.0)\r\n",
      "Requirement already satisfied: requests in /Users/shakibanaderian/opt/anaconda3/lib/python3.9/site-packages (from folium) (2.28.1)\r\n",
      "Requirement already satisfied: MarkupSafe>=0.23 in /Users/shakibanaderian/opt/anaconda3/lib/python3.9/site-packages (from jinja2>=2.9->folium) (2.0.1)\r\n",
      "Requirement already satisfied: urllib3<1.27,>=1.21.1 in /Users/shakibanaderian/opt/anaconda3/lib/python3.9/site-packages (from requests->folium) (1.26.11)\r\n",
      "Requirement already satisfied: charset-normalizer<3,>=2 in /Users/shakibanaderian/opt/anaconda3/lib/python3.9/site-packages (from requests->folium) (2.0.4)\r\n",
      "Requirement already satisfied: idna<4,>=2.5 in /Users/shakibanaderian/opt/anaconda3/lib/python3.9/site-packages (from requests->folium) (3.3)\r\n",
      "Requirement already satisfied: certifi>=2017.4.17 in /Users/shakibanaderian/opt/anaconda3/lib/python3.9/site-packages (from requests->folium) (2022.9.24)\r\n"
     ]
    }
   ],
   "source": [
    "!pip install folium\n",
    "import folium\n",
    "import pandas as pd\n",
    "import datetime\n",
    "from datetime import timedelta\n"
   ],
   "metadata": {
    "collapsed": false
   }
  },
  {
   "cell_type": "code",
   "execution_count": null,
   "id": "83c1fb15",
   "metadata": {
    "collapsed": false
   },
   "outputs": [],
   "source": [
    "df_23 = pd.read_csv('2023-04_orca_boardings.csv')"
   ]
  },
  {
   "cell_type": "code",
   "execution_count": null,
   "id": "990ad0fd",
   "metadata": {
    "collapsed": false
   },
   "outputs": [],
   "source": [
    "df_23 = df_23.sort_values(by=['business_date','card_id'], ascending=[True,True])"
   ]
  },
  {
   "cell_type": "code",
   "execution_count": null,
   "id": "dd8b3816",
   "metadata": {
    "collapsed": false
   },
   "outputs": [],
   "source": [
    "df_23"
   ]
  },
  {
   "cell_type": "code",
   "execution_count": null,
   "id": "9d679612",
   "metadata": {
    "collapsed": false
   },
   "outputs": [],
   "source": [
    "df_23['device_lat'] = df_23['device_lat'] / 1000000\n",
    "df_23['device_lng'] = df_23['device_lng'] / 1000000\n",
    "df_23"
   ]
  },
  {
   "cell_type": "code",
   "execution_count": null,
   "id": "758e1c4f",
   "metadata": {
    "collapsed": false
   },
   "outputs": [],
   "source": [
    "df_23['device_dtm_pacific'] = pd.to_datetime(df_23['device_dtm_pacific'])\n",
    "df_23['business_date'] = pd.to_datetime(df_23['business_date'])\n",
    "df_23['time_of_day'] = df_23['device_dtm_pacific'].dt.time\n"
   ]
  },
  {
   "cell_type": "code",
   "execution_count": null,
   "id": "5b652bb2",
   "metadata": {
    "collapsed": false
   },
   "outputs": [],
   "source": [
    "df_23=df_23[['card_id','business_date','time_of_day','device_lat','device_lng','stop_code','route_number']]"
   ]
  },
  {
   "cell_type": "code",
   "execution_count": null,
   "id": "1c2b27c0",
   "metadata": {
    "collapsed": false
   },
   "outputs": [],
   "source": [
    "df_23"
   ]
  },
  {
   "cell_type": "code",
   "execution_count": null,
   "outputs": [],
   "source": [
    "df_23=df_23.dropna(subset=['stop_code'])"
   ],
   "metadata": {
    "collapsed": false
   }
  },
  {
   "cell_type": "code",
   "execution_count": null,
   "outputs": [],
   "source": [
    "df_23.shape"
   ],
   "metadata": {
    "collapsed": false
   }
  },
  {
   "cell_type": "code",
   "execution_count": null,
   "id": "2494ba82",
   "metadata": {
    "collapsed": false
   },
   "outputs": [],
   "source": [
    "import random\n",
    "def random_color():\n",
    "    return \"#{:02x}{:02x}{:02x}\".format(random.randint(0, 200), random.randint(0, 200), random.randint(0, 200))\n",
    "\n",
    "\n",
    "df_23 = df_23.dropna(subset=['device_lat','device_lng'])\n",
    "num_rows = df_23.shape[0]\n",
    "date = df_23.iloc[0]['business_date'].date()\n",
    "card=1\n",
    "lat=df_23.iloc[0]['device_lat']\n",
    "lng=df_23.iloc[0]['device_lng']\n",
    "m = folium.Map(location=[lat, lng], zoom_start=12)\n",
    "# for i in range(204900,num_rows):\n",
    "for i in range(num_rows):\n",
    "    lat=df_23.iloc[i]['device_lat']\n",
    "    lng=df_23.iloc[i]['device_lng']\n",
    "    if(df_23.iloc[i]['business_date'].date()==date):\n",
    "        if(df_23.iloc[i]['card_id']==card) and (i>0):\n",
    "            folium.Marker([lat, lng], tooltip=f\"Stop ID: {df_23.iloc[i]['stop_code']}\").add_to(m)\n",
    "            folium.Marker([df_23.iloc[i-1]['device_lat'], df_23.iloc[i-1]['device_lng']], tooltip=f\"Stop ID: {df_23.iloc[i-1]['stop_code']}\").add_to(m)\n",
    "            line = folium.PolyLine(\n",
    "                locations=[[lat, lng], [df_23.iloc[i-1]['device_lat'], df_23.iloc[i-1]['device_lng']]],\n",
    "                color=co,\n",
    "                weight=2,\n",
    "                tooltip=f'Card ID: {card}'\n",
    "            )\n",
    "            line.add_to(m)\n",
    "            m.save(f'map{date}.html')\n",
    "            print(m)\n",
    "        else:\n",
    "            card=df_23.iloc[i]['card_id']\n",
    "            co=random_color()\n",
    "    else:\n",
    "        date = date + timedelta(days=1)\n",
    "        m = folium.Map(location=[lat, lng], zoom_start=12)\n",
    "\n"
   ]
  },
  {
   "cell_type": "code",
   "execution_count": null,
   "outputs": [],
   "source": [
    "trip_count = df_23.groupby('card_id')['business_date'].value_counts().reset_index(name='trip_count')"
   ],
   "metadata": {
    "collapsed": false
   }
  },
  {
   "cell_type": "code",
   "execution_count": null,
   "outputs": [],
   "source": [
    "trip_count"
   ],
   "metadata": {
    "collapsed": false
   }
  },
  {
   "cell_type": "code",
   "execution_count": null,
   "outputs": [],
   "source": [
    "count_of_ones = (trip_count['trip_count'] == 1).sum()\n",
    "print(count_of_ones)\n",
    "count_of_non_ones = (trip_count['trip_count'] != 1).sum()\n",
    "count_of_ones/(count_of_ones+count_of_non_ones)*100"
   ],
   "metadata": {
    "collapsed": false
   }
  },
  {
   "cell_type": "code",
   "execution_count": null,
   "outputs": [],
   "source": [
    "df_23.shape"
   ],
   "metadata": {
    "collapsed": false
   }
  },
  {
   "cell_type": "code",
   "execution_count": null,
   "outputs": [],
   "source": [
    "df_23=df_23.sort_values(by=['card_id','business_date','time_of_day'], ascending=[True,True,True])"
   ],
   "metadata": {
    "collapsed": false
   }
  },
  {
   "cell_type": "code",
   "execution_count": null,
   "outputs": [],
   "source": [
    "nan_exists = df_23[['card_id', 'business_date', 'time_of_day']].isna().any()\n",
    "print(nan_exists)"
   ],
   "metadata": {
    "collapsed": false
   }
  },
  {
   "cell_type": "code",
   "execution_count": null,
   "outputs": [],
   "source": [
    "print(df_23.shape)\n",
    "all_numeric = pd.to_numeric(df_23['stop_code'], errors='coerce').notna().all()\n",
    "\n",
    "if all_numeric:\n",
    "    print(\"All values in 'stop_code' are numbers.\")\n",
    "else:\n",
    "    print(\"Not all values in 'stop_code' are numbers.\")\n",
    "\n",
    "df_23 = df_23[pd.to_numeric(df_23['stop_code'], errors='coerce').notna()]\n",
    "print(df_23.shape)"
   ],
   "metadata": {
    "collapsed": false
   }
  },
  {
   "cell_type": "code",
   "execution_count": 36,
   "outputs": [],
   "source": [
    "import warnings\n",
    "warnings.filterwarnings(\"ignore\")\n",
    "import json\n",
    "import numpy as np"
   ],
   "metadata": {
    "collapsed": false
   }
  },
  {
   "cell_type": "code",
   "execution_count": null,
   "outputs": [],
   "source": [
    "df_23"
   ],
   "metadata": {
    "collapsed": false
   }
  },
  {
   "cell_type": "code",
   "execution_count": null,
   "outputs": [],
   "source": [
    "df_23_timeshift=df_23\n",
    "am4=pd.to_datetime('04:00:00', format='%H:%M:%S').time()\n",
    "\n",
    "def shift_time(row):\n",
    "    if row['time_of_day'] < am4:\n",
    "        row['business_date_2'] = row['business_date']-pd.DateOffset(days=1)\n",
    "    else:\n",
    "        row['business_date_2'] = row['business_date']\n",
    "    return row\n",
    "\n",
    "# Apply the time shift\n",
    "df_23_timeshift = df_23_timeshift.apply(lambda row: shift_time(row), axis=1)\n",
    "\n",
    "print(df_23_timeshift)"
   ],
   "metadata": {
    "collapsed": false
   }
  },
  {
   "cell_type": "code",
   "execution_count": null,
   "outputs": [],
   "source": [
    "df_23_timeshift[df_23_timeshift['card_id']==62]"
   ],
   "metadata": {
    "collapsed": false
   }
  },
  {
   "cell_type": "code",
   "execution_count": null,
   "outputs": [],
   "source": [
    "df_23[df_23['card_id']==62]"
   ],
   "metadata": {
    "collapsed": false
   }
  },
  {
   "cell_type": "code",
   "execution_count": null,
   "outputs": [],
   "source": [
    "taz={}\n",
    "am4=pd.to_datetime('04:00:00', format='%H:%M:%S').time()\n",
    "am0=pd.to_datetime('00:00:00', format='%H:%M:%S').time()\n",
    "\n",
    "def custom_investigation(group):\n",
    "\n",
    "    n=len(group['time_of_day'])\n",
    "    origin=group['stop_code'].iloc[0]\n",
    "    o = origin\n",
    "    A=datetime.datetime.combine(group['business_date'].iloc[0].date(),group['time_of_day'].iloc[0])\n",
    "    for i in range(n-1):\n",
    "        taz.setdefault(o, [])\n",
    "        time_diff = datetime.datetime.combine(group['business_date'].iloc[i+1].date(), group['time_of_day'].iloc[i+1]) - A\n",
    "        if time_diff.total_seconds() > 3600 or i+1==n-1:\n",
    "            destination=group['stop_code'].iloc[i+1]\n",
    "            taz.setdefault(destination, [])\n",
    "            taz[o].append(destination)\n",
    "            o=destination\n",
    "            A=datetime.datetime.combine(group['business_date'].iloc[i].date(),group['time_of_day'].iloc[i])\n",
    "            if (i+1==n-1): taz[destination].append(origin)\n",
    "\n",
    "    return taz\n",
    "\n",
    "result = df_23_timeshift.groupby(['card_id', 'business_date_2']).apply(custom_investigation)\n",
    "\n",
    "\n",
    "with open('output.json', \"w\") as json_file:\n",
    "     json.dump(taz, json_file, indent=4)"
   ],
   "metadata": {
    "collapsed": false
   }
  },
  {
   "cell_type": "code",
   "execution_count": null,
   "outputs": [],
   "source": [
    "df_23_timeshift"
   ],
   "metadata": {
    "collapsed": false
   }
  },
  {
   "cell_type": "code",
   "execution_count": null,
   "outputs": [],
   "source": [
    "with open('output.json', 'r') as json_file:\n",
    "    taz = json.load(json_file)"
   ],
   "metadata": {
    "collapsed": false
   }
  },
  {
   "cell_type": "code",
   "execution_count": null,
   "outputs": [],
   "source": [
    "'35318' in taz['990005']"
   ],
   "metadata": {
    "collapsed": false
   }
  },
  {
   "cell_type": "code",
   "execution_count": null,
   "outputs": [],
   "source": [
    "len(taz)"
   ],
   "metadata": {
    "collapsed": false
   }
  },
  {
   "cell_type": "code",
   "execution_count": null,
   "outputs": [],
   "source": [
    "print(df_23['stop_code'].nunique())"
   ],
   "metadata": {
    "collapsed": false
   }
  },
  {
   "cell_type": "code",
   "execution_count": null,
   "outputs": [],
   "source": [
    "a=0\n",
    "for key, values in taz.items():\n",
    "    for value in values:\n",
    "        a+=1\n",
    "print(a)"
   ],
   "metadata": {
    "collapsed": false
   }
  },
  {
   "cell_type": "code",
   "execution_count": null,
   "outputs": [],
   "source": [
    "from collections import Counter\n"
   ],
   "metadata": {
    "collapsed": false
   }
  },
  {
   "cell_type": "code",
   "execution_count": null,
   "outputs": [],
   "source": [
    "for key in taz.keys():\n",
    "    count_dict=dict(Counter(taz[key]))\n",
    "    tuplee = tuple((key2, count) for key2, count in count_dict.items())\n",
    "    taz[key]=tuplee"
   ],
   "metadata": {
    "collapsed": false
   }
  },
  {
   "cell_type": "code",
   "execution_count": null,
   "outputs": [],
   "source": [
    "taz['3034'][0:10]"
   ],
   "metadata": {
    "collapsed": false
   }
  },
  {
   "cell_type": "code",
   "execution_count": null,
   "outputs": [],
   "source": [
    "with open('output_with_counts.json', \"w\") as json_file:\n",
    "     json.dump(taz, json_file, indent=4)"
   ],
   "metadata": {
    "collapsed": false
   }
  },
  {
   "cell_type": "code",
   "execution_count": null,
   "outputs": [],
   "source": [
    "tazdf = pd.read_csv('filtered_data_with_taz.csv')"
   ],
   "metadata": {
    "collapsed": false
   }
  },
  {
   "cell_type": "code",
   "execution_count": null,
   "outputs": [],
   "source": [
    "tazdf=tazdf[['card_id','business_date','device_dtm_pacific','device_lat','device_lng','stop_code','TAZ','COUNTY_NM']]\n",
    "tazdf"
   ],
   "metadata": {
    "collapsed": false
   }
  },
  {
   "cell_type": "code",
   "execution_count": null,
   "outputs": [],
   "source": [
    "print(tazdf['stop_code'].nunique())\n",
    "n_stop=tazdf['stop_code'].nunique()"
   ],
   "metadata": {
    "collapsed": false
   }
  },
  {
   "cell_type": "code",
   "execution_count": null,
   "outputs": [],
   "source": [
    "print(tazdf['TAZ'].nunique())\n",
    "n_TAZ=tazdf['TAZ'].nunique()"
   ],
   "metadata": {
    "collapsed": false
   }
  },
  {
   "cell_type": "code",
   "execution_count": null,
   "outputs": [],
   "source": [
    "2557**2"
   ],
   "metadata": {
    "collapsed": false
   }
  },
  {
   "cell_type": "code",
   "execution_count": null,
   "outputs": [],
   "source": [
    "print(tazdf['TAZ'].isna().sum())\n"
   ],
   "metadata": {
    "collapsed": false
   }
  },
  {
   "cell_type": "code",
   "execution_count": null,
   "outputs": [],
   "source": [
    "print(tazdf['stop_code'].isna().sum())\n"
   ],
   "metadata": {
    "collapsed": false
   }
  },
  {
   "cell_type": "code",
   "execution_count": null,
   "outputs": [],
   "source": [
    "tazdf['device_dtm_pacific'] = pd.to_datetime(tazdf['device_dtm_pacific'])\n",
    "tazdf['business_date'] = pd.to_datetime(tazdf['business_date'])\n",
    "tazdf['time_of_day'] = tazdf['device_dtm_pacific'].dt.time"
   ],
   "metadata": {
    "collapsed": false
   }
  },
  {
   "cell_type": "code",
   "execution_count": null,
   "outputs": [],
   "source": [
    "tazdf.drop(['device_dtm_pacific'],axis=1)"
   ],
   "metadata": {
    "collapsed": false
   }
  },
  {
   "cell_type": "code",
   "execution_count": null,
   "outputs": [],
   "source": [
    "tazdf=tazdf.dropna(subset=['stop_code'])\n",
    "tazdf.shape"
   ],
   "metadata": {
    "collapsed": false
   }
  },
  {
   "cell_type": "code",
   "execution_count": null,
   "outputs": [],
   "source": [
    "print(tazdf.shape)\n",
    "all_numeric = pd.to_numeric(tazdf['stop_code'], errors='coerce').notna().all()\n",
    "\n",
    "if all_numeric:\n",
    "    print(\"All values in 'stop_code' are numbers.\")\n",
    "else:\n",
    "    print(\"Not all values in 'stop_code' are numbers.\")\n",
    "\n",
    "tazdf = tazdf[pd.to_numeric(tazdf['stop_code'], errors='coerce').notna()]\n",
    "print(tazdf.shape)"
   ],
   "metadata": {
    "collapsed": false
   }
  },
  {
   "cell_type": "code",
   "execution_count": null,
   "outputs": [],
   "source": [
    "tazdf['stop_code'].nunique()"
   ],
   "metadata": {
    "collapsed": false
   }
  },
  {
   "cell_type": "markdown",
   "source": [
    "Merging stop codes with TAZs"
   ],
   "metadata": {
    "collapsed": false
   }
  },
  {
   "cell_type": "code",
   "execution_count": null,
   "outputs": [],
   "source": [
    "df = pd.DataFrame({key: pd.Series(value) for key, value in taz.items()})\n",
    "df = df.fillna(value=pd.NA)\n",
    "df.to_csv('stop_codes.csv')"
   ],
   "metadata": {
    "collapsed": false
   }
  },
  {
   "cell_type": "code",
   "execution_count": null,
   "outputs": [],
   "source": [
    "df['3034'].count()"
   ],
   "metadata": {
    "collapsed": false
   }
  },
  {
   "cell_type": "code",
   "execution_count": null,
   "outputs": [],
   "source": [
    "len(taz['3034'])"
   ],
   "metadata": {
    "collapsed": false
   }
  },
  {
   "cell_type": "code",
   "execution_count": null,
   "outputs": [],
   "source": [
    "type(df['3034'][1])"
   ],
   "metadata": {
    "collapsed": false
   }
  },
  {
   "cell_type": "code",
   "execution_count": null,
   "outputs": [],
   "source": [
    "type(tazdf['stop_code'][0])"
   ],
   "metadata": {
    "collapsed": false
   }
  },
  {
   "cell_type": "code",
   "execution_count": null,
   "outputs": [],
   "source": [
    "stop_code_to_taz_mapping = tazdf.set_index('stop_code')['TAZ'].to_dict()\n",
    "for column in df.columns:\n",
    "    if column in stop_code_to_taz_mapping:\n",
    "        df[column] = df[column].map(stop_code_to_taz_mapping)\n",
    "        # df=df.rename(columns={column:stop_code_to_taz_mapping[column]})"
   ],
   "metadata": {
    "collapsed": false
   }
  },
  {
   "cell_type": "code",
   "execution_count": null,
   "outputs": [],
   "source": [
    "df"
   ],
   "metadata": {
    "collapsed": false
   }
  },
  {
   "cell_type": "code",
   "execution_count": null,
   "outputs": [],
   "source": [
    "taz2={}\n",
    "stop_code_to_taz_mapping = tazdf.set_index('stop_code')['TAZ'].to_dict()\n",
    "for key, values in taz.items():\n",
    "    if key in stop_code_to_taz_mapping:\n",
    "        for value in values:\n",
    "            taz2.setdefault(stop_code_to_taz_mapping[key],[])\n",
    "            taz2[stop_code_to_taz_mapping[key]].append(stop_code_to_taz_mapping[value])"
   ],
   "metadata": {
    "collapsed": false
   }
  },
  {
   "cell_type": "code",
   "execution_count": null,
   "outputs": [],
   "source": [
    "stop_code_to_taz_mapping['3034']"
   ],
   "metadata": {
    "collapsed": false
   }
  },
  {
   "cell_type": "code",
   "execution_count": null,
   "outputs": [],
   "source": [
    "taz2[574]"
   ],
   "metadata": {
    "collapsed": false
   }
  },
  {
   "cell_type": "code",
   "execution_count": null,
   "outputs": [],
   "source": [
    "stop_code_to_taz_mapping['2680']"
   ],
   "metadata": {
    "collapsed": false
   }
  },
  {
   "cell_type": "code",
   "execution_count": null,
   "outputs": [],
   "source": [
    "with open('final_TAZs.json', \"w\") as json_file:\n",
    "     json.dump(taz2, json_file, indent=4)"
   ],
   "metadata": {
    "collapsed": false
   }
  },
  {
   "cell_type": "code",
   "execution_count": null,
   "outputs": [],
   "source": [
    "for key in taz2.keys():\n",
    "    count_dict=dict(Counter(taz2[key]))\n",
    "    tuplee = tuple((key2, count) for key2, count in count_dict.items())\n",
    "    taz2[key]=tuplee"
   ],
   "metadata": {
    "collapsed": false
   }
  },
  {
   "cell_type": "code",
   "execution_count": null,
   "outputs": [],
   "source": [
    "with open('final_TAZs_count.json', \"w\") as json_file:\n",
    "     json.dump(taz2, json_file, indent=4)"
   ],
   "metadata": {
    "collapsed": false
   }
  },
  {
   "cell_type": "code",
   "execution_count": null,
   "outputs": [],
   "source": [
    "taz2[574]"
   ],
   "metadata": {
    "collapsed": false
   }
  },
  {
   "cell_type": "code",
   "execution_count": null,
   "outputs": [],
   "source": [
    "taz2[574][0][1]"
   ],
   "metadata": {
    "collapsed": false
   }
  },
  {
   "cell_type": "code",
   "execution_count": 37,
   "outputs": [],
   "source": [
    "with open('output_with_counts.json', 'r') as json_file:\n",
    "    stops_count = json.load(json_file)"
   ],
   "metadata": {
    "collapsed": false
   }
  },
  {
   "cell_type": "code",
   "execution_count": 38,
   "outputs": [
    {
     "data": {
      "text/plain": "list"
     },
     "execution_count": 38,
     "metadata": {},
     "output_type": "execute_result"
    }
   ],
   "source": [
    "type(stops_count['3034'])"
   ],
   "metadata": {
    "collapsed": false
   }
  },
  {
   "cell_type": "code",
   "execution_count": 39,
   "outputs": [
    {
     "data": {
      "text/plain": "8921"
     },
     "execution_count": 39,
     "metadata": {},
     "output_type": "execute_result"
    }
   ],
   "source": [
    "len(stops_count)"
   ],
   "metadata": {
    "collapsed": false
   }
  },
  {
   "cell_type": "code",
   "execution_count": 40,
   "outputs": [],
   "source": [
    "with open('final_TAZs_count.json', 'r') as json_file:\n",
    "    TAZ_counts = json.load(json_file)"
   ],
   "metadata": {
    "collapsed": false
   }
  },
  {
   "cell_type": "code",
   "execution_count": 41,
   "outputs": [
    {
     "data": {
      "text/plain": "2343"
     },
     "execution_count": 41,
     "metadata": {},
     "output_type": "execute_result"
    }
   ],
   "source": [
    "len(TAZ_counts)"
   ],
   "metadata": {
    "collapsed": false
   }
  },
  {
   "cell_type": "code",
   "execution_count": 42,
   "outputs": [
    {
     "data": {
      "text/plain": "list"
     },
     "execution_count": 42,
     "metadata": {},
     "output_type": "execute_result"
    }
   ],
   "source": [
    "type(TAZ_counts['966.0'])"
   ],
   "metadata": {
    "collapsed": false
   }
  },
  {
   "cell_type": "code",
   "execution_count": 43,
   "outputs": [
    {
     "data": {
      "text/plain": "2343"
     },
     "execution_count": 43,
     "metadata": {},
     "output_type": "execute_result"
    }
   ],
   "source": [
    "len(TAZ_counts)"
   ],
   "metadata": {
    "collapsed": false
   }
  },
  {
   "cell_type": "code",
   "execution_count": 44,
   "outputs": [
    {
     "data": {
      "text/plain": "[[1354.0, 115],\n [1350.0, 51],\n [969.0, 3],\n [963.0, 3],\n [628.0, 1],\n [1395.0, 1],\n [1349.0, 5],\n [952.0, 2],\n [967.0, 4],\n [961.0, 1],\n [1396.0, 1],\n [1022.0, 1],\n [973.0, 4],\n [182.0, 1],\n [1398.0, 1],\n [962.0, 7],\n [1351.0, 7],\n [1399.0, 1],\n [1256.0, 1],\n [1345.0, 21],\n [2564.0, 1],\n [657.0, 2],\n [612.0, 2],\n [611.0, 2],\n [1403.0, 1],\n [960.0, 4],\n [971.0, 1],\n [982.0, 2],\n [845.0, 1],\n [512.0, 1],\n [1346.0, 1],\n [1002.0, 1],\n [774.0, 2],\n [1353.0, 6],\n [812.0, 1],\n [537.0, 1],\n [1402.0, 1],\n [983.0, 1],\n [670.0, 2],\n [659.0, 1],\n [665.0, 2],\n [914.0, 1],\n [503.0, 6],\n [3009.0, 1],\n [2596.0, 1],\n [630.0, 1],\n [2634.0, 2],\n [502.0, 2],\n [1411.0, 1],\n [1551.0, 8],\n [254.0, 2],\n [529.0, 1]]"
     },
     "execution_count": 44,
     "metadata": {},
     "output_type": "execute_result"
    }
   ],
   "source": [
    "TAZ_counts['966.0']"
   ],
   "metadata": {
    "collapsed": false
   }
  },
  {
   "cell_type": "code",
   "execution_count": 45,
   "outputs": [
    {
     "data": {
      "text/plain": "574.0"
     },
     "execution_count": 45,
     "metadata": {},
     "output_type": "execute_result"
    }
   ],
   "source": [
    "float(list(TAZ_counts.keys())[0])"
   ],
   "metadata": {
    "collapsed": false
   }
  },
  {
   "cell_type": "code",
   "execution_count": 46,
   "outputs": [],
   "source": [
    "TAZ_flows=[]\n",
    "TAZ_pairs=[]\n",
    "\n",
    "for key in list(TAZ_counts.keys()):\n",
    "    for i in range(len(TAZ_counts[key])):\n",
    "        TAZ_flows.append(TAZ_counts[key][i][1])\n",
    "        TAZ_pairs.append((float(key),TAZ_counts[key][i][0]))\n"
   ],
   "metadata": {
    "collapsed": false
   }
  },
  {
   "cell_type": "code",
   "execution_count": 47,
   "outputs": [
    {
     "data": {
      "text/plain": "241918"
     },
     "execution_count": 47,
     "metadata": {},
     "output_type": "execute_result"
    }
   ],
   "source": [
    "len(TAZ_flows)"
   ],
   "metadata": {
    "collapsed": false
   }
  },
  {
   "cell_type": "code",
   "execution_count": 48,
   "outputs": [
    {
     "data": {
      "text/plain": "241918"
     },
     "execution_count": 48,
     "metadata": {},
     "output_type": "execute_result"
    }
   ],
   "source": [
    "len(TAZ_pairs)"
   ],
   "metadata": {
    "collapsed": false
   }
  },
  {
   "cell_type": "code",
   "execution_count": 49,
   "outputs": [
    {
     "data": {
      "text/plain": "195456"
     },
     "execution_count": 49,
     "metadata": {},
     "output_type": "execute_result"
    }
   ],
   "source": [
    "TAZ_pairs.index((966.0,1354.0))"
   ],
   "metadata": {
    "collapsed": false
   }
  },
  {
   "cell_type": "code",
   "execution_count": 50,
   "outputs": [
    {
     "data": {
      "text/plain": "115"
     },
     "execution_count": 50,
     "metadata": {},
     "output_type": "execute_result"
    }
   ],
   "source": [
    "TAZ_flows[TAZ_pairs.index((966.0,1354.0))]"
   ],
   "metadata": {
    "collapsed": false
   }
  },
  {
   "cell_type": "code",
   "execution_count": 58,
   "outputs": [
    {
     "data": {
      "text/plain": "55"
     },
     "execution_count": 58,
     "metadata": {},
     "output_type": "execute_result"
    }
   ],
   "source": [
    "TAZ_flows[TAZ_pairs.index((1354.0,966.0))]"
   ],
   "metadata": {
    "collapsed": false
   }
  },
  {
   "cell_type": "code",
   "execution_count": 57,
   "outputs": [
    {
     "data": {
      "text/plain": "                OD Pairs  Flows\n0         (574.0, 398.0)     24\n1         (574.0, 512.0)    196\n2         (574.0, 650.0)      5\n3         (574.0, 731.0)      2\n4         (574.0, 521.0)    200\n...                  ...    ...\n241913   (2778.0, 395.0)      2\n241914  (2115.0, 3108.0)      1\n241915   (1335.0, 514.0)      2\n241916  (3346.0, 3053.0)      3\n241917  (3346.0, 2222.0)      1\n\n[241918 rows x 2 columns]",
      "text/html": "<div>\n<style scoped>\n    .dataframe tbody tr th:only-of-type {\n        vertical-align: middle;\n    }\n\n    .dataframe tbody tr th {\n        vertical-align: top;\n    }\n\n    .dataframe thead th {\n        text-align: right;\n    }\n</style>\n<table border=\"1\" class=\"dataframe\">\n  <thead>\n    <tr style=\"text-align: right;\">\n      <th></th>\n      <th>OD Pairs</th>\n      <th>Flows</th>\n    </tr>\n  </thead>\n  <tbody>\n    <tr>\n      <th>0</th>\n      <td>(574.0, 398.0)</td>\n      <td>24</td>\n    </tr>\n    <tr>\n      <th>1</th>\n      <td>(574.0, 512.0)</td>\n      <td>196</td>\n    </tr>\n    <tr>\n      <th>2</th>\n      <td>(574.0, 650.0)</td>\n      <td>5</td>\n    </tr>\n    <tr>\n      <th>3</th>\n      <td>(574.0, 731.0)</td>\n      <td>2</td>\n    </tr>\n    <tr>\n      <th>4</th>\n      <td>(574.0, 521.0)</td>\n      <td>200</td>\n    </tr>\n    <tr>\n      <th>...</th>\n      <td>...</td>\n      <td>...</td>\n    </tr>\n    <tr>\n      <th>241913</th>\n      <td>(2778.0, 395.0)</td>\n      <td>2</td>\n    </tr>\n    <tr>\n      <th>241914</th>\n      <td>(2115.0, 3108.0)</td>\n      <td>1</td>\n    </tr>\n    <tr>\n      <th>241915</th>\n      <td>(1335.0, 514.0)</td>\n      <td>2</td>\n    </tr>\n    <tr>\n      <th>241916</th>\n      <td>(3346.0, 3053.0)</td>\n      <td>3</td>\n    </tr>\n    <tr>\n      <th>241917</th>\n      <td>(3346.0, 2222.0)</td>\n      <td>1</td>\n    </tr>\n  </tbody>\n</table>\n<p>241918 rows × 2 columns</p>\n</div>"
     },
     "execution_count": 57,
     "metadata": {},
     "output_type": "execute_result"
    }
   ],
   "source": [
    "TAZ_data=pd.DataFrame({'OD Pairs':TAZ_pairs,'Flows':TAZ_flows})\n",
    "TAZ_data"
   ],
   "metadata": {
    "collapsed": false
   }
  },
  {
   "cell_type": "code",
   "execution_count": 56,
   "outputs": [
    {
     "data": {
      "text/plain": "574.0"
     },
     "execution_count": 56,
     "metadata": {},
     "output_type": "execute_result"
    }
   ],
   "source": [
    "list(TAZ_data['OD Pairs'])[0][0]"
   ],
   "metadata": {
    "collapsed": false
   }
  },
  {
   "cell_type": "code",
   "execution_count": 60,
   "outputs": [],
   "source": [
    "TAZ_data.to_csv('TAZ.csv', index=False)"
   ],
   "metadata": {
    "collapsed": false
   }
  },
  {
   "cell_type": "code",
   "execution_count": 61,
   "outputs": [
    {
     "data": {
      "text/plain": "3739588"
     },
     "execution_count": 61,
     "metadata": {},
     "output_type": "execute_result"
    }
   ],
   "source": [
    "sum(TAZ_flows)"
   ],
   "metadata": {
    "collapsed": false
   }
  },
  {
   "cell_type": "code",
   "execution_count": 65,
   "outputs": [
    {
     "data": {
      "text/plain": "9768"
     },
     "execution_count": 65,
     "metadata": {},
     "output_type": "execute_result"
    }
   ],
   "source": [
    "TAZ_flows.index(max(TAZ_flows))"
   ],
   "metadata": {
    "collapsed": false
   }
  },
  {
   "cell_type": "code",
   "execution_count": null,
   "outputs": [],
   "source": [
    "total_flow=sum(TAZ_flows)\n",
    "total_flow"
   ],
   "metadata": {
    "collapsed": false
   }
  },
  {
   "cell_type": "code",
   "execution_count": null,
   "outputs": [],
   "source": [
    "zero_TAZs=n_TAZ*n_TAZ-len(TAZ_flows)\n",
    "zero_TAZs"
   ],
   "metadata": {
    "collapsed": false
   }
  },
  {
   "cell_type": "code",
   "execution_count": null,
   "outputs": [],
   "source": [
    "zero_TAZs/(n_TAZ**2)*100"
   ],
   "metadata": {
    "collapsed": false
   }
  },
  {
   "cell_type": "code",
   "execution_count": null,
   "outputs": [],
   "source": [
    "import matplotlib.pyplot as plt"
   ],
   "metadata": {
    "collapsed": false
   }
  },
  {
   "cell_type": "code",
   "execution_count": null,
   "outputs": [],
   "source": [
    "plt.hist(TAZ_flows,bins=50, color='blue', edgecolor='black')\n",
    "plt.xlabel('Value')\n",
    "plt.ylabel('Frequency')\n",
    "plt.title('Histogram of TAZ Flows')\n",
    "# plt.xlim(6000, 8000)\n",
    "#plt.ylim(0, 1000)"
   ],
   "metadata": {
    "collapsed": false
   }
  },
  {
   "cell_type": "code",
   "execution_count": null,
   "outputs": [],
   "source": [
    "plt.hist(TAZ_flows,bins=5000, color='blue', edgecolor='black')\n",
    "plt.xlabel('Value')\n",
    "plt.ylabel('Frequency')\n",
    "plt.title('Histogram of TAZ flows (trimed at 100)')\n",
    "plt.axvline(x=200, color='red', linestyle='-', label='y=100')\n",
    "#plt.axhline(y=20, color='red', linestyle='--', label='y=20')\n",
    "#plt.axhline(y=10, color='yellow', linestyle='--', label='y=10')\n",
    "plt.xlim(0, 6000)\n",
    "plt.ylim(0, 100)"
   ],
   "metadata": {
    "collapsed": false
   }
  },
  {
   "cell_type": "code",
   "execution_count": null,
   "outputs": [],
   "source": [
    "plt.hist(TAZ_flows,bins=10000, color='blue', edgecolor='black')\n",
    "plt.xlabel('Value')\n",
    "plt.ylabel('Frequency')\n",
    "plt.title('Histogram of TAZ flows (trimed at 100)')\n",
    "#plt.axhline(y=20, color='red', linestyle='--', label='y=20')\n",
    "#plt.axhline(y=10, color='yellow', linestyle='--', label='y=10')\n",
    "plt.xlim(0, 200)\n",
    "#plt.ylim(0, 200)"
   ],
   "metadata": {
    "collapsed": false
   }
  },
  {
   "cell_type": "code",
   "execution_count": null,
   "outputs": [],
   "source": [
    "plt.hist(TAZ_flows,bins=10000, color='blue', edgecolor='black')\n",
    "plt.xlabel('Value')\n",
    "plt.ylabel('Frequency')\n",
    "plt.title('Histogram of TAZ flows (trimed at 100)')\n",
    "plt.axvline(x=10, color='red', linestyle='-', label='y=100')\n",
    "#plt.axhline(y=20, color='red', linestyle='--', label='y=20')\n",
    "#plt.axhline(y=10, color='yellow', linestyle='--', label='y=10')\n",
    "plt.xlim(0, 50)\n",
    "# plt.ylim(0, 20000)"
   ],
   "metadata": {
    "collapsed": false
   }
  },
  {
   "cell_type": "markdown",
   "source": [
    "Threshold 10:"
   ],
   "metadata": {
    "collapsed": false
   }
  },
  {
   "cell_type": "code",
   "execution_count": null,
   "outputs": [],
   "source": [
    "threshold_TAZ = [value for value in TAZ_flows if value <= 10]"
   ],
   "metadata": {
    "collapsed": false
   }
  },
  {
   "cell_type": "code",
   "execution_count": null,
   "outputs": [],
   "source": [
    "len(threshold_TAZ)"
   ],
   "metadata": {
    "collapsed": false
   }
  },
  {
   "cell_type": "code",
   "execution_count": null,
   "outputs": [],
   "source": [
    "len(TAZ_flows)"
   ],
   "metadata": {
    "collapsed": false
   }
  },
  {
   "cell_type": "markdown",
   "source": [
    "Percentage of TAZs having flows less than 10:"
   ],
   "metadata": {
    "collapsed": false
   }
  },
  {
   "cell_type": "code",
   "execution_count": null,
   "outputs": [],
   "source": [
    "(len(threshold_TAZ)+zero_TAZs)/(len(TAZ_flows)+zero_TAZs)*100\n"
   ],
   "metadata": {
    "collapsed": false
   }
  },
  {
   "cell_type": "code",
   "execution_count": null,
   "outputs": [],
   "source": [
    "len(TAZ_flows)+zero_TAZs"
   ],
   "metadata": {
    "collapsed": false
   }
  },
  {
   "cell_type": "code",
   "execution_count": null,
   "outputs": [],
   "source": [
    "n_TAZ**2"
   ],
   "metadata": {
    "collapsed": false
   }
  },
  {
   "cell_type": "markdown",
   "source": [
    "Percentage of TAZ flows being less than 10 compared to total flow:"
   ],
   "metadata": {
    "collapsed": false
   }
  },
  {
   "cell_type": "code",
   "execution_count": null,
   "outputs": [],
   "source": [
    "sum(threshold_TAZ)/total_flow*100"
   ],
   "metadata": {
    "collapsed": false
   }
  },
  {
   "cell_type": "markdown",
   "source": [
    "STOP level:"
   ],
   "metadata": {
    "collapsed": false
   }
  },
  {
   "cell_type": "code",
   "execution_count": null,
   "outputs": [],
   "source": [
    "stop_flows=[]\n",
    "\n",
    "for key in stops_count.keys():\n",
    "    for i in range(len(stops_count[key])):\n",
    "        stop_flows.append(stops_count[key][i][1])\n"
   ],
   "metadata": {
    "collapsed": false
   }
  },
  {
   "cell_type": "code",
   "execution_count": null,
   "outputs": [],
   "source": [
    "len(stop_flows)"
   ],
   "metadata": {
    "collapsed": false
   }
  },
  {
   "cell_type": "code",
   "execution_count": null,
   "outputs": [],
   "source": [
    "total_flow_stops=sum(stop_flows)\n",
    "total_flow_stops"
   ],
   "metadata": {
    "collapsed": false
   }
  },
  {
   "cell_type": "code",
   "execution_count": null,
   "outputs": [],
   "source": [
    "plt.hist(stop_flows,bins=50, color='green', edgecolor='black')\n",
    "plt.xlabel('Value')\n",
    "plt.ylabel('Frequency')\n",
    "plt.title('Histogram of STOP Flows')\n",
    "# plt.xlim(6000, 8000)\n",
    "#plt.ylim(0, 1000)"
   ],
   "metadata": {
    "collapsed": false
   }
  },
  {
   "cell_type": "code",
   "execution_count": null,
   "outputs": [],
   "source": [
    "plt.hist(stop_flows,bins=500, color='green', edgecolor='black')\n",
    "plt.xlabel('Value')\n",
    "plt.ylabel('Frequency')\n",
    "plt.title('Histogram of STOP Flows (trimed at 1000)')\n",
    "# plt.axhline(y=100, color='red', linestyle='--', label='y=100')\n",
    "plt.axvline(x=20, color='red', linestyle='-', label='y=100')\n",
    "plt.xlim(0, 1000)\n",
    "plt.ylim(0, 100000)"
   ],
   "metadata": {
    "collapsed": false
   }
  },
  {
   "cell_type": "code",
   "execution_count": null,
   "outputs": [],
   "source": [
    "plt.hist(stop_flows,bins=10000, color='green', edgecolor='black')\n",
    "plt.xlabel('Value')\n",
    "plt.ylabel('Frequency')\n",
    "plt.title('Histogram of STOP Flows (trimed at 1000)')\n",
    "# plt.axhline(y=100, color='red', linestyle='--', label='y=100')\n",
    "plt.axvline(x=5, color='red', linestyle='-', label='y=100')\n",
    "plt.xlim(0, 50)\n",
    "# plt.ylim(0, 500000)"
   ],
   "metadata": {
    "collapsed": false
   }
  },
  {
   "cell_type": "markdown",
   "source": [
    "Threshold 5:"
   ],
   "metadata": {
    "collapsed": false
   }
  },
  {
   "cell_type": "code",
   "execution_count": null,
   "outputs": [],
   "source": [
    "threshold_stop = [value for value in stop_flows if value <= 5]"
   ],
   "metadata": {
    "collapsed": false
   }
  },
  {
   "cell_type": "markdown",
   "source": [
    "Percentage of STOPs having flows less than 5:"
   ],
   "metadata": {
    "collapsed": false
   }
  },
  {
   "cell_type": "code",
   "execution_count": null,
   "outputs": [],
   "source": [
    "len(threshold_stop)/len(stop_flows)*100"
   ],
   "metadata": {
    "collapsed": false
   }
  },
  {
   "cell_type": "markdown",
   "source": [
    "Percentage of STOP flows being less than 5 compared to total flow:"
   ],
   "metadata": {
    "collapsed": false
   }
  },
  {
   "cell_type": "code",
   "execution_count": null,
   "outputs": [],
   "source": [
    "sum(threshold_stop)/total_flow_stops*100"
   ],
   "metadata": {
    "collapsed": false
   }
  }
 ],
 "metadata": {
  "kernelspec": {
   "display_name": "Python 3 (ipykernel)",
   "language": "python",
   "name": "python3"
  },
  "language_info": {
   "codemirror_mode": {
    "name": "ipython",
    "version": 3
   },
   "file_extension": ".py",
   "mimetype": "text/x-python",
   "name": "python",
   "nbconvert_exporter": "python",
   "pygments_lexer": "ipython3",
   "version": "3.9.13"
  }
 },
 "nbformat": 4,
 "nbformat_minor": 5
}
