{
 "cells": [
  {
   "cell_type": "code",
   "execution_count": 1,
   "outputs": [
    {
     "name": "stdout",
     "output_type": "stream",
     "text": [
      "Requirement already satisfied: folium in /Users/shakibanaderian/opt/anaconda3/lib/python3.9/site-packages (0.14.0)\r\n",
      "Requirement already satisfied: branca>=0.6.0 in /Users/shakibanaderian/opt/anaconda3/lib/python3.9/site-packages (from folium) (0.6.0)\r\n",
      "Requirement already satisfied: jinja2>=2.9 in /Users/shakibanaderian/opt/anaconda3/lib/python3.9/site-packages (from folium) (2.11.3)\r\n",
      "Requirement already satisfied: numpy in /Users/shakibanaderian/opt/anaconda3/lib/python3.9/site-packages (from folium) (1.21.5)\r\n",
      "Requirement already satisfied: requests in /Users/shakibanaderian/opt/anaconda3/lib/python3.9/site-packages (from folium) (2.28.1)\r\n",
      "Requirement already satisfied: MarkupSafe>=0.23 in /Users/shakibanaderian/opt/anaconda3/lib/python3.9/site-packages (from jinja2>=2.9->folium) (2.0.1)\r\n",
      "Requirement already satisfied: urllib3<1.27,>=1.21.1 in /Users/shakibanaderian/opt/anaconda3/lib/python3.9/site-packages (from requests->folium) (1.26.11)\r\n",
      "Requirement already satisfied: idna<4,>=2.5 in /Users/shakibanaderian/opt/anaconda3/lib/python3.9/site-packages (from requests->folium) (3.3)\r\n",
      "Requirement already satisfied: certifi>=2017.4.17 in /Users/shakibanaderian/opt/anaconda3/lib/python3.9/site-packages (from requests->folium) (2022.9.24)\r\n",
      "Requirement already satisfied: charset-normalizer<3,>=2 in /Users/shakibanaderian/opt/anaconda3/lib/python3.9/site-packages (from requests->folium) (2.0.4)\r\n"
     ]
    }
   ],
   "source": [
    "!pip install folium\n",
    "import folium\n",
    "import pandas as pd\n",
    "import datetime\n",
    "from datetime import timedelta\n"
   ],
   "metadata": {
    "collapsed": false
   }
  },
  {
   "cell_type": "code",
   "execution_count": 2,
   "id": "83c1fb15",
   "metadata": {
    "collapsed": false
   },
   "outputs": [
    {
     "name": "stderr",
     "output_type": "stream",
     "text": [
      "/var/folders/fh/zynvgz3502n7wqtzvnrpjnj40000gn/T/ipykernel_18804/342241639.py:1: DtypeWarning: Columns (17) have mixed types. Specify dtype option on import or set low_memory=False.\n",
      "  df_23 = pd.read_csv('2023-04_orca_boardings.csv')\n"
     ]
    }
   ],
   "source": [
    "df_23 = pd.read_csv('2023-04_orca_boardings.csv')"
   ]
  },
  {
   "cell_type": "code",
   "execution_count": 3,
   "id": "990ad0fd",
   "metadata": {
    "collapsed": false
   },
   "outputs": [],
   "source": [
    "df_23 = df_23.sort_values(by=['business_date','card_id'], ascending=[True,True])"
   ]
  },
  {
   "cell_type": "code",
   "execution_count": 4,
   "id": "dd8b3816",
   "metadata": {
    "collapsed": false
   },
   "outputs": [
    {
     "data": {
      "text/plain": "            txn_id                boarding_guid  txn_type_id  card_id  \\\n256999   195660046   1536003r-70-46-6428623fc2e           66        2   \n272054   195709760   155140d0-70-60-64287e453b8           66        4   \n329901   195906358   1308607q-70-66-6428d2d5fce           66        4   \n330115   195907290   1308607q-70-66-6428d2d5fce           84        4   \n312589   195845680   165400a3-70-89-6428b977c22           66        9   \n...            ...                          ...          ...      ...   \n2420764  213969342   1627607s-70-62-644ec353bea           66  3577027   \n2410688  213910784   13065018-70-43-644e904a1a2           66  3577863   \n2415592  213938742   1286409v-70-38-644eabd0630           66  3577981   \n5216060  214045842  1284301e-70-183-644ef8d330c           66  3577981   \n2441357  214089128  1293809o-70-282-644f1a6e7c0           66  3578298   \n\n         passenger_type_id  passenger_count  product_id business_date  \\\n256999                   1                1      1003.0    2023-04-01   \n272054                   1                1      1003.0    2023-04-01   \n329901                   1                1      1003.0    2023-04-01   \n330115                   1                1      1003.0    2023-04-01   \n312589                   1                1       102.0    2023-04-01   \n...                    ...              ...         ...           ...   \n2420764                  1                1         NaN    2023-04-30   \n2410688                  1                1         NaN    2023-04-30   \n2415592                  1                1         NaN    2023-04-30   \n5216060                  1                1         NaN    2023-04-30   \n2441357                  1                1         NaN    2023-04-30   \n\n         device_id   device_dtm_pacific  ...  participant_group_id  \\\n256999     15360.0  2023-04-01 09:56:31  ...                1240.0   \n272054     15514.0  2023-04-01 11:56:05  ...               29124.0   \n329901     13086.0  2023-04-01 17:56:53  ...               29124.0   \n330115     15704.0  2023-04-01 17:58:24  ...               29124.0   \n312589     16540.0  2023-04-01 16:08:39  ...                   NaN   \n...            ...                  ...  ...                   ...   \n2420764    16276.0  2023-04-30 12:36:51  ...                   NaN   \n2410688    13065.0  2023-04-30 08:59:06  ...                   NaN   \n2415592    12864.0  2023-04-30 10:56:32  ...                   NaN   \n5216060    12843.0  2023-04-30 16:25:07  ...                   NaN   \n2441357    12938.0  2023-04-30 18:48:30  ...                   NaN   \n\n            stop_id stop_code  ticket_internal_nbr  osfa_cents  ceffv_cents  \\\n256999   96403200.0     37040                  307         275          275   \n272054   96408808.0     55583                  307         275          275   \n329901   96440468.0     55778                  218         300          300   \n330115   96408992.0     56031                  307         275          275   \n312589   96400124.0      2672                  307         275          275   \n...             ...       ...                  ...         ...          ...   \n2420764  96409380.0       570                  307         275          275   \n2410688  96440440.0      1108                  218         300          225   \n2415592  96440504.0    990001                  218         325          325   \n5216060  96440452.0       501                  218         300          300   \n2441357  96440572.0     99903                  218         350          225   \n\n         total_journey_fare_cents linked_journey_fare_cents  \\\n256999                        275                       275   \n272054                        275                       275   \n329901                        575                       300   \n330115                        575                       300   \n312589                        275                       275   \n...                           ...                       ...   \n2420764                       275                       275   \n2410688                       225                       225   \n2415592                       325                       325   \n5216060                       300                       300   \n2441357                       225                       225   \n\n         epurse_equivalent_cents       load_start_dtm  \n256999                       275  2023-04-02 08:52:37  \n272054                       275  2023-04-02 08:52:37  \n329901                       157  2023-04-02 08:52:37  \n330115                       143  2023-04-02 08:52:37  \n312589                       275  2023-04-02 08:52:37  \n...                          ...                  ...  \n2420764                      275  2023-05-02 11:03:28  \n2410688                      225  2023-05-02 11:03:28  \n2415592                      325  2023-05-02 11:03:28  \n5216060                      300  2023-05-02 11:03:28  \n2441357                      225  2023-05-02 11:03:28  \n\n[5229140 rows x 32 columns]",
      "text/html": "<div>\n<style scoped>\n    .dataframe tbody tr th:only-of-type {\n        vertical-align: middle;\n    }\n\n    .dataframe tbody tr th {\n        vertical-align: top;\n    }\n\n    .dataframe thead th {\n        text-align: right;\n    }\n</style>\n<table border=\"1\" class=\"dataframe\">\n  <thead>\n    <tr style=\"text-align: right;\">\n      <th></th>\n      <th>txn_id</th>\n      <th>boarding_guid</th>\n      <th>txn_type_id</th>\n      <th>card_id</th>\n      <th>passenger_type_id</th>\n      <th>passenger_count</th>\n      <th>product_id</th>\n      <th>business_date</th>\n      <th>device_id</th>\n      <th>device_dtm_pacific</th>\n      <th>...</th>\n      <th>participant_group_id</th>\n      <th>stop_id</th>\n      <th>stop_code</th>\n      <th>ticket_internal_nbr</th>\n      <th>osfa_cents</th>\n      <th>ceffv_cents</th>\n      <th>total_journey_fare_cents</th>\n      <th>linked_journey_fare_cents</th>\n      <th>epurse_equivalent_cents</th>\n      <th>load_start_dtm</th>\n    </tr>\n  </thead>\n  <tbody>\n    <tr>\n      <th>256999</th>\n      <td>195660046</td>\n      <td>1536003r-70-46-6428623fc2e</td>\n      <td>66</td>\n      <td>2</td>\n      <td>1</td>\n      <td>1</td>\n      <td>1003.0</td>\n      <td>2023-04-01</td>\n      <td>15360.0</td>\n      <td>2023-04-01 09:56:31</td>\n      <td>...</td>\n      <td>1240.0</td>\n      <td>96403200.0</td>\n      <td>37040</td>\n      <td>307</td>\n      <td>275</td>\n      <td>275</td>\n      <td>275</td>\n      <td>275</td>\n      <td>275</td>\n      <td>2023-04-02 08:52:37</td>\n    </tr>\n    <tr>\n      <th>272054</th>\n      <td>195709760</td>\n      <td>155140d0-70-60-64287e453b8</td>\n      <td>66</td>\n      <td>4</td>\n      <td>1</td>\n      <td>1</td>\n      <td>1003.0</td>\n      <td>2023-04-01</td>\n      <td>15514.0</td>\n      <td>2023-04-01 11:56:05</td>\n      <td>...</td>\n      <td>29124.0</td>\n      <td>96408808.0</td>\n      <td>55583</td>\n      <td>307</td>\n      <td>275</td>\n      <td>275</td>\n      <td>275</td>\n      <td>275</td>\n      <td>275</td>\n      <td>2023-04-02 08:52:37</td>\n    </tr>\n    <tr>\n      <th>329901</th>\n      <td>195906358</td>\n      <td>1308607q-70-66-6428d2d5fce</td>\n      <td>66</td>\n      <td>4</td>\n      <td>1</td>\n      <td>1</td>\n      <td>1003.0</td>\n      <td>2023-04-01</td>\n      <td>13086.0</td>\n      <td>2023-04-01 17:56:53</td>\n      <td>...</td>\n      <td>29124.0</td>\n      <td>96440468.0</td>\n      <td>55778</td>\n      <td>218</td>\n      <td>300</td>\n      <td>300</td>\n      <td>575</td>\n      <td>300</td>\n      <td>157</td>\n      <td>2023-04-02 08:52:37</td>\n    </tr>\n    <tr>\n      <th>330115</th>\n      <td>195907290</td>\n      <td>1308607q-70-66-6428d2d5fce</td>\n      <td>84</td>\n      <td>4</td>\n      <td>1</td>\n      <td>1</td>\n      <td>1003.0</td>\n      <td>2023-04-01</td>\n      <td>15704.0</td>\n      <td>2023-04-01 17:58:24</td>\n      <td>...</td>\n      <td>29124.0</td>\n      <td>96408992.0</td>\n      <td>56031</td>\n      <td>307</td>\n      <td>275</td>\n      <td>275</td>\n      <td>575</td>\n      <td>300</td>\n      <td>143</td>\n      <td>2023-04-02 08:52:37</td>\n    </tr>\n    <tr>\n      <th>312589</th>\n      <td>195845680</td>\n      <td>165400a3-70-89-6428b977c22</td>\n      <td>66</td>\n      <td>9</td>\n      <td>1</td>\n      <td>1</td>\n      <td>102.0</td>\n      <td>2023-04-01</td>\n      <td>16540.0</td>\n      <td>2023-04-01 16:08:39</td>\n      <td>...</td>\n      <td>NaN</td>\n      <td>96400124.0</td>\n      <td>2672</td>\n      <td>307</td>\n      <td>275</td>\n      <td>275</td>\n      <td>275</td>\n      <td>275</td>\n      <td>275</td>\n      <td>2023-04-02 08:52:37</td>\n    </tr>\n    <tr>\n      <th>...</th>\n      <td>...</td>\n      <td>...</td>\n      <td>...</td>\n      <td>...</td>\n      <td>...</td>\n      <td>...</td>\n      <td>...</td>\n      <td>...</td>\n      <td>...</td>\n      <td>...</td>\n      <td>...</td>\n      <td>...</td>\n      <td>...</td>\n      <td>...</td>\n      <td>...</td>\n      <td>...</td>\n      <td>...</td>\n      <td>...</td>\n      <td>...</td>\n      <td>...</td>\n      <td>...</td>\n    </tr>\n    <tr>\n      <th>2420764</th>\n      <td>213969342</td>\n      <td>1627607s-70-62-644ec353bea</td>\n      <td>66</td>\n      <td>3577027</td>\n      <td>1</td>\n      <td>1</td>\n      <td>NaN</td>\n      <td>2023-04-30</td>\n      <td>16276.0</td>\n      <td>2023-04-30 12:36:51</td>\n      <td>...</td>\n      <td>NaN</td>\n      <td>96409380.0</td>\n      <td>570</td>\n      <td>307</td>\n      <td>275</td>\n      <td>275</td>\n      <td>275</td>\n      <td>275</td>\n      <td>275</td>\n      <td>2023-05-02 11:03:28</td>\n    </tr>\n    <tr>\n      <th>2410688</th>\n      <td>213910784</td>\n      <td>13065018-70-43-644e904a1a2</td>\n      <td>66</td>\n      <td>3577863</td>\n      <td>1</td>\n      <td>1</td>\n      <td>NaN</td>\n      <td>2023-04-30</td>\n      <td>13065.0</td>\n      <td>2023-04-30 08:59:06</td>\n      <td>...</td>\n      <td>NaN</td>\n      <td>96440440.0</td>\n      <td>1108</td>\n      <td>218</td>\n      <td>300</td>\n      <td>225</td>\n      <td>225</td>\n      <td>225</td>\n      <td>225</td>\n      <td>2023-05-02 11:03:28</td>\n    </tr>\n    <tr>\n      <th>2415592</th>\n      <td>213938742</td>\n      <td>1286409v-70-38-644eabd0630</td>\n      <td>66</td>\n      <td>3577981</td>\n      <td>1</td>\n      <td>1</td>\n      <td>NaN</td>\n      <td>2023-04-30</td>\n      <td>12864.0</td>\n      <td>2023-04-30 10:56:32</td>\n      <td>...</td>\n      <td>NaN</td>\n      <td>96440504.0</td>\n      <td>990001</td>\n      <td>218</td>\n      <td>325</td>\n      <td>325</td>\n      <td>325</td>\n      <td>325</td>\n      <td>325</td>\n      <td>2023-05-02 11:03:28</td>\n    </tr>\n    <tr>\n      <th>5216060</th>\n      <td>214045842</td>\n      <td>1284301e-70-183-644ef8d330c</td>\n      <td>66</td>\n      <td>3577981</td>\n      <td>1</td>\n      <td>1</td>\n      <td>NaN</td>\n      <td>2023-04-30</td>\n      <td>12843.0</td>\n      <td>2023-04-30 16:25:07</td>\n      <td>...</td>\n      <td>NaN</td>\n      <td>96440452.0</td>\n      <td>501</td>\n      <td>218</td>\n      <td>300</td>\n      <td>300</td>\n      <td>300</td>\n      <td>300</td>\n      <td>300</td>\n      <td>2023-05-02 11:03:28</td>\n    </tr>\n    <tr>\n      <th>2441357</th>\n      <td>214089128</td>\n      <td>1293809o-70-282-644f1a6e7c0</td>\n      <td>66</td>\n      <td>3578298</td>\n      <td>1</td>\n      <td>1</td>\n      <td>NaN</td>\n      <td>2023-04-30</td>\n      <td>12938.0</td>\n      <td>2023-04-30 18:48:30</td>\n      <td>...</td>\n      <td>NaN</td>\n      <td>96440572.0</td>\n      <td>99903</td>\n      <td>218</td>\n      <td>350</td>\n      <td>225</td>\n      <td>225</td>\n      <td>225</td>\n      <td>225</td>\n      <td>2023-05-02 11:03:28</td>\n    </tr>\n  </tbody>\n</table>\n<p>5229140 rows × 32 columns</p>\n</div>"
     },
     "execution_count": 4,
     "metadata": {},
     "output_type": "execute_result"
    }
   ],
   "source": [
    "df_23"
   ]
  },
  {
   "cell_type": "code",
   "execution_count": 5,
   "id": "9d679612",
   "metadata": {
    "collapsed": false
   },
   "outputs": [
    {
     "data": {
      "text/plain": "            txn_id                boarding_guid  txn_type_id  card_id  \\\n256999   195660046   1536003r-70-46-6428623fc2e           66        2   \n272054   195709760   155140d0-70-60-64287e453b8           66        4   \n329901   195906358   1308607q-70-66-6428d2d5fce           66        4   \n330115   195907290   1308607q-70-66-6428d2d5fce           84        4   \n312589   195845680   165400a3-70-89-6428b977c22           66        9   \n...            ...                          ...          ...      ...   \n2420764  213969342   1627607s-70-62-644ec353bea           66  3577027   \n2410688  213910784   13065018-70-43-644e904a1a2           66  3577863   \n2415592  213938742   1286409v-70-38-644eabd0630           66  3577981   \n5216060  214045842  1284301e-70-183-644ef8d330c           66  3577981   \n2441357  214089128  1293809o-70-282-644f1a6e7c0           66  3578298   \n\n         passenger_type_id  passenger_count  product_id business_date  \\\n256999                   1                1      1003.0    2023-04-01   \n272054                   1                1      1003.0    2023-04-01   \n329901                   1                1      1003.0    2023-04-01   \n330115                   1                1      1003.0    2023-04-01   \n312589                   1                1       102.0    2023-04-01   \n...                    ...              ...         ...           ...   \n2420764                  1                1         NaN    2023-04-30   \n2410688                  1                1         NaN    2023-04-30   \n2415592                  1                1         NaN    2023-04-30   \n5216060                  1                1         NaN    2023-04-30   \n2441357                  1                1         NaN    2023-04-30   \n\n         device_id   device_dtm_pacific  ...  participant_group_id  \\\n256999     15360.0  2023-04-01 09:56:31  ...                1240.0   \n272054     15514.0  2023-04-01 11:56:05  ...               29124.0   \n329901     13086.0  2023-04-01 17:56:53  ...               29124.0   \n330115     15704.0  2023-04-01 17:58:24  ...               29124.0   \n312589     16540.0  2023-04-01 16:08:39  ...                   NaN   \n...            ...                  ...  ...                   ...   \n2420764    16276.0  2023-04-30 12:36:51  ...                   NaN   \n2410688    13065.0  2023-04-30 08:59:06  ...                   NaN   \n2415592    12864.0  2023-04-30 10:56:32  ...                   NaN   \n5216060    12843.0  2023-04-30 16:25:07  ...                   NaN   \n2441357    12938.0  2023-04-30 18:48:30  ...                   NaN   \n\n            stop_id stop_code  ticket_internal_nbr  osfa_cents  ceffv_cents  \\\n256999   96403200.0     37040                  307         275          275   \n272054   96408808.0     55583                  307         275          275   \n329901   96440468.0     55778                  218         300          300   \n330115   96408992.0     56031                  307         275          275   \n312589   96400124.0      2672                  307         275          275   \n...             ...       ...                  ...         ...          ...   \n2420764  96409380.0       570                  307         275          275   \n2410688  96440440.0      1108                  218         300          225   \n2415592  96440504.0    990001                  218         325          325   \n5216060  96440452.0       501                  218         300          300   \n2441357  96440572.0     99903                  218         350          225   \n\n         total_journey_fare_cents linked_journey_fare_cents  \\\n256999                        275                       275   \n272054                        275                       275   \n329901                        575                       300   \n330115                        575                       300   \n312589                        275                       275   \n...                           ...                       ...   \n2420764                       275                       275   \n2410688                       225                       225   \n2415592                       325                       325   \n5216060                       300                       300   \n2441357                       225                       225   \n\n         epurse_equivalent_cents       load_start_dtm  \n256999                       275  2023-04-02 08:52:37  \n272054                       275  2023-04-02 08:52:37  \n329901                       157  2023-04-02 08:52:37  \n330115                       143  2023-04-02 08:52:37  \n312589                       275  2023-04-02 08:52:37  \n...                          ...                  ...  \n2420764                      275  2023-05-02 11:03:28  \n2410688                      225  2023-05-02 11:03:28  \n2415592                      325  2023-05-02 11:03:28  \n5216060                      300  2023-05-02 11:03:28  \n2441357                      225  2023-05-02 11:03:28  \n\n[5229140 rows x 32 columns]",
      "text/html": "<div>\n<style scoped>\n    .dataframe tbody tr th:only-of-type {\n        vertical-align: middle;\n    }\n\n    .dataframe tbody tr th {\n        vertical-align: top;\n    }\n\n    .dataframe thead th {\n        text-align: right;\n    }\n</style>\n<table border=\"1\" class=\"dataframe\">\n  <thead>\n    <tr style=\"text-align: right;\">\n      <th></th>\n      <th>txn_id</th>\n      <th>boarding_guid</th>\n      <th>txn_type_id</th>\n      <th>card_id</th>\n      <th>passenger_type_id</th>\n      <th>passenger_count</th>\n      <th>product_id</th>\n      <th>business_date</th>\n      <th>device_id</th>\n      <th>device_dtm_pacific</th>\n      <th>...</th>\n      <th>participant_group_id</th>\n      <th>stop_id</th>\n      <th>stop_code</th>\n      <th>ticket_internal_nbr</th>\n      <th>osfa_cents</th>\n      <th>ceffv_cents</th>\n      <th>total_journey_fare_cents</th>\n      <th>linked_journey_fare_cents</th>\n      <th>epurse_equivalent_cents</th>\n      <th>load_start_dtm</th>\n    </tr>\n  </thead>\n  <tbody>\n    <tr>\n      <th>256999</th>\n      <td>195660046</td>\n      <td>1536003r-70-46-6428623fc2e</td>\n      <td>66</td>\n      <td>2</td>\n      <td>1</td>\n      <td>1</td>\n      <td>1003.0</td>\n      <td>2023-04-01</td>\n      <td>15360.0</td>\n      <td>2023-04-01 09:56:31</td>\n      <td>...</td>\n      <td>1240.0</td>\n      <td>96403200.0</td>\n      <td>37040</td>\n      <td>307</td>\n      <td>275</td>\n      <td>275</td>\n      <td>275</td>\n      <td>275</td>\n      <td>275</td>\n      <td>2023-04-02 08:52:37</td>\n    </tr>\n    <tr>\n      <th>272054</th>\n      <td>195709760</td>\n      <td>155140d0-70-60-64287e453b8</td>\n      <td>66</td>\n      <td>4</td>\n      <td>1</td>\n      <td>1</td>\n      <td>1003.0</td>\n      <td>2023-04-01</td>\n      <td>15514.0</td>\n      <td>2023-04-01 11:56:05</td>\n      <td>...</td>\n      <td>29124.0</td>\n      <td>96408808.0</td>\n      <td>55583</td>\n      <td>307</td>\n      <td>275</td>\n      <td>275</td>\n      <td>275</td>\n      <td>275</td>\n      <td>275</td>\n      <td>2023-04-02 08:52:37</td>\n    </tr>\n    <tr>\n      <th>329901</th>\n      <td>195906358</td>\n      <td>1308607q-70-66-6428d2d5fce</td>\n      <td>66</td>\n      <td>4</td>\n      <td>1</td>\n      <td>1</td>\n      <td>1003.0</td>\n      <td>2023-04-01</td>\n      <td>13086.0</td>\n      <td>2023-04-01 17:56:53</td>\n      <td>...</td>\n      <td>29124.0</td>\n      <td>96440468.0</td>\n      <td>55778</td>\n      <td>218</td>\n      <td>300</td>\n      <td>300</td>\n      <td>575</td>\n      <td>300</td>\n      <td>157</td>\n      <td>2023-04-02 08:52:37</td>\n    </tr>\n    <tr>\n      <th>330115</th>\n      <td>195907290</td>\n      <td>1308607q-70-66-6428d2d5fce</td>\n      <td>84</td>\n      <td>4</td>\n      <td>1</td>\n      <td>1</td>\n      <td>1003.0</td>\n      <td>2023-04-01</td>\n      <td>15704.0</td>\n      <td>2023-04-01 17:58:24</td>\n      <td>...</td>\n      <td>29124.0</td>\n      <td>96408992.0</td>\n      <td>56031</td>\n      <td>307</td>\n      <td>275</td>\n      <td>275</td>\n      <td>575</td>\n      <td>300</td>\n      <td>143</td>\n      <td>2023-04-02 08:52:37</td>\n    </tr>\n    <tr>\n      <th>312589</th>\n      <td>195845680</td>\n      <td>165400a3-70-89-6428b977c22</td>\n      <td>66</td>\n      <td>9</td>\n      <td>1</td>\n      <td>1</td>\n      <td>102.0</td>\n      <td>2023-04-01</td>\n      <td>16540.0</td>\n      <td>2023-04-01 16:08:39</td>\n      <td>...</td>\n      <td>NaN</td>\n      <td>96400124.0</td>\n      <td>2672</td>\n      <td>307</td>\n      <td>275</td>\n      <td>275</td>\n      <td>275</td>\n      <td>275</td>\n      <td>275</td>\n      <td>2023-04-02 08:52:37</td>\n    </tr>\n    <tr>\n      <th>...</th>\n      <td>...</td>\n      <td>...</td>\n      <td>...</td>\n      <td>...</td>\n      <td>...</td>\n      <td>...</td>\n      <td>...</td>\n      <td>...</td>\n      <td>...</td>\n      <td>...</td>\n      <td>...</td>\n      <td>...</td>\n      <td>...</td>\n      <td>...</td>\n      <td>...</td>\n      <td>...</td>\n      <td>...</td>\n      <td>...</td>\n      <td>...</td>\n      <td>...</td>\n      <td>...</td>\n    </tr>\n    <tr>\n      <th>2420764</th>\n      <td>213969342</td>\n      <td>1627607s-70-62-644ec353bea</td>\n      <td>66</td>\n      <td>3577027</td>\n      <td>1</td>\n      <td>1</td>\n      <td>NaN</td>\n      <td>2023-04-30</td>\n      <td>16276.0</td>\n      <td>2023-04-30 12:36:51</td>\n      <td>...</td>\n      <td>NaN</td>\n      <td>96409380.0</td>\n      <td>570</td>\n      <td>307</td>\n      <td>275</td>\n      <td>275</td>\n      <td>275</td>\n      <td>275</td>\n      <td>275</td>\n      <td>2023-05-02 11:03:28</td>\n    </tr>\n    <tr>\n      <th>2410688</th>\n      <td>213910784</td>\n      <td>13065018-70-43-644e904a1a2</td>\n      <td>66</td>\n      <td>3577863</td>\n      <td>1</td>\n      <td>1</td>\n      <td>NaN</td>\n      <td>2023-04-30</td>\n      <td>13065.0</td>\n      <td>2023-04-30 08:59:06</td>\n      <td>...</td>\n      <td>NaN</td>\n      <td>96440440.0</td>\n      <td>1108</td>\n      <td>218</td>\n      <td>300</td>\n      <td>225</td>\n      <td>225</td>\n      <td>225</td>\n      <td>225</td>\n      <td>2023-05-02 11:03:28</td>\n    </tr>\n    <tr>\n      <th>2415592</th>\n      <td>213938742</td>\n      <td>1286409v-70-38-644eabd0630</td>\n      <td>66</td>\n      <td>3577981</td>\n      <td>1</td>\n      <td>1</td>\n      <td>NaN</td>\n      <td>2023-04-30</td>\n      <td>12864.0</td>\n      <td>2023-04-30 10:56:32</td>\n      <td>...</td>\n      <td>NaN</td>\n      <td>96440504.0</td>\n      <td>990001</td>\n      <td>218</td>\n      <td>325</td>\n      <td>325</td>\n      <td>325</td>\n      <td>325</td>\n      <td>325</td>\n      <td>2023-05-02 11:03:28</td>\n    </tr>\n    <tr>\n      <th>5216060</th>\n      <td>214045842</td>\n      <td>1284301e-70-183-644ef8d330c</td>\n      <td>66</td>\n      <td>3577981</td>\n      <td>1</td>\n      <td>1</td>\n      <td>NaN</td>\n      <td>2023-04-30</td>\n      <td>12843.0</td>\n      <td>2023-04-30 16:25:07</td>\n      <td>...</td>\n      <td>NaN</td>\n      <td>96440452.0</td>\n      <td>501</td>\n      <td>218</td>\n      <td>300</td>\n      <td>300</td>\n      <td>300</td>\n      <td>300</td>\n      <td>300</td>\n      <td>2023-05-02 11:03:28</td>\n    </tr>\n    <tr>\n      <th>2441357</th>\n      <td>214089128</td>\n      <td>1293809o-70-282-644f1a6e7c0</td>\n      <td>66</td>\n      <td>3578298</td>\n      <td>1</td>\n      <td>1</td>\n      <td>NaN</td>\n      <td>2023-04-30</td>\n      <td>12938.0</td>\n      <td>2023-04-30 18:48:30</td>\n      <td>...</td>\n      <td>NaN</td>\n      <td>96440572.0</td>\n      <td>99903</td>\n      <td>218</td>\n      <td>350</td>\n      <td>225</td>\n      <td>225</td>\n      <td>225</td>\n      <td>225</td>\n      <td>2023-05-02 11:03:28</td>\n    </tr>\n  </tbody>\n</table>\n<p>5229140 rows × 32 columns</p>\n</div>"
     },
     "execution_count": 5,
     "metadata": {},
     "output_type": "execute_result"
    }
   ],
   "source": [
    "df_23['device_lat'] = df_23['device_lat'] / 1000000\n",
    "df_23['device_lng'] = df_23['device_lng'] / 1000000\n",
    "df_23"
   ]
  },
  {
   "cell_type": "code",
   "execution_count": 6,
   "id": "758e1c4f",
   "metadata": {
    "collapsed": false
   },
   "outputs": [],
   "source": [
    "df_23['device_dtm_pacific'] = pd.to_datetime(df_23['device_dtm_pacific'])\n",
    "df_23['business_date'] = pd.to_datetime(df_23['business_date'])\n",
    "df_23['time_of_day'] = df_23['device_dtm_pacific'].dt.time\n"
   ]
  },
  {
   "cell_type": "code",
   "execution_count": 7,
   "id": "5b652bb2",
   "metadata": {
    "collapsed": false
   },
   "outputs": [],
   "source": [
    "df_23=df_23[['card_id','business_date','time_of_day','device_lat','device_lng','stop_code','route_number']]"
   ]
  },
  {
   "cell_type": "code",
   "execution_count": 8,
   "id": "1c2b27c0",
   "metadata": {
    "collapsed": false
   },
   "outputs": [
    {
     "data": {
      "text/plain": "         card_id business_date time_of_day  device_lat  device_lng stop_code  \\\n256999         2    2023-04-01    09:56:31   47.690703 -122.360021     37040   \n272054         4    2023-04-01    11:56:05   47.523868 -122.278888     55583   \n329901         4    2023-04-01    17:56:53   47.560280 -122.292892     55778   \n330115         4    2023-04-01    17:58:24   47.560626 -122.293461     56031   \n312589         9    2023-04-01    16:08:39   47.624075 -122.356790      2672   \n...          ...           ...         ...         ...         ...       ...   \n2420764  3577027    2023-04-30    12:36:51   47.608716 -122.336681       570   \n2410688  3577863    2023-04-30    08:59:06   47.611450 -122.337532      1108   \n2415592  3577981    2023-04-30    10:56:32   47.659875 -122.314194    990001   \n5216060  3577981    2023-04-30    16:25:07   47.602139 -122.331055       501   \n2441357  3578298    2023-04-30    18:48:30   47.445053 -122.296692     99903   \n\n        route_number  \n256999            45  \n272054           106  \n329901        100479  \n330115           106  \n312589           674  \n...              ...  \n2420764           40  \n2410688       100479  \n2415592       100479  \n5216060       100479  \n2441357       100479  \n\n[5229140 rows x 7 columns]",
      "text/html": "<div>\n<style scoped>\n    .dataframe tbody tr th:only-of-type {\n        vertical-align: middle;\n    }\n\n    .dataframe tbody tr th {\n        vertical-align: top;\n    }\n\n    .dataframe thead th {\n        text-align: right;\n    }\n</style>\n<table border=\"1\" class=\"dataframe\">\n  <thead>\n    <tr style=\"text-align: right;\">\n      <th></th>\n      <th>card_id</th>\n      <th>business_date</th>\n      <th>time_of_day</th>\n      <th>device_lat</th>\n      <th>device_lng</th>\n      <th>stop_code</th>\n      <th>route_number</th>\n    </tr>\n  </thead>\n  <tbody>\n    <tr>\n      <th>256999</th>\n      <td>2</td>\n      <td>2023-04-01</td>\n      <td>09:56:31</td>\n      <td>47.690703</td>\n      <td>-122.360021</td>\n      <td>37040</td>\n      <td>45</td>\n    </tr>\n    <tr>\n      <th>272054</th>\n      <td>4</td>\n      <td>2023-04-01</td>\n      <td>11:56:05</td>\n      <td>47.523868</td>\n      <td>-122.278888</td>\n      <td>55583</td>\n      <td>106</td>\n    </tr>\n    <tr>\n      <th>329901</th>\n      <td>4</td>\n      <td>2023-04-01</td>\n      <td>17:56:53</td>\n      <td>47.560280</td>\n      <td>-122.292892</td>\n      <td>55778</td>\n      <td>100479</td>\n    </tr>\n    <tr>\n      <th>330115</th>\n      <td>4</td>\n      <td>2023-04-01</td>\n      <td>17:58:24</td>\n      <td>47.560626</td>\n      <td>-122.293461</td>\n      <td>56031</td>\n      <td>106</td>\n    </tr>\n    <tr>\n      <th>312589</th>\n      <td>9</td>\n      <td>2023-04-01</td>\n      <td>16:08:39</td>\n      <td>47.624075</td>\n      <td>-122.356790</td>\n      <td>2672</td>\n      <td>674</td>\n    </tr>\n    <tr>\n      <th>...</th>\n      <td>...</td>\n      <td>...</td>\n      <td>...</td>\n      <td>...</td>\n      <td>...</td>\n      <td>...</td>\n      <td>...</td>\n    </tr>\n    <tr>\n      <th>2420764</th>\n      <td>3577027</td>\n      <td>2023-04-30</td>\n      <td>12:36:51</td>\n      <td>47.608716</td>\n      <td>-122.336681</td>\n      <td>570</td>\n      <td>40</td>\n    </tr>\n    <tr>\n      <th>2410688</th>\n      <td>3577863</td>\n      <td>2023-04-30</td>\n      <td>08:59:06</td>\n      <td>47.611450</td>\n      <td>-122.337532</td>\n      <td>1108</td>\n      <td>100479</td>\n    </tr>\n    <tr>\n      <th>2415592</th>\n      <td>3577981</td>\n      <td>2023-04-30</td>\n      <td>10:56:32</td>\n      <td>47.659875</td>\n      <td>-122.314194</td>\n      <td>990001</td>\n      <td>100479</td>\n    </tr>\n    <tr>\n      <th>5216060</th>\n      <td>3577981</td>\n      <td>2023-04-30</td>\n      <td>16:25:07</td>\n      <td>47.602139</td>\n      <td>-122.331055</td>\n      <td>501</td>\n      <td>100479</td>\n    </tr>\n    <tr>\n      <th>2441357</th>\n      <td>3578298</td>\n      <td>2023-04-30</td>\n      <td>18:48:30</td>\n      <td>47.445053</td>\n      <td>-122.296692</td>\n      <td>99903</td>\n      <td>100479</td>\n    </tr>\n  </tbody>\n</table>\n<p>5229140 rows × 7 columns</p>\n</div>"
     },
     "execution_count": 8,
     "metadata": {},
     "output_type": "execute_result"
    }
   ],
   "source": [
    "df_23"
   ]
  },
  {
   "cell_type": "code",
   "execution_count": 9,
   "outputs": [],
   "source": [
    "df_23=df_23.dropna(subset=['stop_code'])"
   ],
   "metadata": {
    "collapsed": false
   }
  },
  {
   "cell_type": "code",
   "execution_count": 10,
   "outputs": [
    {
     "data": {
      "text/plain": "(4994066, 7)"
     },
     "execution_count": 10,
     "metadata": {},
     "output_type": "execute_result"
    }
   ],
   "source": [
    "df_23.shape"
   ],
   "metadata": {
    "collapsed": false
   }
  },
  {
   "cell_type": "code",
   "execution_count": null,
   "id": "2494ba82",
   "metadata": {
    "collapsed": false
   },
   "outputs": [],
   "source": [
    "import random\n",
    "def random_color():\n",
    "    return \"#{:02x}{:02x}{:02x}\".format(random.randint(0, 200), random.randint(0, 200), random.randint(0, 200))\n",
    "\n",
    "\n",
    "df_23 = df_23.dropna(subset=['device_lat','device_lng'])\n",
    "num_rows = df_23.shape[0]\n",
    "date = df_23.iloc[0]['business_date'].date()\n",
    "card=1\n",
    "lat=df_23.iloc[0]['device_lat']\n",
    "lng=df_23.iloc[0]['device_lng']\n",
    "m = folium.Map(location=[lat, lng], zoom_start=12)\n",
    "# for i in range(204900,num_rows):\n",
    "for i in range(num_rows):\n",
    "    lat=df_23.iloc[i]['device_lat']\n",
    "    lng=df_23.iloc[i]['device_lng']\n",
    "    if(df_23.iloc[i]['business_date'].date()==date):\n",
    "        if(df_23.iloc[i]['card_id']==card) and (i>0):\n",
    "            folium.Marker([lat, lng], tooltip=f\"Stop ID: {df_23.iloc[i]['stop_code']}\").add_to(m)\n",
    "            folium.Marker([df_23.iloc[i-1]['device_lat'], df_23.iloc[i-1]['device_lng']], tooltip=f\"Stop ID: {df_23.iloc[i-1]['stop_code']}\").add_to(m)\n",
    "            line = folium.PolyLine(\n",
    "                locations=[[lat, lng], [df_23.iloc[i-1]['device_lat'], df_23.iloc[i-1]['device_lng']]],\n",
    "                color=co,\n",
    "                weight=2,\n",
    "                tooltip=f'Card ID: {card}'\n",
    "            )\n",
    "            line.add_to(m)\n",
    "            m.save(f'map{date}.html')\n",
    "            print(m)\n",
    "        else:\n",
    "            card=df_23.iloc[i]['card_id']\n",
    "            co=random_color()\n",
    "    else:\n",
    "        date = date + timedelta(days=1)\n",
    "        m = folium.Map(location=[lat, lng], zoom_start=12)\n",
    "\n"
   ]
  },
  {
   "cell_type": "code",
   "execution_count": 11,
   "outputs": [],
   "source": [
    "trip_count = df_23.groupby('card_id')['business_date'].value_counts().reset_index(name='trip_count')"
   ],
   "metadata": {
    "collapsed": false
   }
  },
  {
   "cell_type": "code",
   "execution_count": 12,
   "outputs": [
    {
     "data": {
      "text/plain": "         card_id business_date  trip_count\n0              1    2023-04-02           2\n1              1    2023-04-04           2\n2              1    2023-04-18           2\n3              1    2023-04-20           2\n4              1    2023-04-24           2\n...          ...           ...         ...\n2187773  3577246    2023-04-29           3\n2187774  3577863    2023-04-30           1\n2187775  3577981    2023-04-30           2\n2187776  3578120    2023-04-29           1\n2187777  3578298    2023-04-30           1\n\n[2187778 rows x 3 columns]",
      "text/html": "<div>\n<style scoped>\n    .dataframe tbody tr th:only-of-type {\n        vertical-align: middle;\n    }\n\n    .dataframe tbody tr th {\n        vertical-align: top;\n    }\n\n    .dataframe thead th {\n        text-align: right;\n    }\n</style>\n<table border=\"1\" class=\"dataframe\">\n  <thead>\n    <tr style=\"text-align: right;\">\n      <th></th>\n      <th>card_id</th>\n      <th>business_date</th>\n      <th>trip_count</th>\n    </tr>\n  </thead>\n  <tbody>\n    <tr>\n      <th>0</th>\n      <td>1</td>\n      <td>2023-04-02</td>\n      <td>2</td>\n    </tr>\n    <tr>\n      <th>1</th>\n      <td>1</td>\n      <td>2023-04-04</td>\n      <td>2</td>\n    </tr>\n    <tr>\n      <th>2</th>\n      <td>1</td>\n      <td>2023-04-18</td>\n      <td>2</td>\n    </tr>\n    <tr>\n      <th>3</th>\n      <td>1</td>\n      <td>2023-04-20</td>\n      <td>2</td>\n    </tr>\n    <tr>\n      <th>4</th>\n      <td>1</td>\n      <td>2023-04-24</td>\n      <td>2</td>\n    </tr>\n    <tr>\n      <th>...</th>\n      <td>...</td>\n      <td>...</td>\n      <td>...</td>\n    </tr>\n    <tr>\n      <th>2187773</th>\n      <td>3577246</td>\n      <td>2023-04-29</td>\n      <td>3</td>\n    </tr>\n    <tr>\n      <th>2187774</th>\n      <td>3577863</td>\n      <td>2023-04-30</td>\n      <td>1</td>\n    </tr>\n    <tr>\n      <th>2187775</th>\n      <td>3577981</td>\n      <td>2023-04-30</td>\n      <td>2</td>\n    </tr>\n    <tr>\n      <th>2187776</th>\n      <td>3578120</td>\n      <td>2023-04-29</td>\n      <td>1</td>\n    </tr>\n    <tr>\n      <th>2187777</th>\n      <td>3578298</td>\n      <td>2023-04-30</td>\n      <td>1</td>\n    </tr>\n  </tbody>\n</table>\n<p>2187778 rows × 3 columns</p>\n</div>"
     },
     "execution_count": 12,
     "metadata": {},
     "output_type": "execute_result"
    }
   ],
   "source": [
    "trip_count"
   ],
   "metadata": {
    "collapsed": false
   }
  },
  {
   "cell_type": "code",
   "execution_count": 13,
   "outputs": [
    {
     "name": "stdout",
     "output_type": "stream",
     "text": [
      "656816\n"
     ]
    },
    {
     "data": {
      "text/plain": "30.022058910913263"
     },
     "execution_count": 13,
     "metadata": {},
     "output_type": "execute_result"
    }
   ],
   "source": [
    "count_of_ones = (trip_count['trip_count'] == 1).sum()\n",
    "print(count_of_ones)\n",
    "count_of_non_ones = (trip_count['trip_count'] != 1).sum()\n",
    "count_of_ones/(count_of_ones+count_of_non_ones)*100"
   ],
   "metadata": {
    "collapsed": false
   }
  },
  {
   "cell_type": "code",
   "execution_count": 14,
   "outputs": [
    {
     "data": {
      "text/plain": "(4994066, 7)"
     },
     "execution_count": 14,
     "metadata": {},
     "output_type": "execute_result"
    }
   ],
   "source": [
    "df_23.shape"
   ],
   "metadata": {
    "collapsed": false
   }
  },
  {
   "cell_type": "code",
   "execution_count": 15,
   "outputs": [],
   "source": [
    "df_23=df_23.sort_values(by=['card_id','business_date','time_of_day'], ascending=[True,True,True])"
   ],
   "metadata": {
    "collapsed": false
   }
  },
  {
   "cell_type": "code",
   "execution_count": 16,
   "outputs": [
    {
     "name": "stdout",
     "output_type": "stream",
     "text": [
      "card_id          False\n",
      "business_date    False\n",
      "time_of_day      False\n",
      "dtype: bool\n"
     ]
    }
   ],
   "source": [
    "nan_exists = df_23[['card_id', 'business_date', 'time_of_day']].isna().any()\n",
    "print(nan_exists)"
   ],
   "metadata": {
    "collapsed": false
   }
  },
  {
   "cell_type": "code",
   "execution_count": 17,
   "outputs": [
    {
     "name": "stdout",
     "output_type": "stream",
     "text": [
      "(4994066, 7)\n",
      "Not all values in 'stop_code' are numbers.\n",
      "(4853394, 7)\n"
     ]
    }
   ],
   "source": [
    "print(df_23.shape)\n",
    "all_numeric = pd.to_numeric(df_23['stop_code'], errors='coerce').notna().all()\n",
    "\n",
    "if all_numeric:\n",
    "    print(\"All values in 'stop_code' are numbers.\")\n",
    "else:\n",
    "    print(\"Not all values in 'stop_code' are numbers.\")\n",
    "\n",
    "df_23 = df_23[pd.to_numeric(df_23['stop_code'], errors='coerce').notna()]\n",
    "print(df_23.shape)"
   ],
   "metadata": {
    "collapsed": false
   }
  },
  {
   "cell_type": "code",
   "execution_count": 18,
   "outputs": [],
   "source": [
    "import warnings\n",
    "warnings.filterwarnings(\"ignore\")\n",
    "import json\n",
    "import numpy as np"
   ],
   "metadata": {
    "collapsed": false
   }
  },
  {
   "cell_type": "code",
   "execution_count": 19,
   "outputs": [
    {
     "data": {
      "text/plain": "         card_id business_date time_of_day  device_lat  device_lng stop_code  \\\n439379         1    2023-04-02    19:24:54   47.611710 -122.324195      3034   \n447746         1    2023-04-02    22:44:02   47.626855 -122.356853      2680   \n679314         1    2023-04-03    23:54:55   47.611960 -122.335771      1110   \n801361         1    2023-04-04    14:09:12   47.701158 -122.355461      5730   \n809699         1    2023-04-04    14:46:02   47.609986 -122.337038      1180   \n...          ...           ...         ...         ...         ...       ...   \n2410688  3577863    2023-04-30    08:59:06   47.611450 -122.337532      1108   \n2415592  3577981    2023-04-30    10:56:32   47.659875 -122.314194    990001   \n5216060  3577981    2023-04-30    16:25:07   47.602139 -122.331055       501   \n5187245  3578120    2023-04-29    21:50:46   47.809686 -122.382485      2727   \n2441357  3578298    2023-04-30    18:48:30   47.445053 -122.296692     99903   \n\n        route_number  \n439379             2  \n447746             2  \n679314            11  \n801361             5  \n809699            10  \n...              ...  \n2410688       100479  \n2415592       100479  \n5216060       100479  \n5187245          196  \n2441357       100479  \n\n[4853394 rows x 7 columns]",
      "text/html": "<div>\n<style scoped>\n    .dataframe tbody tr th:only-of-type {\n        vertical-align: middle;\n    }\n\n    .dataframe tbody tr th {\n        vertical-align: top;\n    }\n\n    .dataframe thead th {\n        text-align: right;\n    }\n</style>\n<table border=\"1\" class=\"dataframe\">\n  <thead>\n    <tr style=\"text-align: right;\">\n      <th></th>\n      <th>card_id</th>\n      <th>business_date</th>\n      <th>time_of_day</th>\n      <th>device_lat</th>\n      <th>device_lng</th>\n      <th>stop_code</th>\n      <th>route_number</th>\n    </tr>\n  </thead>\n  <tbody>\n    <tr>\n      <th>439379</th>\n      <td>1</td>\n      <td>2023-04-02</td>\n      <td>19:24:54</td>\n      <td>47.611710</td>\n      <td>-122.324195</td>\n      <td>3034</td>\n      <td>2</td>\n    </tr>\n    <tr>\n      <th>447746</th>\n      <td>1</td>\n      <td>2023-04-02</td>\n      <td>22:44:02</td>\n      <td>47.626855</td>\n      <td>-122.356853</td>\n      <td>2680</td>\n      <td>2</td>\n    </tr>\n    <tr>\n      <th>679314</th>\n      <td>1</td>\n      <td>2023-04-03</td>\n      <td>23:54:55</td>\n      <td>47.611960</td>\n      <td>-122.335771</td>\n      <td>1110</td>\n      <td>11</td>\n    </tr>\n    <tr>\n      <th>801361</th>\n      <td>1</td>\n      <td>2023-04-04</td>\n      <td>14:09:12</td>\n      <td>47.701158</td>\n      <td>-122.355461</td>\n      <td>5730</td>\n      <td>5</td>\n    </tr>\n    <tr>\n      <th>809699</th>\n      <td>1</td>\n      <td>2023-04-04</td>\n      <td>14:46:02</td>\n      <td>47.609986</td>\n      <td>-122.337038</td>\n      <td>1180</td>\n      <td>10</td>\n    </tr>\n    <tr>\n      <th>...</th>\n      <td>...</td>\n      <td>...</td>\n      <td>...</td>\n      <td>...</td>\n      <td>...</td>\n      <td>...</td>\n      <td>...</td>\n    </tr>\n    <tr>\n      <th>2410688</th>\n      <td>3577863</td>\n      <td>2023-04-30</td>\n      <td>08:59:06</td>\n      <td>47.611450</td>\n      <td>-122.337532</td>\n      <td>1108</td>\n      <td>100479</td>\n    </tr>\n    <tr>\n      <th>2415592</th>\n      <td>3577981</td>\n      <td>2023-04-30</td>\n      <td>10:56:32</td>\n      <td>47.659875</td>\n      <td>-122.314194</td>\n      <td>990001</td>\n      <td>100479</td>\n    </tr>\n    <tr>\n      <th>5216060</th>\n      <td>3577981</td>\n      <td>2023-04-30</td>\n      <td>16:25:07</td>\n      <td>47.602139</td>\n      <td>-122.331055</td>\n      <td>501</td>\n      <td>100479</td>\n    </tr>\n    <tr>\n      <th>5187245</th>\n      <td>3578120</td>\n      <td>2023-04-29</td>\n      <td>21:50:46</td>\n      <td>47.809686</td>\n      <td>-122.382485</td>\n      <td>2727</td>\n      <td>196</td>\n    </tr>\n    <tr>\n      <th>2441357</th>\n      <td>3578298</td>\n      <td>2023-04-30</td>\n      <td>18:48:30</td>\n      <td>47.445053</td>\n      <td>-122.296692</td>\n      <td>99903</td>\n      <td>100479</td>\n    </tr>\n  </tbody>\n</table>\n<p>4853394 rows × 7 columns</p>\n</div>"
     },
     "execution_count": 19,
     "metadata": {},
     "output_type": "execute_result"
    }
   ],
   "source": [
    "df_23"
   ],
   "metadata": {
    "collapsed": false
   }
  },
  {
   "cell_type": "code",
   "execution_count": 20,
   "outputs": [
    {
     "ename": "KeyboardInterrupt",
     "evalue": "",
     "output_type": "error",
     "traceback": [
      "\u001B[0;31m---------------------------------------------------------------------------\u001B[0m",
      "\u001B[0;31mKeyError\u001B[0m                                  Traceback (most recent call last)",
      "\u001B[0;32m~/opt/anaconda3/lib/python3.9/site-packages/pandas/core/indexes/base.py\u001B[0m in \u001B[0;36mget_loc\u001B[0;34m(self, key, method, tolerance)\u001B[0m\n\u001B[1;32m   3628\u001B[0m             \u001B[0;32mtry\u001B[0m\u001B[0;34m:\u001B[0m\u001B[0;34m\u001B[0m\u001B[0;34m\u001B[0m\u001B[0m\n\u001B[0;32m-> 3629\u001B[0;31m                 \u001B[0;32mreturn\u001B[0m \u001B[0mself\u001B[0m\u001B[0;34m.\u001B[0m\u001B[0m_engine\u001B[0m\u001B[0;34m.\u001B[0m\u001B[0mget_loc\u001B[0m\u001B[0;34m(\u001B[0m\u001B[0mcasted_key\u001B[0m\u001B[0;34m)\u001B[0m\u001B[0;34m\u001B[0m\u001B[0;34m\u001B[0m\u001B[0m\n\u001B[0m\u001B[1;32m   3630\u001B[0m             \u001B[0;32mexcept\u001B[0m \u001B[0mKeyError\u001B[0m \u001B[0;32mas\u001B[0m \u001B[0merr\u001B[0m\u001B[0;34m:\u001B[0m\u001B[0;34m\u001B[0m\u001B[0;34m\u001B[0m\u001B[0m\n",
      "\u001B[0;32m~/opt/anaconda3/lib/python3.9/site-packages/pandas/_libs/index.pyx\u001B[0m in \u001B[0;36mpandas._libs.index.IndexEngine.get_loc\u001B[0;34m()\u001B[0m\n",
      "\u001B[0;32m~/opt/anaconda3/lib/python3.9/site-packages/pandas/_libs/index.pyx\u001B[0m in \u001B[0;36mpandas._libs.index.IndexEngine.get_loc\u001B[0;34m()\u001B[0m\n",
      "\u001B[0;32mpandas/_libs/hashtable_class_helper.pxi\u001B[0m in \u001B[0;36mpandas._libs.hashtable.PyObjectHashTable.get_item\u001B[0;34m()\u001B[0m\n",
      "\u001B[0;32mpandas/_libs/hashtable_class_helper.pxi\u001B[0m in \u001B[0;36mpandas._libs.hashtable.PyObjectHashTable.get_item\u001B[0;34m()\u001B[0m\n",
      "\u001B[0;31mKeyError\u001B[0m: 'business_date_2'",
      "\nThe above exception was the direct cause of the following exception:\n",
      "\u001B[0;31mKeyError\u001B[0m                                  Traceback (most recent call last)",
      "\u001B[0;32m~/opt/anaconda3/lib/python3.9/site-packages/pandas/core/series.py\u001B[0m in \u001B[0;36m__setitem__\u001B[0;34m(self, key, value)\u001B[0m\n\u001B[1;32m   1084\u001B[0m         \u001B[0;32mtry\u001B[0m\u001B[0;34m:\u001B[0m\u001B[0;34m\u001B[0m\u001B[0;34m\u001B[0m\u001B[0m\n\u001B[0;32m-> 1085\u001B[0;31m             \u001B[0mself\u001B[0m\u001B[0;34m.\u001B[0m\u001B[0m_set_with_engine\u001B[0m\u001B[0;34m(\u001B[0m\u001B[0mkey\u001B[0m\u001B[0;34m,\u001B[0m \u001B[0mvalue\u001B[0m\u001B[0;34m)\u001B[0m\u001B[0;34m\u001B[0m\u001B[0;34m\u001B[0m\u001B[0m\n\u001B[0m\u001B[1;32m   1086\u001B[0m         \u001B[0;32mexcept\u001B[0m \u001B[0;34m(\u001B[0m\u001B[0mKeyError\u001B[0m\u001B[0;34m,\u001B[0m \u001B[0mValueError\u001B[0m\u001B[0;34m)\u001B[0m\u001B[0;34m:\u001B[0m\u001B[0;34m\u001B[0m\u001B[0;34m\u001B[0m\u001B[0m\n",
      "\u001B[0;32m~/opt/anaconda3/lib/python3.9/site-packages/pandas/core/series.py\u001B[0m in \u001B[0;36m_set_with_engine\u001B[0;34m(self, key, value)\u001B[0m\n\u001B[1;32m   1145\u001B[0m     \u001B[0;32mdef\u001B[0m \u001B[0m_set_with_engine\u001B[0m\u001B[0;34m(\u001B[0m\u001B[0mself\u001B[0m\u001B[0;34m,\u001B[0m \u001B[0mkey\u001B[0m\u001B[0;34m,\u001B[0m \u001B[0mvalue\u001B[0m\u001B[0;34m)\u001B[0m \u001B[0;34m->\u001B[0m \u001B[0;32mNone\u001B[0m\u001B[0;34m:\u001B[0m\u001B[0;34m\u001B[0m\u001B[0;34m\u001B[0m\u001B[0m\n\u001B[0;32m-> 1146\u001B[0;31m         \u001B[0mloc\u001B[0m \u001B[0;34m=\u001B[0m \u001B[0mself\u001B[0m\u001B[0;34m.\u001B[0m\u001B[0mindex\u001B[0m\u001B[0;34m.\u001B[0m\u001B[0mget_loc\u001B[0m\u001B[0;34m(\u001B[0m\u001B[0mkey\u001B[0m\u001B[0;34m)\u001B[0m\u001B[0;34m\u001B[0m\u001B[0;34m\u001B[0m\u001B[0m\n\u001B[0m\u001B[1;32m   1147\u001B[0m \u001B[0;34m\u001B[0m\u001B[0m\n",
      "\u001B[0;32m~/opt/anaconda3/lib/python3.9/site-packages/pandas/core/indexes/base.py\u001B[0m in \u001B[0;36mget_loc\u001B[0;34m(self, key, method, tolerance)\u001B[0m\n\u001B[1;32m   3630\u001B[0m             \u001B[0;32mexcept\u001B[0m \u001B[0mKeyError\u001B[0m \u001B[0;32mas\u001B[0m \u001B[0merr\u001B[0m\u001B[0;34m:\u001B[0m\u001B[0;34m\u001B[0m\u001B[0;34m\u001B[0m\u001B[0m\n\u001B[0;32m-> 3631\u001B[0;31m                 \u001B[0;32mraise\u001B[0m \u001B[0mKeyError\u001B[0m\u001B[0;34m(\u001B[0m\u001B[0mkey\u001B[0m\u001B[0;34m)\u001B[0m \u001B[0;32mfrom\u001B[0m \u001B[0merr\u001B[0m\u001B[0;34m\u001B[0m\u001B[0;34m\u001B[0m\u001B[0m\n\u001B[0m\u001B[1;32m   3632\u001B[0m             \u001B[0;32mexcept\u001B[0m \u001B[0mTypeError\u001B[0m\u001B[0;34m:\u001B[0m\u001B[0;34m\u001B[0m\u001B[0;34m\u001B[0m\u001B[0m\n",
      "\u001B[0;31mKeyError\u001B[0m: 'business_date_2'",
      "\nDuring handling of the above exception, another exception occurred:\n",
      "\u001B[0;31mKeyboardInterrupt\u001B[0m                         Traceback (most recent call last)",
      "\u001B[0;32m/var/folders/fh/zynvgz3502n7wqtzvnrpjnj40000gn/T/ipykernel_18804/948143514.py\u001B[0m in \u001B[0;36m<module>\u001B[0;34m\u001B[0m\n\u001B[1;32m     10\u001B[0m \u001B[0;34m\u001B[0m\u001B[0m\n\u001B[1;32m     11\u001B[0m \u001B[0;31m# Apply the time shift\u001B[0m\u001B[0;34m\u001B[0m\u001B[0;34m\u001B[0m\u001B[0m\n\u001B[0;32m---> 12\u001B[0;31m \u001B[0mdf_23_timeshift\u001B[0m \u001B[0;34m=\u001B[0m \u001B[0mdf_23_timeshift\u001B[0m\u001B[0;34m.\u001B[0m\u001B[0mapply\u001B[0m\u001B[0;34m(\u001B[0m\u001B[0;32mlambda\u001B[0m \u001B[0mrow\u001B[0m\u001B[0;34m:\u001B[0m \u001B[0mshift_time\u001B[0m\u001B[0;34m(\u001B[0m\u001B[0mrow\u001B[0m\u001B[0;34m)\u001B[0m\u001B[0;34m,\u001B[0m \u001B[0maxis\u001B[0m\u001B[0;34m=\u001B[0m\u001B[0;36m1\u001B[0m\u001B[0;34m)\u001B[0m\u001B[0;34m\u001B[0m\u001B[0;34m\u001B[0m\u001B[0m\n\u001B[0m\u001B[1;32m     13\u001B[0m \u001B[0;34m\u001B[0m\u001B[0m\n\u001B[1;32m     14\u001B[0m \u001B[0mprint\u001B[0m\u001B[0;34m(\u001B[0m\u001B[0mdf_23_timeshift\u001B[0m\u001B[0;34m)\u001B[0m\u001B[0;34m\u001B[0m\u001B[0;34m\u001B[0m\u001B[0m\n",
      "\u001B[0;32m~/opt/anaconda3/lib/python3.9/site-packages/pandas/core/frame.py\u001B[0m in \u001B[0;36mapply\u001B[0;34m(self, func, axis, raw, result_type, args, **kwargs)\u001B[0m\n\u001B[1;32m   8846\u001B[0m             \u001B[0mkwargs\u001B[0m\u001B[0;34m=\u001B[0m\u001B[0mkwargs\u001B[0m\u001B[0;34m,\u001B[0m\u001B[0;34m\u001B[0m\u001B[0;34m\u001B[0m\u001B[0m\n\u001B[1;32m   8847\u001B[0m         )\n\u001B[0;32m-> 8848\u001B[0;31m         \u001B[0;32mreturn\u001B[0m \u001B[0mop\u001B[0m\u001B[0;34m.\u001B[0m\u001B[0mapply\u001B[0m\u001B[0;34m(\u001B[0m\u001B[0;34m)\u001B[0m\u001B[0;34m.\u001B[0m\u001B[0m__finalize__\u001B[0m\u001B[0;34m(\u001B[0m\u001B[0mself\u001B[0m\u001B[0;34m,\u001B[0m \u001B[0mmethod\u001B[0m\u001B[0;34m=\u001B[0m\u001B[0;34m\"apply\"\u001B[0m\u001B[0;34m)\u001B[0m\u001B[0;34m\u001B[0m\u001B[0;34m\u001B[0m\u001B[0m\n\u001B[0m\u001B[1;32m   8849\u001B[0m \u001B[0;34m\u001B[0m\u001B[0m\n\u001B[1;32m   8850\u001B[0m     def applymap(\n",
      "\u001B[0;32m~/opt/anaconda3/lib/python3.9/site-packages/pandas/core/apply.py\u001B[0m in \u001B[0;36mapply\u001B[0;34m(self)\u001B[0m\n\u001B[1;32m    731\u001B[0m             \u001B[0;32mreturn\u001B[0m \u001B[0mself\u001B[0m\u001B[0;34m.\u001B[0m\u001B[0mapply_raw\u001B[0m\u001B[0;34m(\u001B[0m\u001B[0;34m)\u001B[0m\u001B[0;34m\u001B[0m\u001B[0;34m\u001B[0m\u001B[0m\n\u001B[1;32m    732\u001B[0m \u001B[0;34m\u001B[0m\u001B[0m\n\u001B[0;32m--> 733\u001B[0;31m         \u001B[0;32mreturn\u001B[0m \u001B[0mself\u001B[0m\u001B[0;34m.\u001B[0m\u001B[0mapply_standard\u001B[0m\u001B[0;34m(\u001B[0m\u001B[0;34m)\u001B[0m\u001B[0;34m\u001B[0m\u001B[0;34m\u001B[0m\u001B[0m\n\u001B[0m\u001B[1;32m    734\u001B[0m \u001B[0;34m\u001B[0m\u001B[0m\n\u001B[1;32m    735\u001B[0m     \u001B[0;32mdef\u001B[0m \u001B[0magg\u001B[0m\u001B[0;34m(\u001B[0m\u001B[0mself\u001B[0m\u001B[0;34m)\u001B[0m\u001B[0;34m:\u001B[0m\u001B[0;34m\u001B[0m\u001B[0;34m\u001B[0m\u001B[0m\n",
      "\u001B[0;32m~/opt/anaconda3/lib/python3.9/site-packages/pandas/core/apply.py\u001B[0m in \u001B[0;36mapply_standard\u001B[0;34m(self)\u001B[0m\n\u001B[1;32m    855\u001B[0m \u001B[0;34m\u001B[0m\u001B[0m\n\u001B[1;32m    856\u001B[0m     \u001B[0;32mdef\u001B[0m \u001B[0mapply_standard\u001B[0m\u001B[0;34m(\u001B[0m\u001B[0mself\u001B[0m\u001B[0;34m)\u001B[0m\u001B[0;34m:\u001B[0m\u001B[0;34m\u001B[0m\u001B[0;34m\u001B[0m\u001B[0m\n\u001B[0;32m--> 857\u001B[0;31m         \u001B[0mresults\u001B[0m\u001B[0;34m,\u001B[0m \u001B[0mres_index\u001B[0m \u001B[0;34m=\u001B[0m \u001B[0mself\u001B[0m\u001B[0;34m.\u001B[0m\u001B[0mapply_series_generator\u001B[0m\u001B[0;34m(\u001B[0m\u001B[0;34m)\u001B[0m\u001B[0;34m\u001B[0m\u001B[0;34m\u001B[0m\u001B[0m\n\u001B[0m\u001B[1;32m    858\u001B[0m \u001B[0;34m\u001B[0m\u001B[0m\n\u001B[1;32m    859\u001B[0m         \u001B[0;31m# wrap results\u001B[0m\u001B[0;34m\u001B[0m\u001B[0;34m\u001B[0m\u001B[0m\n",
      "\u001B[0;32m~/opt/anaconda3/lib/python3.9/site-packages/pandas/core/apply.py\u001B[0m in \u001B[0;36mapply_series_generator\u001B[0;34m(self)\u001B[0m\n\u001B[1;32m    871\u001B[0m             \u001B[0;32mfor\u001B[0m \u001B[0mi\u001B[0m\u001B[0;34m,\u001B[0m \u001B[0mv\u001B[0m \u001B[0;32min\u001B[0m \u001B[0menumerate\u001B[0m\u001B[0;34m(\u001B[0m\u001B[0mseries_gen\u001B[0m\u001B[0;34m)\u001B[0m\u001B[0;34m:\u001B[0m\u001B[0;34m\u001B[0m\u001B[0;34m\u001B[0m\u001B[0m\n\u001B[1;32m    872\u001B[0m                 \u001B[0;31m# ignore SettingWithCopy here in case the user mutates\u001B[0m\u001B[0;34m\u001B[0m\u001B[0;34m\u001B[0m\u001B[0m\n\u001B[0;32m--> 873\u001B[0;31m                 \u001B[0mresults\u001B[0m\u001B[0;34m[\u001B[0m\u001B[0mi\u001B[0m\u001B[0;34m]\u001B[0m \u001B[0;34m=\u001B[0m \u001B[0mself\u001B[0m\u001B[0;34m.\u001B[0m\u001B[0mf\u001B[0m\u001B[0;34m(\u001B[0m\u001B[0mv\u001B[0m\u001B[0;34m)\u001B[0m\u001B[0;34m\u001B[0m\u001B[0;34m\u001B[0m\u001B[0m\n\u001B[0m\u001B[1;32m    874\u001B[0m                 \u001B[0;32mif\u001B[0m \u001B[0misinstance\u001B[0m\u001B[0;34m(\u001B[0m\u001B[0mresults\u001B[0m\u001B[0;34m[\u001B[0m\u001B[0mi\u001B[0m\u001B[0;34m]\u001B[0m\u001B[0;34m,\u001B[0m \u001B[0mABCSeries\u001B[0m\u001B[0;34m)\u001B[0m\u001B[0;34m:\u001B[0m\u001B[0;34m\u001B[0m\u001B[0;34m\u001B[0m\u001B[0m\n\u001B[1;32m    875\u001B[0m                     \u001B[0;31m# If we have a view on v, we need to make a copy because\u001B[0m\u001B[0;34m\u001B[0m\u001B[0;34m\u001B[0m\u001B[0m\n",
      "\u001B[0;32m/var/folders/fh/zynvgz3502n7wqtzvnrpjnj40000gn/T/ipykernel_18804/948143514.py\u001B[0m in \u001B[0;36m<lambda>\u001B[0;34m(row)\u001B[0m\n\u001B[1;32m     10\u001B[0m \u001B[0;34m\u001B[0m\u001B[0m\n\u001B[1;32m     11\u001B[0m \u001B[0;31m# Apply the time shift\u001B[0m\u001B[0;34m\u001B[0m\u001B[0;34m\u001B[0m\u001B[0m\n\u001B[0;32m---> 12\u001B[0;31m \u001B[0mdf_23_timeshift\u001B[0m \u001B[0;34m=\u001B[0m \u001B[0mdf_23_timeshift\u001B[0m\u001B[0;34m.\u001B[0m\u001B[0mapply\u001B[0m\u001B[0;34m(\u001B[0m\u001B[0;32mlambda\u001B[0m \u001B[0mrow\u001B[0m\u001B[0;34m:\u001B[0m \u001B[0mshift_time\u001B[0m\u001B[0;34m(\u001B[0m\u001B[0mrow\u001B[0m\u001B[0;34m)\u001B[0m\u001B[0;34m,\u001B[0m \u001B[0maxis\u001B[0m\u001B[0;34m=\u001B[0m\u001B[0;36m1\u001B[0m\u001B[0;34m)\u001B[0m\u001B[0;34m\u001B[0m\u001B[0;34m\u001B[0m\u001B[0m\n\u001B[0m\u001B[1;32m     13\u001B[0m \u001B[0;34m\u001B[0m\u001B[0m\n\u001B[1;32m     14\u001B[0m \u001B[0mprint\u001B[0m\u001B[0;34m(\u001B[0m\u001B[0mdf_23_timeshift\u001B[0m\u001B[0;34m)\u001B[0m\u001B[0;34m\u001B[0m\u001B[0;34m\u001B[0m\u001B[0m\n",
      "\u001B[0;32m/var/folders/fh/zynvgz3502n7wqtzvnrpjnj40000gn/T/ipykernel_18804/948143514.py\u001B[0m in \u001B[0;36mshift_time\u001B[0;34m(row)\u001B[0m\n\u001B[1;32m      6\u001B[0m         \u001B[0mrow\u001B[0m\u001B[0;34m[\u001B[0m\u001B[0;34m'business_date_2'\u001B[0m\u001B[0;34m]\u001B[0m \u001B[0;34m=\u001B[0m \u001B[0mrow\u001B[0m\u001B[0;34m[\u001B[0m\u001B[0;34m'business_date'\u001B[0m\u001B[0;34m]\u001B[0m\u001B[0;34m-\u001B[0m\u001B[0mpd\u001B[0m\u001B[0;34m.\u001B[0m\u001B[0mDateOffset\u001B[0m\u001B[0;34m(\u001B[0m\u001B[0mdays\u001B[0m\u001B[0;34m=\u001B[0m\u001B[0;36m1\u001B[0m\u001B[0;34m)\u001B[0m\u001B[0;34m\u001B[0m\u001B[0;34m\u001B[0m\u001B[0m\n\u001B[1;32m      7\u001B[0m     \u001B[0;32melse\u001B[0m\u001B[0;34m:\u001B[0m\u001B[0;34m\u001B[0m\u001B[0;34m\u001B[0m\u001B[0m\n\u001B[0;32m----> 8\u001B[0;31m         \u001B[0mrow\u001B[0m\u001B[0;34m[\u001B[0m\u001B[0;34m'business_date_2'\u001B[0m\u001B[0;34m]\u001B[0m \u001B[0;34m=\u001B[0m \u001B[0mrow\u001B[0m\u001B[0;34m[\u001B[0m\u001B[0;34m'business_date'\u001B[0m\u001B[0;34m]\u001B[0m\u001B[0;34m\u001B[0m\u001B[0;34m\u001B[0m\u001B[0m\n\u001B[0m\u001B[1;32m      9\u001B[0m     \u001B[0;32mreturn\u001B[0m \u001B[0mrow\u001B[0m\u001B[0;34m\u001B[0m\u001B[0;34m\u001B[0m\u001B[0m\n\u001B[1;32m     10\u001B[0m \u001B[0;34m\u001B[0m\u001B[0m\n",
      "\u001B[0;32m~/opt/anaconda3/lib/python3.9/site-packages/pandas/core/series.py\u001B[0m in \u001B[0;36m__setitem__\u001B[0;34m(self, key, value)\u001B[0m\n\u001B[1;32m   1102\u001B[0m             \u001B[0;32melse\u001B[0m\u001B[0;34m:\u001B[0m\u001B[0;34m\u001B[0m\u001B[0;34m\u001B[0m\u001B[0m\n\u001B[1;32m   1103\u001B[0m                 \u001B[0;31m# GH#12862 adding a new key to the Series\u001B[0m\u001B[0;34m\u001B[0m\u001B[0;34m\u001B[0m\u001B[0m\n\u001B[0;32m-> 1104\u001B[0;31m                 \u001B[0mself\u001B[0m\u001B[0;34m.\u001B[0m\u001B[0mloc\u001B[0m\u001B[0;34m[\u001B[0m\u001B[0mkey\u001B[0m\u001B[0;34m]\u001B[0m \u001B[0;34m=\u001B[0m \u001B[0mvalue\u001B[0m\u001B[0;34m\u001B[0m\u001B[0;34m\u001B[0m\u001B[0m\n\u001B[0m\u001B[1;32m   1105\u001B[0m \u001B[0;34m\u001B[0m\u001B[0m\n\u001B[1;32m   1106\u001B[0m         \u001B[0;32mexcept\u001B[0m \u001B[0;34m(\u001B[0m\u001B[0mInvalidIndexError\u001B[0m\u001B[0;34m,\u001B[0m \u001B[0mTypeError\u001B[0m\u001B[0;34m)\u001B[0m \u001B[0;32mas\u001B[0m \u001B[0merr\u001B[0m\u001B[0;34m:\u001B[0m\u001B[0;34m\u001B[0m\u001B[0;34m\u001B[0m\u001B[0m\n",
      "\u001B[0;32m~/opt/anaconda3/lib/python3.9/site-packages/pandas/core/indexing.py\u001B[0m in \u001B[0;36m__setitem__\u001B[0;34m(self, key, value)\u001B[0m\n\u001B[1;32m    714\u001B[0m \u001B[0;34m\u001B[0m\u001B[0m\n\u001B[1;32m    715\u001B[0m         \u001B[0miloc\u001B[0m \u001B[0;34m=\u001B[0m \u001B[0mself\u001B[0m \u001B[0;32mif\u001B[0m \u001B[0mself\u001B[0m\u001B[0;34m.\u001B[0m\u001B[0mname\u001B[0m \u001B[0;34m==\u001B[0m \u001B[0;34m\"iloc\"\u001B[0m \u001B[0;32melse\u001B[0m \u001B[0mself\u001B[0m\u001B[0;34m.\u001B[0m\u001B[0mobj\u001B[0m\u001B[0;34m.\u001B[0m\u001B[0miloc\u001B[0m\u001B[0;34m\u001B[0m\u001B[0;34m\u001B[0m\u001B[0m\n\u001B[0;32m--> 716\u001B[0;31m         \u001B[0miloc\u001B[0m\u001B[0;34m.\u001B[0m\u001B[0m_setitem_with_indexer\u001B[0m\u001B[0;34m(\u001B[0m\u001B[0mindexer\u001B[0m\u001B[0;34m,\u001B[0m \u001B[0mvalue\u001B[0m\u001B[0;34m,\u001B[0m \u001B[0mself\u001B[0m\u001B[0;34m.\u001B[0m\u001B[0mname\u001B[0m\u001B[0;34m)\u001B[0m\u001B[0;34m\u001B[0m\u001B[0;34m\u001B[0m\u001B[0m\n\u001B[0m\u001B[1;32m    717\u001B[0m \u001B[0;34m\u001B[0m\u001B[0m\n\u001B[1;32m    718\u001B[0m     \u001B[0;32mdef\u001B[0m \u001B[0m_validate_key\u001B[0m\u001B[0;34m(\u001B[0m\u001B[0mself\u001B[0m\u001B[0;34m,\u001B[0m \u001B[0mkey\u001B[0m\u001B[0;34m,\u001B[0m \u001B[0maxis\u001B[0m\u001B[0;34m:\u001B[0m \u001B[0mint\u001B[0m\u001B[0;34m)\u001B[0m\u001B[0;34m:\u001B[0m\u001B[0;34m\u001B[0m\u001B[0;34m\u001B[0m\u001B[0m\n",
      "\u001B[0;32m~/opt/anaconda3/lib/python3.9/site-packages/pandas/core/indexing.py\u001B[0m in \u001B[0;36m_setitem_with_indexer\u001B[0;34m(self, indexer, value, name)\u001B[0m\n\u001B[1;32m   1683\u001B[0m \u001B[0;34m\u001B[0m\u001B[0m\n\u001B[1;32m   1684\u001B[0m             \u001B[0;32mif\u001B[0m \u001B[0mmissing\u001B[0m\u001B[0;34m:\u001B[0m\u001B[0;34m\u001B[0m\u001B[0;34m\u001B[0m\u001B[0m\n\u001B[0;32m-> 1685\u001B[0;31m                 \u001B[0mself\u001B[0m\u001B[0;34m.\u001B[0m\u001B[0m_setitem_with_indexer_missing\u001B[0m\u001B[0;34m(\u001B[0m\u001B[0mindexer\u001B[0m\u001B[0;34m,\u001B[0m \u001B[0mvalue\u001B[0m\u001B[0;34m)\u001B[0m\u001B[0;34m\u001B[0m\u001B[0;34m\u001B[0m\u001B[0m\n\u001B[0m\u001B[1;32m   1686\u001B[0m                 \u001B[0;32mreturn\u001B[0m\u001B[0;34m\u001B[0m\u001B[0;34m\u001B[0m\u001B[0m\n\u001B[1;32m   1687\u001B[0m \u001B[0;34m\u001B[0m\u001B[0m\n",
      "\u001B[0;32m~/opt/anaconda3/lib/python3.9/site-packages/pandas/core/indexing.py\u001B[0m in \u001B[0;36m_setitem_with_indexer_missing\u001B[0;34m(self, indexer, value)\u001B[0m\n\u001B[1;32m   1971\u001B[0m \u001B[0;34m\u001B[0m\u001B[0m\n\u001B[1;32m   1972\u001B[0m             \u001B[0;31m# this preserves dtype of the value\u001B[0m\u001B[0;34m\u001B[0m\u001B[0;34m\u001B[0m\u001B[0m\n\u001B[0;32m-> 1973\u001B[0;31m             \u001B[0mnew_values\u001B[0m \u001B[0;34m=\u001B[0m \u001B[0mSeries\u001B[0m\u001B[0;34m(\u001B[0m\u001B[0;34m[\u001B[0m\u001B[0mvalue\u001B[0m\u001B[0;34m]\u001B[0m\u001B[0;34m)\u001B[0m\u001B[0;34m.\u001B[0m\u001B[0m_values\u001B[0m\u001B[0;34m\u001B[0m\u001B[0;34m\u001B[0m\u001B[0m\n\u001B[0m\u001B[1;32m   1974\u001B[0m             \u001B[0;32mif\u001B[0m \u001B[0mlen\u001B[0m\u001B[0;34m(\u001B[0m\u001B[0mself\u001B[0m\u001B[0;34m.\u001B[0m\u001B[0mobj\u001B[0m\u001B[0;34m.\u001B[0m\u001B[0m_values\u001B[0m\u001B[0;34m)\u001B[0m\u001B[0;34m:\u001B[0m\u001B[0;34m\u001B[0m\u001B[0;34m\u001B[0m\u001B[0m\n\u001B[1;32m   1975\u001B[0m                 \u001B[0;31m# GH#22717 handle casting compatibility that np.concatenate\u001B[0m\u001B[0;34m\u001B[0m\u001B[0;34m\u001B[0m\u001B[0m\n",
      "\u001B[0;32m~/opt/anaconda3/lib/python3.9/site-packages/pandas/core/series.py\u001B[0m in \u001B[0;36m__init__\u001B[0;34m(self, data, index, dtype, name, copy, fastpath)\u001B[0m\n\u001B[1;32m    449\u001B[0m                     \u001B[0mdata\u001B[0m \u001B[0;34m=\u001B[0m \u001B[0mdata\u001B[0m\u001B[0;34m.\u001B[0m\u001B[0mcopy\u001B[0m\u001B[0;34m(\u001B[0m\u001B[0;34m)\u001B[0m\u001B[0;34m\u001B[0m\u001B[0;34m\u001B[0m\u001B[0m\n\u001B[1;32m    450\u001B[0m             \u001B[0;32melse\u001B[0m\u001B[0;34m:\u001B[0m\u001B[0;34m\u001B[0m\u001B[0;34m\u001B[0m\u001B[0m\n\u001B[0;32m--> 451\u001B[0;31m                 \u001B[0mdata\u001B[0m \u001B[0;34m=\u001B[0m \u001B[0msanitize_array\u001B[0m\u001B[0;34m(\u001B[0m\u001B[0mdata\u001B[0m\u001B[0;34m,\u001B[0m \u001B[0mindex\u001B[0m\u001B[0;34m,\u001B[0m \u001B[0mdtype\u001B[0m\u001B[0;34m,\u001B[0m \u001B[0mcopy\u001B[0m\u001B[0;34m)\u001B[0m\u001B[0;34m\u001B[0m\u001B[0;34m\u001B[0m\u001B[0m\n\u001B[0m\u001B[1;32m    452\u001B[0m \u001B[0;34m\u001B[0m\u001B[0m\n\u001B[1;32m    453\u001B[0m                 \u001B[0mmanager\u001B[0m \u001B[0;34m=\u001B[0m \u001B[0mget_option\u001B[0m\u001B[0;34m(\u001B[0m\u001B[0;34m\"mode.data_manager\"\u001B[0m\u001B[0;34m)\u001B[0m\u001B[0;34m\u001B[0m\u001B[0;34m\u001B[0m\u001B[0m\n",
      "\u001B[0;32m~/opt/anaconda3/lib/python3.9/site-packages/pandas/core/construction.py\u001B[0m in \u001B[0;36msanitize_array\u001B[0;34m(data, index, dtype, copy, raise_cast_failure, allow_2d)\u001B[0m\n\u001B[1;32m    594\u001B[0m             \u001B[0msubarr\u001B[0m \u001B[0;34m=\u001B[0m \u001B[0m_try_cast\u001B[0m\u001B[0;34m(\u001B[0m\u001B[0mdata\u001B[0m\u001B[0;34m,\u001B[0m \u001B[0mdtype\u001B[0m\u001B[0;34m,\u001B[0m \u001B[0mcopy\u001B[0m\u001B[0;34m,\u001B[0m \u001B[0mraise_cast_failure\u001B[0m\u001B[0;34m)\u001B[0m\u001B[0;34m\u001B[0m\u001B[0;34m\u001B[0m\u001B[0m\n\u001B[1;32m    595\u001B[0m         \u001B[0;32melse\u001B[0m\u001B[0;34m:\u001B[0m\u001B[0;34m\u001B[0m\u001B[0;34m\u001B[0m\u001B[0m\n\u001B[0;32m--> 596\u001B[0;31m             \u001B[0msubarr\u001B[0m \u001B[0;34m=\u001B[0m \u001B[0mmaybe_convert_platform\u001B[0m\u001B[0;34m(\u001B[0m\u001B[0mdata\u001B[0m\u001B[0;34m)\u001B[0m\u001B[0;34m\u001B[0m\u001B[0;34m\u001B[0m\u001B[0m\n\u001B[0m\u001B[1;32m    597\u001B[0m             \u001B[0;32mif\u001B[0m \u001B[0msubarr\u001B[0m\u001B[0;34m.\u001B[0m\u001B[0mdtype\u001B[0m \u001B[0;34m==\u001B[0m \u001B[0mobject\u001B[0m\u001B[0;34m:\u001B[0m\u001B[0;34m\u001B[0m\u001B[0;34m\u001B[0m\u001B[0m\n\u001B[1;32m    598\u001B[0m                 \u001B[0msubarr\u001B[0m \u001B[0;34m=\u001B[0m \u001B[0mcast\u001B[0m\u001B[0;34m(\u001B[0m\u001B[0mnp\u001B[0m\u001B[0;34m.\u001B[0m\u001B[0mndarray\u001B[0m\u001B[0;34m,\u001B[0m \u001B[0msubarr\u001B[0m\u001B[0;34m)\u001B[0m\u001B[0;34m\u001B[0m\u001B[0;34m\u001B[0m\u001B[0m\n",
      "\u001B[0;32m~/opt/anaconda3/lib/python3.9/site-packages/pandas/core/dtypes/cast.py\u001B[0m in \u001B[0;36mmaybe_convert_platform\u001B[0;34m(values)\u001B[0m\n\u001B[1;32m    128\u001B[0m     \u001B[0;32mif\u001B[0m \u001B[0marr\u001B[0m\u001B[0;34m.\u001B[0m\u001B[0mdtype\u001B[0m \u001B[0;34m==\u001B[0m \u001B[0m_dtype_obj\u001B[0m\u001B[0;34m:\u001B[0m\u001B[0;34m\u001B[0m\u001B[0;34m\u001B[0m\u001B[0m\n\u001B[1;32m    129\u001B[0m         \u001B[0marr\u001B[0m \u001B[0;34m=\u001B[0m \u001B[0mcast\u001B[0m\u001B[0;34m(\u001B[0m\u001B[0mnp\u001B[0m\u001B[0;34m.\u001B[0m\u001B[0mndarray\u001B[0m\u001B[0;34m,\u001B[0m \u001B[0marr\u001B[0m\u001B[0;34m)\u001B[0m\u001B[0;34m\u001B[0m\u001B[0;34m\u001B[0m\u001B[0m\n\u001B[0;32m--> 130\u001B[0;31m         \u001B[0marr\u001B[0m \u001B[0;34m=\u001B[0m \u001B[0mlib\u001B[0m\u001B[0;34m.\u001B[0m\u001B[0mmaybe_convert_objects\u001B[0m\u001B[0;34m(\u001B[0m\u001B[0marr\u001B[0m\u001B[0;34m)\u001B[0m\u001B[0;34m\u001B[0m\u001B[0;34m\u001B[0m\u001B[0m\n\u001B[0m\u001B[1;32m    131\u001B[0m \u001B[0;34m\u001B[0m\u001B[0m\n\u001B[1;32m    132\u001B[0m     \u001B[0;32mreturn\u001B[0m \u001B[0marr\u001B[0m\u001B[0;34m\u001B[0m\u001B[0;34m\u001B[0m\u001B[0m\n",
      "\u001B[0;32m~/opt/anaconda3/lib/python3.9/site-packages/pandas/_libs/lib.pyx\u001B[0m in \u001B[0;36mpandas._libs.lib.maybe_convert_objects\u001B[0;34m()\u001B[0m\n",
      "\u001B[0;32m~/opt/anaconda3/lib/python3.9/site-packages/numpy/core/numeric.py\u001B[0m in \u001B[0;36mfull\u001B[0;34m(shape, fill_value, dtype, order, like)\u001B[0m\n\u001B[1;32m    341\u001B[0m         \u001B[0mfill_value\u001B[0m \u001B[0;34m=\u001B[0m \u001B[0masarray\u001B[0m\u001B[0;34m(\u001B[0m\u001B[0mfill_value\u001B[0m\u001B[0;34m)\u001B[0m\u001B[0;34m\u001B[0m\u001B[0;34m\u001B[0m\u001B[0m\n\u001B[1;32m    342\u001B[0m         \u001B[0mdtype\u001B[0m \u001B[0;34m=\u001B[0m \u001B[0mfill_value\u001B[0m\u001B[0;34m.\u001B[0m\u001B[0mdtype\u001B[0m\u001B[0;34m\u001B[0m\u001B[0;34m\u001B[0m\u001B[0m\n\u001B[0;32m--> 343\u001B[0;31m     \u001B[0ma\u001B[0m \u001B[0;34m=\u001B[0m \u001B[0mempty\u001B[0m\u001B[0;34m(\u001B[0m\u001B[0mshape\u001B[0m\u001B[0;34m,\u001B[0m \u001B[0mdtype\u001B[0m\u001B[0;34m,\u001B[0m \u001B[0morder\u001B[0m\u001B[0;34m)\u001B[0m\u001B[0;34m\u001B[0m\u001B[0;34m\u001B[0m\u001B[0m\n\u001B[0m\u001B[1;32m    344\u001B[0m     \u001B[0mmultiarray\u001B[0m\u001B[0;34m.\u001B[0m\u001B[0mcopyto\u001B[0m\u001B[0;34m(\u001B[0m\u001B[0ma\u001B[0m\u001B[0;34m,\u001B[0m \u001B[0mfill_value\u001B[0m\u001B[0;34m,\u001B[0m \u001B[0mcasting\u001B[0m\u001B[0;34m=\u001B[0m\u001B[0;34m'unsafe'\u001B[0m\u001B[0;34m)\u001B[0m\u001B[0;34m\u001B[0m\u001B[0;34m\u001B[0m\u001B[0m\n\u001B[1;32m    345\u001B[0m     \u001B[0;32mreturn\u001B[0m \u001B[0ma\u001B[0m\u001B[0;34m\u001B[0m\u001B[0;34m\u001B[0m\u001B[0m\n",
      "\u001B[0;31mKeyboardInterrupt\u001B[0m: "
     ]
    }
   ],
   "source": [
    "df_23_timeshift=df_23\n",
    "am4=pd.to_datetime('04:00:00', format='%H:%M:%S').time()\n",
    "\n",
    "def shift_time(row):\n",
    "    if row['time_of_day'] < am4:\n",
    "        row['business_date_2'] = row['business_date']-pd.DateOffset(days=1)\n",
    "    else:\n",
    "        row['business_date_2'] = row['business_date']\n",
    "    return row\n",
    "\n",
    "# Apply the time shift\n",
    "df_23_timeshift = df_23_timeshift.apply(lambda row: shift_time(row), axis=1)\n",
    "\n",
    "print(df_23_timeshift)"
   ],
   "metadata": {
    "collapsed": false
   }
  },
  {
   "cell_type": "code",
   "execution_count": 21,
   "outputs": [
    {
     "data": {
      "text/plain": "         card_id business_date time_of_day  device_lat  device_lng stop_code  \\\n361120        62    2023-04-01    02:02:30   47.702685 -122.328426     35317   \n264259        62    2023-04-01    10:58:39   47.675816 -122.301040     37990   \n265096        62    2023-04-01    11:05:28   47.676906 -122.315685     23561   \n348278        62    2023-04-01    20:42:25   47.723203 -122.344336     43110   \n448705        62    2023-04-02    00:05:19   47.702662 -122.328320    990005   \n...          ...           ...         ...         ...         ...       ...   \n2405333       62    2023-04-29    00:16:16   47.702662 -122.328320    990005   \n5189800       62    2023-04-29    00:50:20   47.675761 -122.316533     16430   \n5152663       62    2023-04-29    13:29:33   47.666431 -122.300570     25792   \n5154349       62    2023-04-29    13:41:34   47.675835 -122.300730     37990   \n5157239       62    2023-04-29    14:13:29   47.702366 -122.327936     35318   \n\n        route_number  \n361120            67  \n264259            62  \n265096            67  \n348278           345  \n448705        100479  \n...              ...  \n2405333       100479  \n5189800           62  \n5152663          372  \n5154349           62  \n5157239          345  \n\n[113 rows x 7 columns]",
      "text/html": "<div>\n<style scoped>\n    .dataframe tbody tr th:only-of-type {\n        vertical-align: middle;\n    }\n\n    .dataframe tbody tr th {\n        vertical-align: top;\n    }\n\n    .dataframe thead th {\n        text-align: right;\n    }\n</style>\n<table border=\"1\" class=\"dataframe\">\n  <thead>\n    <tr style=\"text-align: right;\">\n      <th></th>\n      <th>card_id</th>\n      <th>business_date</th>\n      <th>time_of_day</th>\n      <th>device_lat</th>\n      <th>device_lng</th>\n      <th>stop_code</th>\n      <th>route_number</th>\n    </tr>\n  </thead>\n  <tbody>\n    <tr>\n      <th>361120</th>\n      <td>62</td>\n      <td>2023-04-01</td>\n      <td>02:02:30</td>\n      <td>47.702685</td>\n      <td>-122.328426</td>\n      <td>35317</td>\n      <td>67</td>\n    </tr>\n    <tr>\n      <th>264259</th>\n      <td>62</td>\n      <td>2023-04-01</td>\n      <td>10:58:39</td>\n      <td>47.675816</td>\n      <td>-122.301040</td>\n      <td>37990</td>\n      <td>62</td>\n    </tr>\n    <tr>\n      <th>265096</th>\n      <td>62</td>\n      <td>2023-04-01</td>\n      <td>11:05:28</td>\n      <td>47.676906</td>\n      <td>-122.315685</td>\n      <td>23561</td>\n      <td>67</td>\n    </tr>\n    <tr>\n      <th>348278</th>\n      <td>62</td>\n      <td>2023-04-01</td>\n      <td>20:42:25</td>\n      <td>47.723203</td>\n      <td>-122.344336</td>\n      <td>43110</td>\n      <td>345</td>\n    </tr>\n    <tr>\n      <th>448705</th>\n      <td>62</td>\n      <td>2023-04-02</td>\n      <td>00:05:19</td>\n      <td>47.702662</td>\n      <td>-122.328320</td>\n      <td>990005</td>\n      <td>100479</td>\n    </tr>\n    <tr>\n      <th>...</th>\n      <td>...</td>\n      <td>...</td>\n      <td>...</td>\n      <td>...</td>\n      <td>...</td>\n      <td>...</td>\n      <td>...</td>\n    </tr>\n    <tr>\n      <th>2405333</th>\n      <td>62</td>\n      <td>2023-04-29</td>\n      <td>00:16:16</td>\n      <td>47.702662</td>\n      <td>-122.328320</td>\n      <td>990005</td>\n      <td>100479</td>\n    </tr>\n    <tr>\n      <th>5189800</th>\n      <td>62</td>\n      <td>2023-04-29</td>\n      <td>00:50:20</td>\n      <td>47.675761</td>\n      <td>-122.316533</td>\n      <td>16430</td>\n      <td>62</td>\n    </tr>\n    <tr>\n      <th>5152663</th>\n      <td>62</td>\n      <td>2023-04-29</td>\n      <td>13:29:33</td>\n      <td>47.666431</td>\n      <td>-122.300570</td>\n      <td>25792</td>\n      <td>372</td>\n    </tr>\n    <tr>\n      <th>5154349</th>\n      <td>62</td>\n      <td>2023-04-29</td>\n      <td>13:41:34</td>\n      <td>47.675835</td>\n      <td>-122.300730</td>\n      <td>37990</td>\n      <td>62</td>\n    </tr>\n    <tr>\n      <th>5157239</th>\n      <td>62</td>\n      <td>2023-04-29</td>\n      <td>14:13:29</td>\n      <td>47.702366</td>\n      <td>-122.327936</td>\n      <td>35318</td>\n      <td>345</td>\n    </tr>\n  </tbody>\n</table>\n<p>113 rows × 7 columns</p>\n</div>"
     },
     "execution_count": 21,
     "metadata": {},
     "output_type": "execute_result"
    }
   ],
   "source": [
    "df_23_timeshift[df_23_timeshift['card_id']==62]"
   ],
   "metadata": {
    "collapsed": false
   }
  },
  {
   "cell_type": "code",
   "execution_count": null,
   "outputs": [],
   "source": [
    "df_23[df_23['card_id']==62]"
   ],
   "metadata": {
    "collapsed": false
   }
  },
  {
   "cell_type": "code",
   "execution_count": null,
   "outputs": [],
   "source": [
    "taz={}\n",
    "am4=pd.to_datetime('04:00:00', format='%H:%M:%S').time()\n",
    "am0=pd.to_datetime('00:00:00', format='%H:%M:%S').time()\n",
    "\n",
    "def custom_investigation(group):\n",
    "\n",
    "    n=len(group['time_of_day'])\n",
    "    origin=group['stop_code'].iloc[0]\n",
    "    o = origin\n",
    "    A=datetime.datetime.combine(group['business_date'].iloc[0].date(),group['time_of_day'].iloc[0])\n",
    "    for i in range(n-1):\n",
    "        taz.setdefault(o, [])\n",
    "        time_diff = datetime.datetime.combine(group['business_date'].iloc[i+1].date(), group['time_of_day'].iloc[i+1]) - A\n",
    "        if time_diff.total_seconds() > 3600 or i+1==n-1:\n",
    "            destination=group['stop_code'].iloc[i+1]\n",
    "            taz.setdefault(destination, [])\n",
    "            taz[o].append(destination)\n",
    "            o=destination\n",
    "            A=datetime.datetime.combine(group['business_date'].iloc[i].date(),group['time_of_day'].iloc[i])\n",
    "            if (i+1==n-1): taz[destination].append(origin)\n",
    "\n",
    "    return taz\n",
    "\n",
    "result = df_23_timeshift.groupby(['card_id', 'business_date_2']).apply(custom_investigation)\n",
    "\n",
    "\n",
    "with open('output.json', \"w\") as json_file:\n",
    "     json.dump(taz, json_file, indent=4)"
   ],
   "metadata": {
    "collapsed": false
   }
  },
  {
   "cell_type": "code",
   "execution_count": null,
   "outputs": [],
   "source": [
    "df_23_timeshift"
   ],
   "metadata": {
    "collapsed": false
   }
  },
  {
   "cell_type": "code",
   "execution_count": 22,
   "outputs": [],
   "source": [
    "with open('output.json', 'r') as json_file:\n",
    "    taz = json.load(json_file)"
   ],
   "metadata": {
    "collapsed": false
   }
  },
  {
   "cell_type": "code",
   "execution_count": 23,
   "outputs": [
    {
     "data": {
      "text/plain": "True"
     },
     "execution_count": 23,
     "metadata": {},
     "output_type": "execute_result"
    }
   ],
   "source": [
    "'35318' in taz['990005']"
   ],
   "metadata": {
    "collapsed": false
   }
  },
  {
   "cell_type": "code",
   "execution_count": 24,
   "outputs": [
    {
     "data": {
      "text/plain": "8921"
     },
     "execution_count": 24,
     "metadata": {},
     "output_type": "execute_result"
    }
   ],
   "source": [
    "len(taz)"
   ],
   "metadata": {
    "collapsed": false
   }
  },
  {
   "cell_type": "code",
   "execution_count": 25,
   "outputs": [
    {
     "name": "stdout",
     "output_type": "stream",
     "text": [
      "9043\n"
     ]
    }
   ],
   "source": [
    "print(df_23['stop_code'].nunique())"
   ],
   "metadata": {
    "collapsed": false
   }
  },
  {
   "cell_type": "code",
   "execution_count": 26,
   "outputs": [
    {
     "name": "stdout",
     "output_type": "stream",
     "text": [
      "3740458\n"
     ]
    }
   ],
   "source": [
    "a=0\n",
    "for key, values in taz.items():\n",
    "    for value in values:\n",
    "        a+=1\n",
    "print(a)"
   ],
   "metadata": {
    "collapsed": false
   }
  },
  {
   "cell_type": "code",
   "execution_count": 27,
   "outputs": [],
   "source": [
    "from collections import Counter\n"
   ],
   "metadata": {
    "collapsed": false
   }
  },
  {
   "cell_type": "code",
   "execution_count": null,
   "outputs": [],
   "source": [
    "for key in taz.keys():\n",
    "    count_dict=dict(Counter(taz[key]))\n",
    "    tuplee = tuple((key2, count) for key2, count in count_dict.items())\n",
    "    taz[key]=tuplee"
   ],
   "metadata": {
    "collapsed": false
   }
  },
  {
   "cell_type": "code",
   "execution_count": null,
   "outputs": [],
   "source": [
    "taz['3034'][0:10]"
   ],
   "metadata": {
    "collapsed": false
   }
  },
  {
   "cell_type": "code",
   "execution_count": null,
   "outputs": [],
   "source": [
    "with open('output_with_counts.json', \"w\") as json_file:\n",
    "     json.dump(taz, json_file, indent=4)"
   ],
   "metadata": {
    "collapsed": false
   }
  },
  {
   "cell_type": "code",
   "execution_count": 28,
   "outputs": [],
   "source": [
    "tazdf = pd.read_csv('filtered_data_with_taz.csv')"
   ],
   "metadata": {
    "collapsed": false
   }
  },
  {
   "cell_type": "code",
   "execution_count": 29,
   "outputs": [
    {
     "data": {
      "text/plain": "         card_id business_date   device_dtm_pacific  device_lat  device_lng  \\\n0          84105    2023-04-07  2023-04-07 13:07:11   47.257842 -122.446707   \n1        3096144    2023-04-07  2023-04-07 13:07:12   47.616942 -122.348403   \n2         461903    2023-04-07  2023-04-07 13:07:12   47.620900 -122.334375   \n3         499699    2023-04-07  2023-04-07 13:07:12   47.305293 -122.232008   \n4          23183    2023-04-07  2023-04-07 13:07:12   47.682291 -122.326883   \n...          ...           ...                  ...         ...         ...   \n4916141   290829    2023-04-25  2023-04-25 09:28:54   47.607246 -122.335754   \n4916142    82178    2023-04-25  2023-04-25 09:33:14   47.607246 -122.335754   \n4916143   116508    2023-04-25  2023-04-25 10:03:09   47.607246 -122.335754   \n4916144   279499    2023-04-25  2023-04-25 11:04:50   47.607246 -122.335754   \n4916145  2962746    2023-04-25  2023-04-25 12:03:31   47.607246 -122.335754   \n\n        stop_code     TAZ COUNTY_NM  \n0             344  2807.0    Pierce  \n1            2220   455.0      King  \n2           10225   433.0      King  \n3            4074  1178.0      King  \n4           17140   175.0      King  \n...           ...     ...       ...  \n4916141       455   521.0      King  \n4916142       455   521.0      King  \n4916143       455   521.0      King  \n4916144       455   521.0      King  \n4916145       455   521.0      King  \n\n[4916146 rows x 8 columns]",
      "text/html": "<div>\n<style scoped>\n    .dataframe tbody tr th:only-of-type {\n        vertical-align: middle;\n    }\n\n    .dataframe tbody tr th {\n        vertical-align: top;\n    }\n\n    .dataframe thead th {\n        text-align: right;\n    }\n</style>\n<table border=\"1\" class=\"dataframe\">\n  <thead>\n    <tr style=\"text-align: right;\">\n      <th></th>\n      <th>card_id</th>\n      <th>business_date</th>\n      <th>device_dtm_pacific</th>\n      <th>device_lat</th>\n      <th>device_lng</th>\n      <th>stop_code</th>\n      <th>TAZ</th>\n      <th>COUNTY_NM</th>\n    </tr>\n  </thead>\n  <tbody>\n    <tr>\n      <th>0</th>\n      <td>84105</td>\n      <td>2023-04-07</td>\n      <td>2023-04-07 13:07:11</td>\n      <td>47.257842</td>\n      <td>-122.446707</td>\n      <td>344</td>\n      <td>2807.0</td>\n      <td>Pierce</td>\n    </tr>\n    <tr>\n      <th>1</th>\n      <td>3096144</td>\n      <td>2023-04-07</td>\n      <td>2023-04-07 13:07:12</td>\n      <td>47.616942</td>\n      <td>-122.348403</td>\n      <td>2220</td>\n      <td>455.0</td>\n      <td>King</td>\n    </tr>\n    <tr>\n      <th>2</th>\n      <td>461903</td>\n      <td>2023-04-07</td>\n      <td>2023-04-07 13:07:12</td>\n      <td>47.620900</td>\n      <td>-122.334375</td>\n      <td>10225</td>\n      <td>433.0</td>\n      <td>King</td>\n    </tr>\n    <tr>\n      <th>3</th>\n      <td>499699</td>\n      <td>2023-04-07</td>\n      <td>2023-04-07 13:07:12</td>\n      <td>47.305293</td>\n      <td>-122.232008</td>\n      <td>4074</td>\n      <td>1178.0</td>\n      <td>King</td>\n    </tr>\n    <tr>\n      <th>4</th>\n      <td>23183</td>\n      <td>2023-04-07</td>\n      <td>2023-04-07 13:07:12</td>\n      <td>47.682291</td>\n      <td>-122.326883</td>\n      <td>17140</td>\n      <td>175.0</td>\n      <td>King</td>\n    </tr>\n    <tr>\n      <th>...</th>\n      <td>...</td>\n      <td>...</td>\n      <td>...</td>\n      <td>...</td>\n      <td>...</td>\n      <td>...</td>\n      <td>...</td>\n      <td>...</td>\n    </tr>\n    <tr>\n      <th>4916141</th>\n      <td>290829</td>\n      <td>2023-04-25</td>\n      <td>2023-04-25 09:28:54</td>\n      <td>47.607246</td>\n      <td>-122.335754</td>\n      <td>455</td>\n      <td>521.0</td>\n      <td>King</td>\n    </tr>\n    <tr>\n      <th>4916142</th>\n      <td>82178</td>\n      <td>2023-04-25</td>\n      <td>2023-04-25 09:33:14</td>\n      <td>47.607246</td>\n      <td>-122.335754</td>\n      <td>455</td>\n      <td>521.0</td>\n      <td>King</td>\n    </tr>\n    <tr>\n      <th>4916143</th>\n      <td>116508</td>\n      <td>2023-04-25</td>\n      <td>2023-04-25 10:03:09</td>\n      <td>47.607246</td>\n      <td>-122.335754</td>\n      <td>455</td>\n      <td>521.0</td>\n      <td>King</td>\n    </tr>\n    <tr>\n      <th>4916144</th>\n      <td>279499</td>\n      <td>2023-04-25</td>\n      <td>2023-04-25 11:04:50</td>\n      <td>47.607246</td>\n      <td>-122.335754</td>\n      <td>455</td>\n      <td>521.0</td>\n      <td>King</td>\n    </tr>\n    <tr>\n      <th>4916145</th>\n      <td>2962746</td>\n      <td>2023-04-25</td>\n      <td>2023-04-25 12:03:31</td>\n      <td>47.607246</td>\n      <td>-122.335754</td>\n      <td>455</td>\n      <td>521.0</td>\n      <td>King</td>\n    </tr>\n  </tbody>\n</table>\n<p>4916146 rows × 8 columns</p>\n</div>"
     },
     "execution_count": 29,
     "metadata": {},
     "output_type": "execute_result"
    }
   ],
   "source": [
    "tazdf=tazdf[['card_id','business_date','device_dtm_pacific','device_lat','device_lng','stop_code','TAZ','COUNTY_NM']]\n",
    "tazdf"
   ],
   "metadata": {
    "collapsed": false
   }
  },
  {
   "cell_type": "code",
   "execution_count": 30,
   "outputs": [
    {
     "name": "stdout",
     "output_type": "stream",
     "text": [
      "9044\n"
     ]
    }
   ],
   "source": [
    "print(tazdf['stop_code'].nunique())"
   ],
   "metadata": {
    "collapsed": false
   }
  },
  {
   "cell_type": "code",
   "execution_count": 33,
   "outputs": [
    {
     "name": "stdout",
     "output_type": "stream",
     "text": [
      "13154\n"
     ]
    }
   ],
   "source": [
    "print(tazdf['TAZ'].isna().sum())\n"
   ],
   "metadata": {
    "collapsed": false
   }
  },
  {
   "cell_type": "code",
   "execution_count": 34,
   "outputs": [
    {
     "name": "stdout",
     "output_type": "stream",
     "text": [
      "0\n"
     ]
    }
   ],
   "source": [
    "print(tazdf['stop_code'].isna().sum())\n"
   ],
   "metadata": {
    "collapsed": false
   }
  },
  {
   "cell_type": "code",
   "execution_count": null,
   "outputs": [],
   "source": [
    "tazdf['device_dtm_pacific'] = pd.to_datetime(tazdf['device_dtm_pacific'])\n",
    "tazdf['business_date'] = pd.to_datetime(tazdf['business_date'])\n",
    "tazdf['time_of_day'] = tazdf['device_dtm_pacific'].dt.time"
   ],
   "metadata": {
    "collapsed": false
   }
  },
  {
   "cell_type": "code",
   "execution_count": null,
   "outputs": [],
   "source": [
    "tazdf.drop(['device_dtm_pacific'],axis=1)"
   ],
   "metadata": {
    "collapsed": false
   }
  },
  {
   "cell_type": "code",
   "execution_count": null,
   "outputs": [],
   "source": [
    "tazdf=tazdf.dropna(subset=['stop_code'])\n",
    "tazdf.shape"
   ],
   "metadata": {
    "collapsed": false
   }
  },
  {
   "cell_type": "code",
   "execution_count": null,
   "outputs": [],
   "source": [
    "print(tazdf.shape)\n",
    "all_numeric = pd.to_numeric(tazdf['stop_code'], errors='coerce').notna().all()\n",
    "\n",
    "if all_numeric:\n",
    "    print(\"All values in 'stop_code' are numbers.\")\n",
    "else:\n",
    "    print(\"Not all values in 'stop_code' are numbers.\")\n",
    "\n",
    "tazdf = tazdf[pd.to_numeric(tazdf['stop_code'], errors='coerce').notna()]\n",
    "print(tazdf.shape)"
   ],
   "metadata": {
    "collapsed": false
   }
  },
  {
   "cell_type": "code",
   "execution_count": null,
   "outputs": [],
   "source": [
    "tazdf['stop_code'].nunique()"
   ],
   "metadata": {
    "collapsed": false
   }
  },
  {
   "cell_type": "markdown",
   "source": [
    "Merging stop codes with TAZs"
   ],
   "metadata": {
    "collapsed": false
   }
  },
  {
   "cell_type": "code",
   "execution_count": null,
   "outputs": [],
   "source": [
    "df = pd.DataFrame({key: pd.Series(value) for key, value in taz.items()})\n",
    "df = df.fillna(value=pd.NA)\n",
    "df.to_csv('stop_codes.csv')"
   ],
   "metadata": {
    "collapsed": false
   }
  },
  {
   "cell_type": "code",
   "execution_count": null,
   "outputs": [],
   "source": [
    "df['3034'].count()"
   ],
   "metadata": {
    "collapsed": false
   }
  },
  {
   "cell_type": "code",
   "execution_count": null,
   "outputs": [],
   "source": [
    "len(taz['3034'])"
   ],
   "metadata": {
    "collapsed": false
   }
  },
  {
   "cell_type": "code",
   "execution_count": null,
   "outputs": [],
   "source": [
    "type(df['3034'][1])"
   ],
   "metadata": {
    "collapsed": false
   }
  },
  {
   "cell_type": "code",
   "execution_count": null,
   "outputs": [],
   "source": [
    "type(tazdf['stop_code'][0])"
   ],
   "metadata": {
    "collapsed": false
   }
  },
  {
   "cell_type": "code",
   "execution_count": null,
   "outputs": [],
   "source": [
    "stop_code_to_taz_mapping = tazdf.set_index('stop_code')['TAZ'].to_dict()\n",
    "for column in df.columns:\n",
    "    if column in stop_code_to_taz_mapping:\n",
    "        df[column] = df[column].map(stop_code_to_taz_mapping)\n",
    "        # df=df.rename(columns={column:stop_code_to_taz_mapping[column]})"
   ],
   "metadata": {
    "collapsed": false
   }
  },
  {
   "cell_type": "code",
   "execution_count": null,
   "outputs": [],
   "source": [
    "df"
   ],
   "metadata": {
    "collapsed": false
   }
  },
  {
   "cell_type": "code",
   "execution_count": null,
   "outputs": [],
   "source": [
    "taz2={}\n",
    "stop_code_to_taz_mapping = tazdf.set_index('stop_code')['TAZ'].to_dict()\n",
    "for key, values in taz.items():\n",
    "    if key in stop_code_to_taz_mapping:\n",
    "        for value in values:\n",
    "            taz2.setdefault(stop_code_to_taz_mapping[key],[])\n",
    "            taz2[stop_code_to_taz_mapping[key]].append(stop_code_to_taz_mapping[value])"
   ],
   "metadata": {
    "collapsed": false
   }
  },
  {
   "cell_type": "code",
   "execution_count": null,
   "outputs": [],
   "source": [
    "stop_code_to_taz_mapping['3034']"
   ],
   "metadata": {
    "collapsed": false
   }
  },
  {
   "cell_type": "code",
   "execution_count": null,
   "outputs": [],
   "source": [
    "taz2[574]"
   ],
   "metadata": {
    "collapsed": false
   }
  },
  {
   "cell_type": "code",
   "execution_count": null,
   "outputs": [],
   "source": [
    "stop_code_to_taz_mapping['2680']"
   ],
   "metadata": {
    "collapsed": false
   }
  },
  {
   "cell_type": "code",
   "execution_count": null,
   "outputs": [],
   "source": [
    "with open('final_TAZs.json', \"w\") as json_file:\n",
    "     json.dump(taz2, json_file, indent=4)"
   ],
   "metadata": {
    "collapsed": false
   }
  },
  {
   "cell_type": "code",
   "execution_count": null,
   "outputs": [],
   "source": [
    "for key in taz2.keys():\n",
    "    count_dict=dict(Counter(taz2[key]))\n",
    "    tuplee = tuple((key2, count) for key2, count in count_dict.items())\n",
    "    taz2[key]=tuplee"
   ],
   "metadata": {
    "collapsed": false
   }
  },
  {
   "cell_type": "code",
   "execution_count": null,
   "outputs": [],
   "source": [
    "with open('final_TAZs_count.json', \"w\") as json_file:\n",
    "     json.dump(taz2, json_file, indent=4)"
   ],
   "metadata": {
    "collapsed": false
   }
  },
  {
   "cell_type": "code",
   "execution_count": null,
   "outputs": [],
   "source": [
    "taz2[574]"
   ],
   "metadata": {
    "collapsed": false
   }
  },
  {
   "cell_type": "code",
   "execution_count": null,
   "outputs": [],
   "source": [
    "taz2[574][0][1]"
   ],
   "metadata": {
    "collapsed": false
   }
  },
  {
   "cell_type": "code",
   "execution_count": 40,
   "outputs": [],
   "source": [
    "with open('output_with_counts.json', 'r') as json_file:\n",
    "    stops_count = json.load(json_file)"
   ],
   "metadata": {
    "collapsed": false
   }
  },
  {
   "cell_type": "code",
   "execution_count": 41,
   "outputs": [
    {
     "data": {
      "text/plain": "list"
     },
     "execution_count": 41,
     "metadata": {},
     "output_type": "execute_result"
    }
   ],
   "source": [
    "type(stops_count['3034'])"
   ],
   "metadata": {
    "collapsed": false
   }
  },
  {
   "cell_type": "code",
   "execution_count": 42,
   "outputs": [
    {
     "data": {
      "text/plain": "8921"
     },
     "execution_count": 42,
     "metadata": {},
     "output_type": "execute_result"
    }
   ],
   "source": [
    "len(stops_count)"
   ],
   "metadata": {
    "collapsed": false
   }
  },
  {
   "cell_type": "code",
   "execution_count": 43,
   "outputs": [],
   "source": [
    "with open('final_TAZs_count.json', 'r') as json_file:\n",
    "    TAZ_counts = json.load(json_file)"
   ],
   "metadata": {
    "collapsed": false
   }
  },
  {
   "cell_type": "code",
   "execution_count": 47,
   "outputs": [
    {
     "data": {
      "text/plain": "2343"
     },
     "execution_count": 47,
     "metadata": {},
     "output_type": "execute_result"
    }
   ],
   "source": [
    "len(TAZ_counts)"
   ],
   "metadata": {
    "collapsed": false
   }
  },
  {
   "cell_type": "code",
   "execution_count": 53,
   "outputs": [
    {
     "data": {
      "text/plain": "list"
     },
     "execution_count": 53,
     "metadata": {},
     "output_type": "execute_result"
    }
   ],
   "source": [
    "type(TAZ_counts['966.0'])"
   ],
   "metadata": {
    "collapsed": false
   }
  },
  {
   "cell_type": "code",
   "execution_count": 54,
   "outputs": [
    {
     "data": {
      "text/plain": "2343"
     },
     "execution_count": 54,
     "metadata": {},
     "output_type": "execute_result"
    }
   ],
   "source": [
    "len(TAZ_counts)\n"
   ],
   "metadata": {
    "collapsed": false
   }
  },
  {
   "cell_type": "code",
   "execution_count": 59,
   "outputs": [
    {
     "data": {
      "text/plain": "52"
     },
     "execution_count": 59,
     "metadata": {},
     "output_type": "execute_result"
    }
   ],
   "source": [
    "len(TAZ_counts['966.0'])"
   ],
   "metadata": {
    "collapsed": false
   }
  },
  {
   "cell_type": "code",
   "execution_count": 64,
   "outputs": [],
   "source": [
    "TAZ_flows=[]\n",
    "\n",
    "for key in TAZ_counts.keys():\n",
    "    for i in range(len(TAZ_counts[key])):\n",
    "        TAZ_flows.append(TAZ_counts[key][i][1])\n"
   ],
   "metadata": {
    "collapsed": false
   }
  },
  {
   "cell_type": "code",
   "execution_count": 65,
   "outputs": [
    {
     "data": {
      "text/plain": "241918"
     },
     "execution_count": 65,
     "metadata": {},
     "output_type": "execute_result"
    }
   ],
   "source": [
    "len(TAZ_flows)"
   ],
   "metadata": {
    "collapsed": false
   }
  },
  {
   "cell_type": "code",
   "execution_count": 92,
   "outputs": [
    {
     "data": {
      "text/plain": "3739588"
     },
     "execution_count": 92,
     "metadata": {},
     "output_type": "execute_result"
    }
   ],
   "source": [
    "total_flow=sum(TAZ_flows)\n",
    "total_flow"
   ],
   "metadata": {
    "collapsed": false
   }
  },
  {
   "cell_type": "code",
   "execution_count": 69,
   "outputs": [],
   "source": [
    "import matplotlib.pyplot as plt"
   ],
   "metadata": {
    "collapsed": false
   }
  },
  {
   "cell_type": "code",
   "execution_count": 105,
   "outputs": [
    {
     "data": {
      "text/plain": "Text(0.5, 1.0, 'Histogram of TAZ Flows')"
     },
     "execution_count": 105,
     "metadata": {},
     "output_type": "execute_result"
    },
    {
     "data": {
      "text/plain": "<Figure size 640x480 with 1 Axes>",
      "image/png": "[encoded data removed]"
     },
     "metadata": {},
     "output_type": "display_data"
    }
   ],
   "source": [
    "plt.hist(TAZ_flows,bins=50, color='blue', edgecolor='black')\n",
    "plt.xlabel('Value')\n",
    "plt.ylabel('Frequency')\n",
    "plt.title('Histogram of TAZ Flows')\n",
    "# plt.xlim(6000, 8000)\n",
    "#plt.ylim(0, 1000)"
   ],
   "metadata": {
    "collapsed": false
   }
  },
  {
   "cell_type": "code",
   "execution_count": 108,
   "outputs": [
    {
     "data": {
      "text/plain": "(0.0, 1000.0)"
     },
     "execution_count": 108,
     "metadata": {},
     "output_type": "execute_result"
    },
    {
     "data": {
      "text/plain": "<Figure size 640x480 with 1 Axes>",
      "image/png": "[encoded data removed]"
     },
     "metadata": {},
     "output_type": "display_data"
    }
   ],
   "source": [
    "plt.hist(TAZ_flows,bins=50, color='blue', edgecolor='black')\n",
    "plt.xlabel('Value')\n",
    "plt.ylabel('Frequency')\n",
    "plt.title('Histogram of TAZ Flows (trimed at 1000)')\n",
    "plt.axhline(y=100, color='red', linestyle='--', label='y=100')\n",
    "# plt.xlim(6000, 8000)\n",
    "plt.ylim(0, 1000)"
   ],
   "metadata": {
    "collapsed": false
   }
  },
  {
   "cell_type": "markdown",
   "source": [
    "According to this: threshold=100"
   ],
   "metadata": {
    "collapsed": false
   }
  },
  {
   "cell_type": "code",
   "execution_count": 110,
   "outputs": [
    {
     "data": {
      "text/plain": "(0.0, 100.0)"
     },
     "execution_count": 110,
     "metadata": {},
     "output_type": "execute_result"
    },
    {
     "data": {
      "text/plain": "<Figure size 640x480 with 1 Axes>",
      "image/png": "[encoded data removed]"
     },
     "metadata": {},
     "output_type": "display_data"
    }
   ],
   "source": [
    "plt.hist(TAZ_flows,bins=50, color='blue', edgecolor='black')\n",
    "plt.xlabel('Value')\n",
    "plt.ylabel('Frequency')\n",
    "plt.title('Histogram of TAZ flows (trimed at 100)')\n",
    "plt.axhline(y=20, color='red', linestyle='--', label='y=20')\n",
    "plt.axhline(y=10, color='yellow', linestyle='--', label='y=10')\n",
    "# plt.xlim(6000, 8000)\n",
    "plt.ylim(0, 100)"
   ],
   "metadata": {
    "collapsed": false
   }
  },
  {
   "cell_type": "markdown",
   "source": [
    "Threshold 10:"
   ],
   "metadata": {
    "collapsed": false
   }
  },
  {
   "cell_type": "code",
   "execution_count": 122,
   "outputs": [],
   "source": [
    "threshold_TAZ = [value for value in TAZ_flows if value <= 10]"
   ],
   "metadata": {
    "collapsed": false
   }
  },
  {
   "cell_type": "code",
   "execution_count": 123,
   "outputs": [
    {
     "data": {
      "text/plain": "197207"
     },
     "execution_count": 123,
     "metadata": {},
     "output_type": "execute_result"
    }
   ],
   "source": [
    "len(threshold_TAZ)"
   ],
   "metadata": {
    "collapsed": false
   }
  },
  {
   "cell_type": "code",
   "execution_count": 124,
   "outputs": [
    {
     "data": {
      "text/plain": "241918"
     },
     "execution_count": 124,
     "metadata": {},
     "output_type": "execute_result"
    }
   ],
   "source": [
    "len(TAZ_flows)"
   ],
   "metadata": {
    "collapsed": false
   }
  },
  {
   "cell_type": "markdown",
   "source": [
    "Percentage of TAZs having flows less than 10:"
   ],
   "metadata": {
    "collapsed": false
   }
  },
  {
   "cell_type": "code",
   "execution_count": 125,
   "outputs": [
    {
     "data": {
      "text/plain": "81.51811770930647"
     },
     "execution_count": 125,
     "metadata": {},
     "output_type": "execute_result"
    }
   ],
   "source": [
    "len(threshold_TAZ)/len(TAZ_flows)*100\n"
   ],
   "metadata": {
    "collapsed": false
   }
  },
  {
   "cell_type": "markdown",
   "source": [
    "Percentage of TAZ flows being less than 10 compared to total flow:"
   ],
   "metadata": {
    "collapsed": false
   }
  },
  {
   "cell_type": "code",
   "execution_count": 126,
   "outputs": [
    {
     "data": {
      "text/plain": "13.494962546676264"
     },
     "execution_count": 126,
     "metadata": {},
     "output_type": "execute_result"
    }
   ],
   "source": [
    "sum(threshold_TAZ)/total_flow*100"
   ],
   "metadata": {
    "collapsed": false
   }
  },
  {
   "cell_type": "markdown",
   "source": [
    "STOP level:"
   ],
   "metadata": {
    "collapsed": false
   }
  },
  {
   "cell_type": "code",
   "execution_count": 127,
   "outputs": [],
   "source": [
    "stop_flows=[]\n",
    "\n",
    "for key in stops_count.keys():\n",
    "    for i in range(len(stops_count[key])):\n",
    "        stop_flows.append(stops_count[key][i][1])\n"
   ],
   "metadata": {
    "collapsed": false
   }
  },
  {
   "cell_type": "code",
   "execution_count": 128,
   "outputs": [
    {
     "data": {
      "text/plain": "555011"
     },
     "execution_count": 128,
     "metadata": {},
     "output_type": "execute_result"
    }
   ],
   "source": [
    "len(stop_flows)"
   ],
   "metadata": {
    "collapsed": false
   }
  },
  {
   "cell_type": "code",
   "execution_count": 129,
   "outputs": [
    {
     "data": {
      "text/plain": "3740458"
     },
     "execution_count": 129,
     "metadata": {},
     "output_type": "execute_result"
    }
   ],
   "source": [
    "total_flow_stops=sum(stop_flows)\n",
    "total_flow_stops"
   ],
   "metadata": {
    "collapsed": false
   }
  },
  {
   "cell_type": "code",
   "execution_count": 130,
   "outputs": [
    {
     "data": {
      "text/plain": "Text(0.5, 1.0, 'Histogram of STOP Flows')"
     },
     "execution_count": 130,
     "metadata": {},
     "output_type": "execute_result"
    },
    {
     "data": {
      "text/plain": "<Figure size 640x480 with 1 Axes>",
      "image/png": "[encoded data removed]"
     },
     "metadata": {},
     "output_type": "display_data"
    }
   ],
   "source": [
    "plt.hist(stop_flows,bins=50, color='green', edgecolor='black')\n",
    "plt.xlabel('Value')\n",
    "plt.ylabel('Frequency')\n",
    "plt.title('Histogram of STOP Flows')\n",
    "# plt.xlim(6000, 8000)\n",
    "#plt.ylim(0, 1000)"
   ],
   "metadata": {
    "collapsed": false
   }
  },
  {
   "cell_type": "code",
   "execution_count": 131,
   "outputs": [
    {
     "data": {
      "text/plain": "(0.0, 1000.0)"
     },
     "execution_count": 131,
     "metadata": {},
     "output_type": "execute_result"
    },
    {
     "data": {
      "text/plain": "<Figure size 640x480 with 1 Axes>",
      "image/png": "[encoded data removed]"
     },
     "metadata": {},
     "output_type": "display_data"
    }
   ],
   "source": [
    "plt.hist(stop_flows,bins=50, color='green', edgecolor='black')\n",
    "plt.xlabel('Value')\n",
    "plt.ylabel('Frequency')\n",
    "plt.title('Histogram of STOP Flows (trimed at 1000)')\n",
    "plt.axhline(y=100, color='red', linestyle='--', label='y=100')\n",
    "# plt.xlim(6000, 8000)\n",
    "plt.ylim(0, 1000)"
   ],
   "metadata": {
    "collapsed": false
   }
  },
  {
   "cell_type": "code",
   "execution_count": 143,
   "outputs": [
    {
     "data": {
      "text/plain": "(0.0, 100.0)"
     },
     "execution_count": 143,
     "metadata": {},
     "output_type": "execute_result"
    },
    {
     "data": {
      "text/plain": "<Figure size 640x480 with 1 Axes>",
      "image/png": "[encoded data removed]"
     },
     "metadata": {},
     "output_type": "display_data"
    }
   ],
   "source": [
    "plt.hist(stop_flows,bins=50, color='green', edgecolor='black')\n",
    "plt.xlabel('Value')\n",
    "plt.ylabel('Frequency')\n",
    "plt.title('Histogram of STOP flows (trimed at 100)')\n",
    "plt.axhline(y=20, color='red', linestyle='--', label='y=20')\n",
    "plt.axhline(y=10, color='yellow', linestyle='--', label='y=10')\n",
    "# plt.xlim(6000, 8000)\n",
    "plt.ylim(0, 100)"
   ],
   "metadata": {
    "collapsed": false
   }
  },
  {
   "cell_type": "markdown",
   "source": [
    "Threshold 10:"
   ],
   "metadata": {
    "collapsed": false
   }
  },
  {
   "cell_type": "code",
   "execution_count": 134,
   "outputs": [],
   "source": [
    "threshold_stop = [value for value in stop_flows if value <= 10]"
   ],
   "metadata": {
    "collapsed": false
   }
  },
  {
   "cell_type": "markdown",
   "source": [
    "Percentage of STOPs having flows less than 10:"
   ],
   "metadata": {
    "collapsed": false
   }
  },
  {
   "cell_type": "code",
   "execution_count": 137,
   "outputs": [
    {
     "data": {
      "text/plain": "89.83335465423208"
     },
     "execution_count": 137,
     "metadata": {},
     "output_type": "execute_result"
    }
   ],
   "source": [
    "len(threshold_stop)/len(stop_flows)*100"
   ],
   "metadata": {
    "collapsed": false
   }
  },
  {
   "cell_type": "markdown",
   "source": [
    "Percentage of STOP flows being less than 10 compared to total flow:"
   ],
   "metadata": {
    "collapsed": false
   }
  },
  {
   "cell_type": "code",
   "execution_count": 138,
   "outputs": [
    {
     "data": {
      "text/plain": "29.327264201335772"
     },
     "execution_count": 138,
     "metadata": {},
     "output_type": "execute_result"
    }
   ],
   "source": [
    "sum(threshold_stop)/total_flow_stops*100"
   ],
   "metadata": {
    "collapsed": false
   }
  }
 ],
 "metadata": {
  "kernelspec": {
   "display_name": "Python 3 (ipykernel)",
   "language": "python",
   "name": "python3"
  },
  "language_info": {
   "codemirror_mode": {
    "name": "ipython",
    "version": 3
   },
   "file_extension": ".py",
   "mimetype": "text/x-python",
   "name": "python",
   "nbconvert_exporter": "python",
   "pygments_lexer": "ipython3",
   "version": "3.9.13"
  }
 },
 "nbformat": 4,
 "nbformat_minor": 5
}
