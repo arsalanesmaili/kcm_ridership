{
 "cells": [
  {
   "cell_type": "code",
   "execution_count": 1,
   "metadata": {
    "collapsed": true
   },
   "outputs": [],
   "source": [
    "import pandas as pd"
   ]
  },
  {
   "cell_type": "code",
   "execution_count": 2,
   "outputs": [],
   "source": [
    "ORCA_04_2023=pd.read_csv(r\"/Users/shakibanaderian/Desktop/Research/ORCA card/kcm_ridership/arsalan/TAZ.csv\")"
   ],
   "metadata": {
    "collapsed": false
   }
  },
  {
   "cell_type": "code",
   "execution_count": 3,
   "outputs": [],
   "source": [
    "PSRC_2018=pd.read_csv(r\"/Users/shakibanaderian/Desktop/Research/ORCA card/PSRC trip data/TAZ_PSRC.csv\")"
   ],
   "metadata": {
    "collapsed": false
   }
  },
  {
   "cell_type": "code",
   "execution_count": 9,
   "outputs": [
    {
     "data": {
      "text/plain": "         index          OD Pairs  Origin  Destination  Flows\n0       224207      (1.0, 256.0)     1.0        256.0      1\n1       224204      (1.0, 320.0)     1.0        320.0      1\n2       224203      (1.0, 435.0)     1.0        435.0      6\n3       224208      (1.0, 437.0)     1.0        437.0      3\n4       224201      (1.0, 455.0)     1.0        455.0     15\n...        ...               ...     ...          ...    ...\n241913  193716  (3436.0, 3399.0)  3436.0       3399.0      6\n241914  193700  (3436.0, 3400.0)  3436.0       3400.0      7\n241915  193745  (3436.0, 3435.0)  3436.0       3435.0      2\n241916  193722  (3436.0, 3436.0)  3436.0       3436.0      4\n241917   23718      (nan, 700.0)     NaN        700.0      1\n\n[241918 rows x 5 columns]",
      "text/html": "<div>\n<style scoped>\n    .dataframe tbody tr th:only-of-type {\n        vertical-align: middle;\n    }\n\n    .dataframe tbody tr th {\n        vertical-align: top;\n    }\n\n    .dataframe thead th {\n        text-align: right;\n    }\n</style>\n<table border=\"1\" class=\"dataframe\">\n  <thead>\n    <tr style=\"text-align: right;\">\n      <th></th>\n      <th>index</th>\n      <th>OD Pairs</th>\n      <th>Origin</th>\n      <th>Destination</th>\n      <th>Flows</th>\n    </tr>\n  </thead>\n  <tbody>\n    <tr>\n      <th>0</th>\n      <td>224207</td>\n      <td>(1.0, 256.0)</td>\n      <td>1.0</td>\n      <td>256.0</td>\n      <td>1</td>\n    </tr>\n    <tr>\n      <th>1</th>\n      <td>224204</td>\n      <td>(1.0, 320.0)</td>\n      <td>1.0</td>\n      <td>320.0</td>\n      <td>1</td>\n    </tr>\n    <tr>\n      <th>2</th>\n      <td>224203</td>\n      <td>(1.0, 435.0)</td>\n      <td>1.0</td>\n      <td>435.0</td>\n      <td>6</td>\n    </tr>\n    <tr>\n      <th>3</th>\n      <td>224208</td>\n      <td>(1.0, 437.0)</td>\n      <td>1.0</td>\n      <td>437.0</td>\n      <td>3</td>\n    </tr>\n    <tr>\n      <th>4</th>\n      <td>224201</td>\n      <td>(1.0, 455.0)</td>\n      <td>1.0</td>\n      <td>455.0</td>\n      <td>15</td>\n    </tr>\n    <tr>\n      <th>...</th>\n      <td>...</td>\n      <td>...</td>\n      <td>...</td>\n      <td>...</td>\n      <td>...</td>\n    </tr>\n    <tr>\n      <th>241913</th>\n      <td>193716</td>\n      <td>(3436.0, 3399.0)</td>\n      <td>3436.0</td>\n      <td>3399.0</td>\n      <td>6</td>\n    </tr>\n    <tr>\n      <th>241914</th>\n      <td>193700</td>\n      <td>(3436.0, 3400.0)</td>\n      <td>3436.0</td>\n      <td>3400.0</td>\n      <td>7</td>\n    </tr>\n    <tr>\n      <th>241915</th>\n      <td>193745</td>\n      <td>(3436.0, 3435.0)</td>\n      <td>3436.0</td>\n      <td>3435.0</td>\n      <td>2</td>\n    </tr>\n    <tr>\n      <th>241916</th>\n      <td>193722</td>\n      <td>(3436.0, 3436.0)</td>\n      <td>3436.0</td>\n      <td>3436.0</td>\n      <td>4</td>\n    </tr>\n    <tr>\n      <th>241917</th>\n      <td>23718</td>\n      <td>(nan, 700.0)</td>\n      <td>NaN</td>\n      <td>700.0</td>\n      <td>1</td>\n    </tr>\n  </tbody>\n</table>\n<p>241918 rows × 5 columns</p>\n</div>"
     },
     "execution_count": 9,
     "metadata": {},
     "output_type": "execute_result"
    }
   ],
   "source": [
    "ORCA_04_2023=ORCA_04_2023.sort_values(['Origin','Destination']).reset_index()\n",
    "ORCA_04_2023"
   ],
   "metadata": {
    "collapsed": false
   }
  },
  {
   "cell_type": "code",
   "execution_count": 5,
   "outputs": [
    {
     "data": {
      "text/plain": "         otaz  dtaz  count\n0           1     1     47\n1           1     2     68\n2           1     3     66\n3           1     4     71\n4           1     5     15\n...       ...   ...    ...\n2598592  3951  3416      1\n2598593  3951  3425      1\n2598594  3951  3437      1\n2598595  3951  3441      1\n2598596  3951  3463      1\n\n[2598597 rows x 3 columns]",
      "text/html": "<div>\n<style scoped>\n    .dataframe tbody tr th:only-of-type {\n        vertical-align: middle;\n    }\n\n    .dataframe tbody tr th {\n        vertical-align: top;\n    }\n\n    .dataframe thead th {\n        text-align: right;\n    }\n</style>\n<table border=\"1\" class=\"dataframe\">\n  <thead>\n    <tr style=\"text-align: right;\">\n      <th></th>\n      <th>otaz</th>\n      <th>dtaz</th>\n      <th>count</th>\n    </tr>\n  </thead>\n  <tbody>\n    <tr>\n      <th>0</th>\n      <td>1</td>\n      <td>1</td>\n      <td>47</td>\n    </tr>\n    <tr>\n      <th>1</th>\n      <td>1</td>\n      <td>2</td>\n      <td>68</td>\n    </tr>\n    <tr>\n      <th>2</th>\n      <td>1</td>\n      <td>3</td>\n      <td>66</td>\n    </tr>\n    <tr>\n      <th>3</th>\n      <td>1</td>\n      <td>4</td>\n      <td>71</td>\n    </tr>\n    <tr>\n      <th>4</th>\n      <td>1</td>\n      <td>5</td>\n      <td>15</td>\n    </tr>\n    <tr>\n      <th>...</th>\n      <td>...</td>\n      <td>...</td>\n      <td>...</td>\n    </tr>\n    <tr>\n      <th>2598592</th>\n      <td>3951</td>\n      <td>3416</td>\n      <td>1</td>\n    </tr>\n    <tr>\n      <th>2598593</th>\n      <td>3951</td>\n      <td>3425</td>\n      <td>1</td>\n    </tr>\n    <tr>\n      <th>2598594</th>\n      <td>3951</td>\n      <td>3437</td>\n      <td>1</td>\n    </tr>\n    <tr>\n      <th>2598595</th>\n      <td>3951</td>\n      <td>3441</td>\n      <td>1</td>\n    </tr>\n    <tr>\n      <th>2598596</th>\n      <td>3951</td>\n      <td>3463</td>\n      <td>1</td>\n    </tr>\n  </tbody>\n</table>\n<p>2598597 rows × 3 columns</p>\n</div>"
     },
     "execution_count": 5,
     "metadata": {},
     "output_type": "execute_result"
    }
   ],
   "source": [
    "PSRC_2018"
   ],
   "metadata": {
    "collapsed": false
   }
  },
  {
   "cell_type": "code",
   "execution_count": 10,
   "outputs": [
    {
     "data": {
      "text/plain": "3835"
     },
     "execution_count": 10,
     "metadata": {},
     "output_type": "execute_result"
    }
   ],
   "source": [
    "PSRC_2018['dtaz'].nunique()"
   ],
   "metadata": {
    "collapsed": false
   }
  },
  {
   "cell_type": "code",
   "execution_count": 15,
   "outputs": [
    {
     "data": {
      "text/plain": "2342"
     },
     "execution_count": 15,
     "metadata": {},
     "output_type": "execute_result"
    }
   ],
   "source": [
    "ORCA_04_2023['Destination'].nunique()"
   ],
   "metadata": {
    "collapsed": false
   }
  },
  {
   "cell_type": "code",
   "execution_count": 14,
   "outputs": [
    {
     "data": {
      "text/plain": "3951"
     },
     "execution_count": 14,
     "metadata": {},
     "output_type": "execute_result"
    }
   ],
   "source": [
    "max(PSRC_2018['dtaz'])\n"
   ],
   "metadata": {
    "collapsed": false
   }
  },
  {
   "cell_type": "code",
   "execution_count": 13,
   "outputs": [
    {
     "data": {
      "text/plain": "3436.0"
     },
     "execution_count": 13,
     "metadata": {},
     "output_type": "execute_result"
    }
   ],
   "source": [
    "max(ORCA_04_2023['Destination'])"
   ],
   "metadata": {
    "collapsed": false
   }
  },
  {
   "cell_type": "code",
   "execution_count": null,
   "outputs": [],
   "source": [],
   "metadata": {
    "collapsed": false
   }
  }
 ],
 "metadata": {
  "kernelspec": {
   "display_name": "Python 3",
   "language": "python",
   "name": "python3"
  },
  "language_info": {
   "codemirror_mode": {
    "name": "ipython",
    "version": 2
   },
   "file_extension": ".py",
   "mimetype": "text/x-python",
   "name": "python",
   "nbconvert_exporter": "python",
   "pygments_lexer": "ipython2",
   "version": "2.7.6"
  }
 },
 "nbformat": 4,
 "nbformat_minor": 0
}
